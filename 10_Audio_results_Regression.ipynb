{
  "nbformat": 4,
  "nbformat_minor": 0,
  "metadata": {
    "colab": {
      "name": "10- Audio results - Regression.ipynb",
      "provenance": []
    },
    "kernelspec": {
      "name": "python3",
      "display_name": "Python 3"
    },
    "language_info": {
      "name": "python"
    }
  },
  "cells": [
    {
      "cell_type": "code",
      "execution_count": null,
      "metadata": {
        "id": "yLrr0_9Teox2"
      },
      "outputs": [],
      "source": [
        "!wget https://perso.esiee.fr/~gueurett/LV_Research/Acoustic_Analysis_Results.csv\n",
        "!wget https://perso.esiee.fr/~gueurett/LV_Research/Auditory_Ratings.csv"
      ]
    },
    {
      "cell_type": "markdown",
      "source": [
        "---\n",
        "---\n",
        "# **Preprocessing**"
      ],
      "metadata": {
        "id": "Suv38GrQfTnG"
      }
    },
    {
      "cell_type": "code",
      "source": [
        "import numpy as np\n",
        "import pandas as pd\n",
        "import tensorflow as tf\n",
        "import matplotlib.pyplot as plt\n",
        "\n",
        "from sklearn import preprocessing\n",
        "from keras import layers, initializers\n",
        "from sklearn.model_selection import KFold\n",
        "from tensorflow.keras.optimizers import Adam\n",
        "\n",
        "\n",
        "from sklearn.metrics import mean_squared_error as MSE\n",
        "from sklearn.metrics import r2_score as r2\n",
        "from sklearn.model_selection import train_test_split\n",
        "\n",
        "from sklearn.svm import SVR\n",
        "from xgboost import XGBRegressor\n",
        "from sklearn.naive_bayes import GaussianNB\n",
        "from sklearn.tree import DecisionTreeRegressor\n",
        "from sklearn.ensemble import AdaBoostRegressor\n",
        "from sklearn.linear_model import LinearRegression\n",
        "from sklearn.neighbors import KNeighborsRegressor\n",
        "from sklearn.ensemble import RandomForestRegressor\n",
        "from sklearn.linear_model import LogisticRegression"
      ],
      "metadata": {
        "id": "Prh_nv4QfTs6"
      },
      "execution_count": null,
      "outputs": []
    },
    {
      "cell_type": "code",
      "source": [
        "data = pd.read_csv('Acoustic_Analysis_Results.csv', delimiter=',', dtype=None, encoding=None)\n",
        "data = data.rename(columns={'Unnamed: 0': 'Filename'}) # rename the not-named column to the filename column\n",
        "\n",
        "labels = pd.read_csv('Auditory_Ratings.csv', delimiter=',', dtype=None, encoding=None)['Outdoor vs. Indoor'][:200].to_numpy()\n",
        "\n",
        "data = data.drop(columns=['Filename'])\n",
        "data = data.fillna(data.mean())\n",
        "\n",
        "for column_name in data.columns:\n",
        "  data[column_name] = (data[column_name] - np.mean(data[column_name])) / np.std(data[column_name])\n",
        "\n",
        "data = data.to_numpy()\n",
        "\n",
        "nb_features = data.shape[1]\n",
        "nb_samples  = data.shape[0]\n",
        "\n",
        "rng     = np.random.default_rng() # shuffle time\n",
        "shuffle = rng.choice(nb_samples, size=(nb_samples), replace=False)\n",
        "data    = data[shuffle]\n",
        "labels  = labels[shuffle]\n",
        "\n",
        "print(\"-----------------------------\")\n",
        "print(\"|  data.shape:   \", data.shape, \"|\")\n",
        "print(\"|  labels.shape: \", labels.shape, \"   |\")\n",
        "print(\"-----------------------------\")"
      ],
      "metadata": {
        "colab": {
          "base_uri": "https://localhost:8080/"
        },
        "id": "wsOXJMuVfoSI",
        "outputId": "9493f0eb-84cd-47ba-e0bf-a60046721883"
      },
      "execution_count": null,
      "outputs": [
        {
          "output_type": "stream",
          "name": "stdout",
          "text": [
            "-----------------------------\n",
            "|  data.shape:    (200, 35) |\n",
            "|  labels.shape:  (200,)    |\n",
            "-----------------------------\n"
          ]
        }
      ]
    },
    {
      "cell_type": "code",
      "source": [
        "spliter = 0.2\n",
        "index = int(nb_samples * (1-spliter))\n",
        "\n",
        "train_x = data[:index]\n",
        "test_x  = data[index:]\n",
        "\n",
        "train_y = labels[:index]\n",
        "test_y  = labels[index:]\n",
        "\n",
        "print(\"----------------------------------\")\n",
        "print(\"| train_x.shape: \", train_x.shape)\n",
        "print(\"| train_y.shape : \", train_y.shape)\n",
        "print(\"----------------------------------\")\n",
        "print(\"| test_x.shape: \", test_x.shape)\n",
        "print(\"| test_y.shape : \", test_y.shape)\n",
        "print(\"----------------------------------\")"
      ],
      "metadata": {
        "colab": {
          "base_uri": "https://localhost:8080/"
        },
        "id": "iXZQoOrqqDg7",
        "outputId": "4ff9b62a-ff56-4192-fa89-c51335321803"
      },
      "execution_count": null,
      "outputs": [
        {
          "output_type": "stream",
          "name": "stdout",
          "text": [
            "----------------------------------\n",
            "| train_x.shape:  (160, 35)\n",
            "| train_y.shape :  (160,)\n",
            "----------------------------------\n",
            "| test_x.shape:  (40, 35)\n",
            "| test_y.shape :  (40,)\n",
            "----------------------------------\n"
          ]
        }
      ]
    },
    {
      "cell_type": "markdown",
      "source": [
        "---\n",
        "---\n",
        "# **Linear Regression**"
      ],
      "metadata": {
        "id": "BxgRTzeoqMC5"
      }
    },
    {
      "cell_type": "code",
      "source": [
        "linreg = LinearRegression()\n",
        "\n",
        "linreg.fit(train_x, train_y)\n",
        "print(linreg.score(test_x, test_y))\n",
        "\n",
        "print(linreg.coef_)\n",
        "plt.plot(linreg.coef_);"
      ],
      "metadata": {
        "colab": {
          "base_uri": "https://localhost:8080/",
          "height": 386
        },
        "id": "HnpCIVnHqP6c",
        "outputId": "739db225-76bf-4bd3-857a-27fd396a7b26"
      },
      "execution_count": null,
      "outputs": [
        {
          "output_type": "stream",
          "name": "stdout",
          "text": [
            "0.2640655761738956\n",
            "[ 0.6237439   0.3660128  -0.11585399 -0.11910731 -0.01615018  6.73615015\n",
            " -6.83928346 -0.06104238 -1.01582673 -0.2383081   0.308553    0.74482782\n",
            " -0.24441888 -0.07192152  0.00767028  0.32572041 -0.60377427 -0.72061724\n",
            "  0.38523182  0.0861131  -0.47429358 -0.55053339  0.94936573 -0.34206162\n",
            " -0.01016006  0.18415381 -0.04209357 -0.0359535  -0.00767955  0.26837689\n",
            "  0.12771342 -0.20191972  0.20407205  0.16151987 -0.26771201]\n"
          ]
        },
        {
          "output_type": "display_data",
          "data": {
            "text/plain": [
              "<Figure size 432x288 with 1 Axes>"
            ],
            "image/png": "[encoded data removed]"
          },
          "metadata": {
            "needs_background": "light"
          }
        }
      ]
    },
    {
      "cell_type": "markdown",
      "source": [
        "---\n",
        "---\n",
        "# **SVR**"
      ],
      "metadata": {
        "id": "h3K_y9sJqpqI"
      }
    },
    {
      "cell_type": "code",
      "source": [
        "svm = SVR(kernel='linear')\n",
        "svm.fit(train_x, train_y)\n",
        "\n",
        "print(svm.score(test_x, test_y))\n",
        "print(svm.coef_)\n",
        "plt.plot(svm.coef_[0])"
      ],
      "metadata": {
        "colab": {
          "base_uri": "https://localhost:8080/",
          "height": 404
        },
        "id": "8g0FGVDgqpwR",
        "outputId": "3841be69-ff5b-4071-bcb8-a1cced7d1959"
      },
      "execution_count": null,
      "outputs": [
        {
          "output_type": "stream",
          "name": "stdout",
          "text": [
            "0.04497535342059478\n",
            "[[ 0.67679506  0.23873353  0.17431751 -0.24220206 -0.04939075  0.27863083\n",
            "  -0.35563051  0.01320405 -1.24514118  0.07818849 -0.01877499  0.81764013\n",
            "  -0.05941876  0.17356679 -0.13912648  0.17153472 -0.5574955  -0.61253912\n",
            "   0.35689223  0.02502507 -0.3405456  -0.17956757  0.46288241 -0.37697614\n",
            "  -0.01585168  0.24605562 -0.04021169  0.17236975  0.09557408  0.2030996\n",
            "   0.455961   -0.01461446  0.22951678  0.24401057 -0.14794517]]\n"
          ]
        },
        {
          "output_type": "execute_result",
          "data": {
            "text/plain": [
              "[<matplotlib.lines.Line2D at 0x7fd54f59fb90>]"
            ]
          },
          "metadata": {},
          "execution_count": 43
        },
        {
          "output_type": "display_data",
          "data": {
            "text/plain": [
              "<Figure size 432x288 with 1 Axes>"
            ],
            "image/png": "[encoded data removed]"
          },
          "metadata": {
            "needs_background": "light"
          }
        }
      ]
    },
    {
      "cell_type": "markdown",
      "source": [
        "---\n",
        "---\n",
        "# **AdaBoostRegressor**"
      ],
      "metadata": {
        "id": "DTyGtyYqq_gb"
      }
    },
    {
      "cell_type": "code",
      "source": [
        "ada = AdaBoostRegressor(n_estimators=100, random_state=8)\n",
        "ada.fit(train_x, train_y)\n",
        "\n",
        "print(ada.score(test_x, test_y))\n",
        "\n",
        "print(ada.feature_importances_)\n",
        "plt.plot(ada.feature_importances_)"
      ],
      "metadata": {
        "colab": {
          "base_uri": "https://localhost:8080/",
          "height": 404
        },
        "id": "UA9uylpkq_m-",
        "outputId": "0026cf61-1fb7-4825-d5a4-8548b412efbe"
      },
      "execution_count": null,
      "outputs": [
        {
          "output_type": "stream",
          "name": "stdout",
          "text": [
            "0.17589305664780552\n",
            "[0.04480593 0.02960116 0.00822818 0.03642953 0.01536883 0.01282275\n",
            " 0.0194133  0.08085133 0.04922474 0.01888646 0.01108674 0.02667171\n",
            " 0.0099309  0.02838611 0.01217618 0.05112629 0.00615145 0.03491355\n",
            " 0.00667596 0.01733623 0.03424781 0.04124728 0.04928093 0.06748399\n",
            " 0.00289885 0.00421942 0.0029465  0.07205788 0.03363867 0.04178541\n",
            " 0.02177433 0.02509476 0.02575626 0.02620336 0.03127722]\n"
          ]
        },
        {
          "output_type": "execute_result",
          "data": {
            "text/plain": [
              "[<matplotlib.lines.Line2D at 0x7fd54f519ad0>]"
            ]
          },
          "metadata": {},
          "execution_count": 44
        },
        {
          "output_type": "display_data",
          "data": {
            "text/plain": [
              "<Figure size 432x288 with 1 Axes>"
            ],
            "image/png": "[encoded data removed]"
          },
          "metadata": {
            "needs_background": "light"
          }
        }
      ]
    },
    {
      "cell_type": "markdown",
      "source": [
        "---\n",
        "---\n",
        "# **RandomForestClassifier**"
      ],
      "metadata": {
        "id": "wyLwm9x6s40p"
      }
    },
    {
      "cell_type": "code",
      "source": [
        "rfc = RandomForestRegressor(n_estimators=1000, max_depth=None, min_samples_split=2, min_samples_leaf=1, max_features='sqrt', oob_score=True, random_state=8)\n",
        "rfc.fit(data, labels)\n",
        "\n",
        "print(rfc.oob_score_)\n",
        "print(rfc.feature_importances_)\n",
        "plt.plot(rfc.feature_importances_)"
      ],
      "metadata": {
        "colab": {
          "base_uri": "https://localhost:8080/",
          "height": 404
        },
        "id": "ApK4gGfes5eQ",
        "outputId": "e24c82e4-3d4e-40ee-ab0f-ba21a8680ab7"
      },
      "execution_count": null,
      "outputs": [
        {
          "output_type": "stream",
          "name": "stdout",
          "text": [
            "0.29893302273664546\n",
            "[0.03994841 0.03218669 0.02266389 0.03137204 0.01746237 0.01987677\n",
            " 0.02048253 0.02824725 0.04551451 0.0220844  0.02143535 0.0278424\n",
            " 0.03187251 0.03033517 0.02515914 0.03490488 0.01971962 0.02722572\n",
            " 0.02022549 0.01159243 0.03907551 0.05583767 0.06413682 0.02711855\n",
            " 0.00304357 0.00430441 0.00774752 0.02999807 0.01914571 0.03372862\n",
            " 0.04781886 0.01990032 0.03021455 0.04932479 0.03845346]\n"
          ]
        },
        {
          "output_type": "execute_result",
          "data": {
            "text/plain": [
              "[<matplotlib.lines.Line2D at 0x7fd54f3eff90>]"
            ]
          },
          "metadata": {},
          "execution_count": 48
        },
        {
          "output_type": "display_data",
          "data": {
            "text/plain": [
              "<Figure size 432x288 with 1 Axes>"
            ],
            "image/png": "[encoded data removed]"
          },
          "metadata": {
            "needs_background": "light"
          }
        }
      ]
    },
    {
      "cell_type": "markdown",
      "source": [
        "---\n",
        "---\n",
        "# **XGBoost**"
      ],
      "metadata": {
        "id": "8AxvRzButTan"
      }
    },
    {
      "cell_type": "code",
      "source": [
        "train_x, test_x, train_y, test_y = train_test_split(data, labels, test_size=0.3, random_state=8)\n",
        "\n",
        "model = XGBRegressor(use_label_encoder=False, eval_metric='mlogloss')\n",
        "model.fit(train_x, train_y)"
      ],
      "metadata": {
        "colab": {
          "base_uri": "https://localhost:8080/"
        },
        "id": "UJno6jQStQ0P",
        "outputId": "a1e2ad3f-93c1-4f0b-cfd9-ffbf86f3e9f0"
      },
      "execution_count": null,
      "outputs": [
        {
          "output_type": "stream",
          "name": "stdout",
          "text": [
            "[22:21:09] WARNING: /workspace/src/objective/regression_obj.cu:152: reg:linear is now deprecated in favor of reg:squarederror.\n"
          ]
        },
        {
          "output_type": "execute_result",
          "data": {
            "text/plain": [
              "XGBRegressor(eval_metric='mlogloss', use_label_encoder=False)"
            ]
          },
          "metadata": {},
          "execution_count": 17
        }
      ]
    },
    {
      "cell_type": "code",
      "source": [
        "predictions = model.predict(test_x)\n",
        "\n",
        "rmse = np.sqrt(MSE(test_y, predictions))\n",
        "r2_score = r2(test_y, predictions)\n",
        "print(\"RMSE : % f\" %(rmse))\n",
        "print(\"r2 : % f\" %(r2_score))"
      ],
      "metadata": {
        "colab": {
          "base_uri": "https://localhost:8080/"
        },
        "id": "vPnE8n0xk7ZW",
        "outputId": "151face7-9ec4-4217-87b9-a1f3b86f85d9"
      },
      "execution_count": null,
      "outputs": [
        {
          "output_type": "stream",
          "name": "stdout",
          "text": [
            "RMSE :  1.258851\n",
            "r2 :  0.296121\n"
          ]
        }
      ]
    },
    {
      "cell_type": "markdown",
      "source": [
        "# **KNeighborsRegressor**\n",
        "\n",
        "> Bloc en retrait\n",
        "\n"
      ],
      "metadata": {
        "id": "VZ7j5WMcnn66"
      }
    },
    {
      "cell_type": "code",
      "source": [
        "max = 0\n",
        "for k in range(1,140):\n",
        "\n",
        "  kneigh = KNeighborsRegressor(n_neighbors=k, leaf_size=50)\n",
        "  kneigh.fit(train_x, train_y)\n",
        "  score = kneigh.score(test_x, test_y)\n",
        "  if score > max:\n",
        "    print(\"for k =\", k, \"score=\",score)\n",
        "    max = score"
      ],
      "metadata": {
        "colab": {
          "base_uri": "https://localhost:8080/"
        },
        "id": "6D2hrFv0nnY4",
        "outputId": "c1f46f5a-c89d-4683-a359-b9ed6a52f9fe"
      },
      "execution_count": null,
      "outputs": [
        {
          "output_type": "stream",
          "name": "stdout",
          "text": [
            "for k = 2 score= 0.03245127429056127\n",
            "for k = 3 score= 0.1174541820892453\n",
            "for k = 4 score= 0.12257214875077105\n",
            "for k = 9 score= 0.15281642347544933\n",
            "for k = 10 score= 0.17239433123843295\n",
            "for k = 16 score= 0.17696630535561086\n",
            "for k = 17 score= 0.20123128978384897\n",
            "for k = 18 score= 0.20539456454063554\n",
            "for k = 22 score= 0.21752174017989612\n",
            "for k = 23 score= 0.21821022796845269\n",
            "for k = 24 score= 0.21906834170329526\n",
            "for k = 26 score= 0.2207885295255686\n",
            "for k = 27 score= 0.2258166588601762\n"
          ]
        }
      ]
    },
    {
      "cell_type": "markdown",
      "source": [
        "---\n",
        "---\n",
        "\n",
        "# **Decision Tree Regressor**"
      ],
      "metadata": {
        "id": "ZEcVmOEsn55U"
      }
    },
    {
      "cell_type": "code",
      "source": [
        "tree = DecisionTreeRegressor(max_depth=1000, min_samples_split=5, min_samples_leaf=5, max_features='auto', random_state=8)\n",
        "tree.fit(train_x, train_y)\n",
        "\n",
        "print(tree.score(test_x, test_y))"
      ],
      "metadata": {
        "colab": {
          "base_uri": "https://localhost:8080/"
        },
        "id": "7vuQVeQyn5_X",
        "outputId": "be75dbd6-6803-4502-e05b-bfbf25ea4c7b"
      },
      "execution_count": null,
      "outputs": [
        {
          "output_type": "stream",
          "name": "stdout",
          "text": [
            "-0.17698786660358556\n"
          ]
        }
      ]
    },
    {
      "cell_type": "markdown",
      "source": [
        "---\n",
        "---\n",
        "\n",
        "# **Neural Network**"
      ],
      "metadata": {
        "id": "apYIj86FoB8K"
      }
    },
    {
      "cell_type": "code",
      "source": [
        "def get_model():\n",
        "\n",
        "  model = tf.keras.Sequential()\n",
        "\n",
        "  model.add(layers.Dense(200))\n",
        "  model.add(layers.ReLU())\n",
        "  model.add(layers.Dropout(0.3))\n",
        "\n",
        "  model.add(layers.Dense(1))\n",
        "\n",
        "  optimizer = Adam(0.001)\n",
        "\n",
        "  model.compile(optimizer=optimizer, loss='mse', metrics=[tf.keras.metrics.MeanSquaredError()])\n",
        "\n",
        "  return model"
      ],
      "metadata": {
        "id": "hvHucEGLo-vi"
      },
      "execution_count": null,
      "outputs": []
    },
    {
      "cell_type": "code",
      "source": [
        "model = get_model()\n",
        "\n",
        "history = model.fit(train_x, train_y, validation_split=0.3, epochs=300, batch_size=2)\n",
        "\n",
        "score = model.evaluate(test_x, test_y)\n",
        "print(\"\\n\\nscore: \",score)"
      ],
      "metadata": {
        "colab": {
          "base_uri": "https://localhost:8080/"
        },
        "id": "5K_qZRFQpw5N",
        "outputId": "d0d55385-080d-4a96-98dc-65b169e9a53d"
      },
      "execution_count": null,
      "outputs": [
        {
          "output_type": "stream",
          "name": "stdout",
          "text": [
            "Epoch 1/300\n",
            "56/56 [==============================] - 2s 12ms/step - loss: 7.4976 - mean_squared_error: 7.4976 - val_loss: 3.4776 - val_mean_squared_error: 3.4776\n",
            "Epoch 2/300\n",
            "56/56 [==============================] - 0s 7ms/step - loss: 2.6316 - mean_squared_error: 2.6316 - val_loss: 2.5017 - val_mean_squared_error: 2.5017\n",
            "Epoch 3/300\n",
            "56/56 [==============================] - 0s 7ms/step - loss: 1.7188 - mean_squared_error: 1.7188 - val_loss: 2.5597 - val_mean_squared_error: 2.5597\n",
            "Epoch 4/300\n",
            "56/56 [==============================] - 0s 6ms/step - loss: 1.6505 - mean_squared_error: 1.6505 - val_loss: 2.4109 - val_mean_squared_error: 2.4109\n",
            "Epoch 5/300\n",
            "56/56 [==============================] - 0s 6ms/step - loss: 1.5831 - mean_squared_error: 1.5831 - val_loss: 2.5824 - val_mean_squared_error: 2.5824\n",
            "Epoch 6/300\n",
            "56/56 [==============================] - 0s 8ms/step - loss: 1.3219 - mean_squared_error: 1.3219 - val_loss: 2.4340 - val_mean_squared_error: 2.4340\n",
            "Epoch 7/300\n",
            "56/56 [==============================] - 0s 8ms/step - loss: 1.2014 - mean_squared_error: 1.2014 - val_loss: 2.5380 - val_mean_squared_error: 2.5380\n",
            "Epoch 8/300\n",
            "56/56 [==============================] - 0s 6ms/step - loss: 1.1209 - mean_squared_error: 1.1209 - val_loss: 2.4893 - val_mean_squared_error: 2.4893\n",
            "Epoch 9/300\n",
            "56/56 [==============================] - 0s 7ms/step - loss: 1.1791 - mean_squared_error: 1.1791 - val_loss: 2.5684 - val_mean_squared_error: 2.5684\n",
            "Epoch 10/300\n",
            "56/56 [==============================] - 0s 8ms/step - loss: 1.1684 - mean_squared_error: 1.1684 - val_loss: 2.3967 - val_mean_squared_error: 2.3967\n",
            "Epoch 11/300\n",
            "56/56 [==============================] - 0s 7ms/step - loss: 1.1450 - mean_squared_error: 1.1450 - val_loss: 2.4878 - val_mean_squared_error: 2.4878\n",
            "Epoch 12/300\n",
            "56/56 [==============================] - 0s 6ms/step - loss: 0.9933 - mean_squared_error: 0.9933 - val_loss: 2.2303 - val_mean_squared_error: 2.2303\n",
            "Epoch 13/300\n",
            "56/56 [==============================] - 0s 7ms/step - loss: 1.0419 - mean_squared_error: 1.0419 - val_loss: 2.4686 - val_mean_squared_error: 2.4686\n",
            "Epoch 14/300\n",
            "56/56 [==============================] - 0s 5ms/step - loss: 0.8397 - mean_squared_error: 0.8397 - val_loss: 2.2082 - val_mean_squared_error: 2.2082\n",
            "Epoch 15/300\n",
            "56/56 [==============================] - 0s 3ms/step - loss: 0.7712 - mean_squared_error: 0.7712 - val_loss: 2.4338 - val_mean_squared_error: 2.4338\n",
            "Epoch 16/300\n",
            "56/56 [==============================] - 0s 4ms/step - loss: 0.8322 - mean_squared_error: 0.8322 - val_loss: 2.4852 - val_mean_squared_error: 2.4852\n",
            "Epoch 17/300\n",
            "56/56 [==============================] - 0s 4ms/step - loss: 0.8539 - mean_squared_error: 0.8539 - val_loss: 2.4501 - val_mean_squared_error: 2.4501\n",
            "Epoch 18/300\n",
            "56/56 [==============================] - 0s 4ms/step - loss: 0.8173 - mean_squared_error: 0.8173 - val_loss: 2.6498 - val_mean_squared_error: 2.6498\n",
            "Epoch 19/300\n",
            "56/56 [==============================] - 0s 4ms/step - loss: 0.7619 - mean_squared_error: 0.7619 - val_loss: 2.4524 - val_mean_squared_error: 2.4524\n",
            "Epoch 20/300\n",
            "56/56 [==============================] - 0s 4ms/step - loss: 0.6850 - mean_squared_error: 0.6850 - val_loss: 2.5669 - val_mean_squared_error: 2.5669\n",
            "Epoch 21/300\n",
            "56/56 [==============================] - 0s 4ms/step - loss: 0.7627 - mean_squared_error: 0.7627 - val_loss: 2.4338 - val_mean_squared_error: 2.4338\n",
            "Epoch 22/300\n",
            "56/56 [==============================] - 0s 4ms/step - loss: 0.8169 - mean_squared_error: 0.8169 - val_loss: 2.5471 - val_mean_squared_error: 2.5471\n",
            "Epoch 23/300\n",
            "56/56 [==============================] - 0s 4ms/step - loss: 0.7264 - mean_squared_error: 0.7264 - val_loss: 2.2688 - val_mean_squared_error: 2.2688\n",
            "Epoch 24/300\n",
            "56/56 [==============================] - 0s 4ms/step - loss: 0.7233 - mean_squared_error: 0.7233 - val_loss: 2.3214 - val_mean_squared_error: 2.3214\n",
            "Epoch 25/300\n",
            "56/56 [==============================] - 0s 4ms/step - loss: 0.7226 - mean_squared_error: 0.7226 - val_loss: 2.5066 - val_mean_squared_error: 2.5066\n",
            "Epoch 26/300\n",
            "56/56 [==============================] - 0s 4ms/step - loss: 0.7491 - mean_squared_error: 0.7491 - val_loss: 2.3956 - val_mean_squared_error: 2.3956\n",
            "Epoch 27/300\n",
            "56/56 [==============================] - 0s 4ms/step - loss: 0.7431 - mean_squared_error: 0.7431 - val_loss: 2.5559 - val_mean_squared_error: 2.5559\n",
            "Epoch 28/300\n",
            "56/56 [==============================] - 0s 4ms/step - loss: 0.7987 - mean_squared_error: 0.7987 - val_loss: 2.5363 - val_mean_squared_error: 2.5363\n",
            "Epoch 29/300\n",
            "56/56 [==============================] - 0s 4ms/step - loss: 0.7617 - mean_squared_error: 0.7617 - val_loss: 2.6312 - val_mean_squared_error: 2.6312\n",
            "Epoch 30/300\n",
            "56/56 [==============================] - 0s 5ms/step - loss: 0.5426 - mean_squared_error: 0.5426 - val_loss: 2.7347 - val_mean_squared_error: 2.7347\n",
            "Epoch 31/300\n",
            "56/56 [==============================] - 0s 4ms/step - loss: 0.8484 - mean_squared_error: 0.8484 - val_loss: 2.4513 - val_mean_squared_error: 2.4513\n",
            "Epoch 32/300\n",
            "56/56 [==============================] - 0s 5ms/step - loss: 0.5835 - mean_squared_error: 0.5835 - val_loss: 2.4589 - val_mean_squared_error: 2.4589\n",
            "Epoch 33/300\n",
            "56/56 [==============================] - 0s 4ms/step - loss: 0.5956 - mean_squared_error: 0.5956 - val_loss: 2.4630 - val_mean_squared_error: 2.4630\n",
            "Epoch 34/300\n",
            "56/56 [==============================] - 0s 4ms/step - loss: 0.5356 - mean_squared_error: 0.5356 - val_loss: 2.4166 - val_mean_squared_error: 2.4166\n",
            "Epoch 35/300\n",
            "56/56 [==============================] - 0s 4ms/step - loss: 0.4578 - mean_squared_error: 0.4578 - val_loss: 2.6370 - val_mean_squared_error: 2.6370\n",
            "Epoch 36/300\n",
            "56/56 [==============================] - 0s 4ms/step - loss: 0.5385 - mean_squared_error: 0.5385 - val_loss: 2.3854 - val_mean_squared_error: 2.3854\n",
            "Epoch 37/300\n",
            "56/56 [==============================] - 0s 5ms/step - loss: 0.5004 - mean_squared_error: 0.5004 - val_loss: 2.6425 - val_mean_squared_error: 2.6425\n",
            "Epoch 38/300\n",
            "56/56 [==============================] - 0s 4ms/step - loss: 0.7046 - mean_squared_error: 0.7046 - val_loss: 2.4018 - val_mean_squared_error: 2.4018\n",
            "Epoch 39/300\n",
            "56/56 [==============================] - 0s 4ms/step - loss: 0.5307 - mean_squared_error: 0.5307 - val_loss: 2.4980 - val_mean_squared_error: 2.4980\n",
            "Epoch 40/300\n",
            "56/56 [==============================] - 0s 4ms/step - loss: 0.5529 - mean_squared_error: 0.5529 - val_loss: 2.7385 - val_mean_squared_error: 2.7385\n",
            "Epoch 41/300\n",
            "56/56 [==============================] - 0s 4ms/step - loss: 0.4244 - mean_squared_error: 0.4244 - val_loss: 2.6223 - val_mean_squared_error: 2.6223\n",
            "Epoch 42/300\n",
            "56/56 [==============================] - 0s 4ms/step - loss: 0.4758 - mean_squared_error: 0.4758 - val_loss: 2.6168 - val_mean_squared_error: 2.6168\n",
            "Epoch 43/300\n",
            "56/56 [==============================] - 0s 4ms/step - loss: 0.4012 - mean_squared_error: 0.4012 - val_loss: 2.6424 - val_mean_squared_error: 2.6424\n",
            "Epoch 44/300\n",
            "56/56 [==============================] - 0s 4ms/step - loss: 0.4588 - mean_squared_error: 0.4588 - val_loss: 2.4021 - val_mean_squared_error: 2.4021\n",
            "Epoch 45/300\n",
            "56/56 [==============================] - 0s 4ms/step - loss: 0.4001 - mean_squared_error: 0.4001 - val_loss: 2.5532 - val_mean_squared_error: 2.5532\n",
            "Epoch 46/300\n",
            "56/56 [==============================] - 0s 4ms/step - loss: 0.4852 - mean_squared_error: 0.4852 - val_loss: 2.5525 - val_mean_squared_error: 2.5525\n",
            "Epoch 47/300\n",
            "56/56 [==============================] - 0s 4ms/step - loss: 0.6604 - mean_squared_error: 0.6604 - val_loss: 2.6537 - val_mean_squared_error: 2.6537\n",
            "Epoch 48/300\n",
            "56/56 [==============================] - 0s 4ms/step - loss: 0.4258 - mean_squared_error: 0.4258 - val_loss: 2.6916 - val_mean_squared_error: 2.6916\n",
            "Epoch 49/300\n",
            "56/56 [==============================] - 0s 4ms/step - loss: 0.4527 - mean_squared_error: 0.4527 - val_loss: 2.5999 - val_mean_squared_error: 2.5999\n",
            "Epoch 50/300\n",
            "56/56 [==============================] - 0s 4ms/step - loss: 0.4371 - mean_squared_error: 0.4371 - val_loss: 2.6312 - val_mean_squared_error: 2.6312\n",
            "Epoch 51/300\n",
            "56/56 [==============================] - 0s 4ms/step - loss: 0.4231 - mean_squared_error: 0.4231 - val_loss: 2.7180 - val_mean_squared_error: 2.7180\n",
            "Epoch 52/300\n",
            "56/56 [==============================] - 0s 5ms/step - loss: 0.5032 - mean_squared_error: 0.5032 - val_loss: 2.5649 - val_mean_squared_error: 2.5649\n",
            "Epoch 53/300\n",
            "56/56 [==============================] - 0s 4ms/step - loss: 0.4067 - mean_squared_error: 0.4067 - val_loss: 2.8312 - val_mean_squared_error: 2.8312\n",
            "Epoch 54/300\n",
            "56/56 [==============================] - 0s 4ms/step - loss: 0.5186 - mean_squared_error: 0.5186 - val_loss: 2.7652 - val_mean_squared_error: 2.7652\n",
            "Epoch 55/300\n",
            "56/56 [==============================] - 0s 4ms/step - loss: 0.4132 - mean_squared_error: 0.4132 - val_loss: 2.6635 - val_mean_squared_error: 2.6635\n",
            "Epoch 56/300\n",
            "56/56 [==============================] - 0s 4ms/step - loss: 0.4984 - mean_squared_error: 0.4984 - val_loss: 2.6067 - val_mean_squared_error: 2.6067\n",
            "Epoch 57/300\n",
            "56/56 [==============================] - 0s 4ms/step - loss: 0.3842 - mean_squared_error: 0.3842 - val_loss: 2.9895 - val_mean_squared_error: 2.9895\n",
            "Epoch 58/300\n",
            "56/56 [==============================] - 0s 4ms/step - loss: 0.4378 - mean_squared_error: 0.4378 - val_loss: 2.6401 - val_mean_squared_error: 2.6401\n",
            "Epoch 59/300\n",
            "56/56 [==============================] - 0s 4ms/step - loss: 0.4524 - mean_squared_error: 0.4524 - val_loss: 2.4456 - val_mean_squared_error: 2.4456\n",
            "Epoch 60/300\n",
            "56/56 [==============================] - 0s 4ms/step - loss: 0.4783 - mean_squared_error: 0.4783 - val_loss: 2.6973 - val_mean_squared_error: 2.6973\n",
            "Epoch 61/300\n",
            "56/56 [==============================] - 0s 4ms/step - loss: 0.3457 - mean_squared_error: 0.3457 - val_loss: 2.7470 - val_mean_squared_error: 2.7470\n",
            "Epoch 62/300\n",
            "56/56 [==============================] - 0s 4ms/step - loss: 0.5148 - mean_squared_error: 0.5148 - val_loss: 2.7694 - val_mean_squared_error: 2.7694\n",
            "Epoch 63/300\n",
            "56/56 [==============================] - 0s 5ms/step - loss: 0.3578 - mean_squared_error: 0.3578 - val_loss: 3.1815 - val_mean_squared_error: 3.1815\n",
            "Epoch 64/300\n",
            "56/56 [==============================] - 0s 4ms/step - loss: 0.4111 - mean_squared_error: 0.4111 - val_loss: 2.5847 - val_mean_squared_error: 2.5847\n",
            "Epoch 65/300\n",
            "56/56 [==============================] - 0s 4ms/step - loss: 0.4349 - mean_squared_error: 0.4349 - val_loss: 2.8505 - val_mean_squared_error: 2.8505\n",
            "Epoch 66/300\n",
            "56/56 [==============================] - 0s 5ms/step - loss: 0.4004 - mean_squared_error: 0.4004 - val_loss: 2.9513 - val_mean_squared_error: 2.9513\n",
            "Epoch 67/300\n",
            "56/56 [==============================] - 0s 4ms/step - loss: 0.3490 - mean_squared_error: 0.3490 - val_loss: 2.7511 - val_mean_squared_error: 2.7511\n",
            "Epoch 68/300\n",
            "56/56 [==============================] - 0s 4ms/step - loss: 0.4850 - mean_squared_error: 0.4850 - val_loss: 2.7360 - val_mean_squared_error: 2.7360\n",
            "Epoch 69/300\n",
            "56/56 [==============================] - 0s 3ms/step - loss: 0.3856 - mean_squared_error: 0.3856 - val_loss: 2.5885 - val_mean_squared_error: 2.5885\n",
            "Epoch 70/300\n",
            "56/56 [==============================] - 0s 4ms/step - loss: 0.2875 - mean_squared_error: 0.2875 - val_loss: 2.5483 - val_mean_squared_error: 2.5483\n",
            "Epoch 71/300\n",
            "56/56 [==============================] - 0s 4ms/step - loss: 0.4147 - mean_squared_error: 0.4147 - val_loss: 2.7954 - val_mean_squared_error: 2.7954\n",
            "Epoch 72/300\n",
            "56/56 [==============================] - 0s 4ms/step - loss: 0.5535 - mean_squared_error: 0.5535 - val_loss: 2.8690 - val_mean_squared_error: 2.8690\n",
            "Epoch 73/300\n",
            "56/56 [==============================] - 0s 4ms/step - loss: 0.3934 - mean_squared_error: 0.3934 - val_loss: 2.7249 - val_mean_squared_error: 2.7249\n",
            "Epoch 74/300\n",
            "56/56 [==============================] - 0s 4ms/step - loss: 0.3481 - mean_squared_error: 0.3481 - val_loss: 2.5752 - val_mean_squared_error: 2.5752\n",
            "Epoch 75/300\n",
            "56/56 [==============================] - 0s 4ms/step - loss: 0.3088 - mean_squared_error: 0.3088 - val_loss: 2.7466 - val_mean_squared_error: 2.7466\n",
            "Epoch 76/300\n",
            "56/56 [==============================] - 0s 5ms/step - loss: 0.3692 - mean_squared_error: 0.3692 - val_loss: 2.7517 - val_mean_squared_error: 2.7517\n",
            "Epoch 77/300\n",
            "56/56 [==============================] - 0s 4ms/step - loss: 0.3285 - mean_squared_error: 0.3285 - val_loss: 2.7565 - val_mean_squared_error: 2.7565\n",
            "Epoch 78/300\n",
            "56/56 [==============================] - 0s 5ms/step - loss: 0.2964 - mean_squared_error: 0.2964 - val_loss: 2.6230 - val_mean_squared_error: 2.6230\n",
            "Epoch 79/300\n",
            "56/56 [==============================] - 0s 5ms/step - loss: 0.3343 - mean_squared_error: 0.3343 - val_loss: 2.7619 - val_mean_squared_error: 2.7619\n",
            "Epoch 80/300\n",
            "56/56 [==============================] - 0s 4ms/step - loss: 0.3618 - mean_squared_error: 0.3618 - val_loss: 2.6109 - val_mean_squared_error: 2.6109\n",
            "Epoch 81/300\n",
            "56/56 [==============================] - 0s 4ms/step - loss: 0.3877 - mean_squared_error: 0.3877 - val_loss: 2.4175 - val_mean_squared_error: 2.4175\n",
            "Epoch 82/300\n",
            "56/56 [==============================] - 0s 4ms/step - loss: 0.3964 - mean_squared_error: 0.3964 - val_loss: 2.5930 - val_mean_squared_error: 2.5930\n",
            "Epoch 83/300\n",
            "56/56 [==============================] - 0s 5ms/step - loss: 0.3960 - mean_squared_error: 0.3960 - val_loss: 2.4181 - val_mean_squared_error: 2.4181\n",
            "Epoch 84/300\n",
            "56/56 [==============================] - 0s 4ms/step - loss: 0.4103 - mean_squared_error: 0.4103 - val_loss: 2.5568 - val_mean_squared_error: 2.5568\n",
            "Epoch 85/300\n",
            "56/56 [==============================] - 0s 5ms/step - loss: 0.2808 - mean_squared_error: 0.2808 - val_loss: 2.5796 - val_mean_squared_error: 2.5796\n",
            "Epoch 86/300\n",
            "56/56 [==============================] - 0s 4ms/step - loss: 0.3668 - mean_squared_error: 0.3668 - val_loss: 2.7191 - val_mean_squared_error: 2.7191\n",
            "Epoch 87/300\n",
            "56/56 [==============================] - 0s 4ms/step - loss: 0.3795 - mean_squared_error: 0.3795 - val_loss: 2.6249 - val_mean_squared_error: 2.6249\n",
            "Epoch 88/300\n",
            "56/56 [==============================] - 0s 4ms/step - loss: 0.3344 - mean_squared_error: 0.3344 - val_loss: 2.8362 - val_mean_squared_error: 2.8362\n",
            "Epoch 89/300\n",
            "56/56 [==============================] - 0s 4ms/step - loss: 0.3172 - mean_squared_error: 0.3172 - val_loss: 2.5417 - val_mean_squared_error: 2.5417\n",
            "Epoch 90/300\n",
            "56/56 [==============================] - 0s 5ms/step - loss: 0.3174 - mean_squared_error: 0.3174 - val_loss: 2.8330 - val_mean_squared_error: 2.8330\n",
            "Epoch 91/300\n",
            "56/56 [==============================] - 0s 5ms/step - loss: 0.2830 - mean_squared_error: 0.2830 - val_loss: 2.4867 - val_mean_squared_error: 2.4867\n",
            "Epoch 92/300\n",
            "56/56 [==============================] - 0s 5ms/step - loss: 0.2922 - mean_squared_error: 0.2922 - val_loss: 2.5056 - val_mean_squared_error: 2.5056\n",
            "Epoch 93/300\n",
            "56/56 [==============================] - 0s 4ms/step - loss: 0.3073 - mean_squared_error: 0.3073 - val_loss: 2.6337 - val_mean_squared_error: 2.6337\n",
            "Epoch 94/300\n",
            "56/56 [==============================] - 0s 4ms/step - loss: 0.3094 - mean_squared_error: 0.3094 - val_loss: 2.9557 - val_mean_squared_error: 2.9557\n",
            "Epoch 95/300\n",
            "56/56 [==============================] - 0s 4ms/step - loss: 0.3427 - mean_squared_error: 0.3427 - val_loss: 2.4494 - val_mean_squared_error: 2.4494\n",
            "Epoch 96/300\n",
            "56/56 [==============================] - 0s 4ms/step - loss: 0.2802 - mean_squared_error: 0.2802 - val_loss: 2.5488 - val_mean_squared_error: 2.5488\n",
            "Epoch 97/300\n",
            "56/56 [==============================] - 0s 4ms/step - loss: 0.3247 - mean_squared_error: 0.3247 - val_loss: 2.8856 - val_mean_squared_error: 2.8856\n",
            "Epoch 98/300\n",
            "56/56 [==============================] - 0s 4ms/step - loss: 0.2650 - mean_squared_error: 0.2650 - val_loss: 2.7271 - val_mean_squared_error: 2.7271\n",
            "Epoch 99/300\n",
            "56/56 [==============================] - 0s 4ms/step - loss: 0.2789 - mean_squared_error: 0.2789 - val_loss: 2.5718 - val_mean_squared_error: 2.5718\n",
            "Epoch 100/300\n",
            "56/56 [==============================] - 0s 4ms/step - loss: 0.2891 - mean_squared_error: 0.2891 - val_loss: 2.6924 - val_mean_squared_error: 2.6924\n",
            "Epoch 101/300\n",
            "56/56 [==============================] - 0s 4ms/step - loss: 0.3272 - mean_squared_error: 0.3272 - val_loss: 2.8770 - val_mean_squared_error: 2.8770\n",
            "Epoch 102/300\n",
            "56/56 [==============================] - 0s 4ms/step - loss: 0.3514 - mean_squared_error: 0.3514 - val_loss: 2.8783 - val_mean_squared_error: 2.8783\n",
            "Epoch 103/300\n",
            "56/56 [==============================] - 0s 5ms/step - loss: 0.2644 - mean_squared_error: 0.2644 - val_loss: 2.6669 - val_mean_squared_error: 2.6669\n",
            "Epoch 104/300\n",
            "56/56 [==============================] - 0s 5ms/step - loss: 0.3262 - mean_squared_error: 0.3262 - val_loss: 2.5669 - val_mean_squared_error: 2.5669\n",
            "Epoch 105/300\n",
            "56/56 [==============================] - 0s 5ms/step - loss: 0.3716 - mean_squared_error: 0.3716 - val_loss: 2.6981 - val_mean_squared_error: 2.6981\n",
            "Epoch 106/300\n",
            "56/56 [==============================] - 0s 4ms/step - loss: 0.2347 - mean_squared_error: 0.2347 - val_loss: 2.8388 - val_mean_squared_error: 2.8388\n",
            "Epoch 107/300\n",
            "56/56 [==============================] - 0s 4ms/step - loss: 0.3403 - mean_squared_error: 0.3403 - val_loss: 2.4703 - val_mean_squared_error: 2.4703\n",
            "Epoch 108/300\n",
            "56/56 [==============================] - 0s 4ms/step - loss: 0.3283 - mean_squared_error: 0.3283 - val_loss: 2.5007 - val_mean_squared_error: 2.5007\n",
            "Epoch 109/300\n",
            "56/56 [==============================] - 0s 5ms/step - loss: 0.2404 - mean_squared_error: 0.2404 - val_loss: 2.7269 - val_mean_squared_error: 2.7269\n",
            "Epoch 110/300\n",
            "56/56 [==============================] - 0s 5ms/step - loss: 0.3305 - mean_squared_error: 0.3305 - val_loss: 2.7789 - val_mean_squared_error: 2.7789\n",
            "Epoch 111/300\n",
            "56/56 [==============================] - 0s 4ms/step - loss: 0.3341 - mean_squared_error: 0.3341 - val_loss: 2.4935 - val_mean_squared_error: 2.4935\n",
            "Epoch 112/300\n",
            "56/56 [==============================] - 0s 4ms/step - loss: 0.2590 - mean_squared_error: 0.2590 - val_loss: 2.9846 - val_mean_squared_error: 2.9846\n",
            "Epoch 113/300\n",
            "56/56 [==============================] - 0s 4ms/step - loss: 0.3098 - mean_squared_error: 0.3098 - val_loss: 2.3741 - val_mean_squared_error: 2.3741\n",
            "Epoch 114/300\n",
            "56/56 [==============================] - 0s 5ms/step - loss: 0.2693 - mean_squared_error: 0.2693 - val_loss: 2.5224 - val_mean_squared_error: 2.5224\n",
            "Epoch 115/300\n",
            "56/56 [==============================] - 0s 4ms/step - loss: 0.2834 - mean_squared_error: 0.2834 - val_loss: 2.5766 - val_mean_squared_error: 2.5766\n",
            "Epoch 116/300\n",
            "56/56 [==============================] - 0s 4ms/step - loss: 0.2620 - mean_squared_error: 0.2620 - val_loss: 2.7950 - val_mean_squared_error: 2.7950\n",
            "Epoch 117/300\n",
            "56/56 [==============================] - 0s 4ms/step - loss: 0.3138 - mean_squared_error: 0.3138 - val_loss: 2.8215 - val_mean_squared_error: 2.8215\n",
            "Epoch 118/300\n",
            "56/56 [==============================] - 0s 5ms/step - loss: 0.2788 - mean_squared_error: 0.2788 - val_loss: 2.5415 - val_mean_squared_error: 2.5415\n",
            "Epoch 119/300\n",
            "56/56 [==============================] - 0s 4ms/step - loss: 0.2455 - mean_squared_error: 0.2455 - val_loss: 2.4325 - val_mean_squared_error: 2.4325\n",
            "Epoch 120/300\n",
            "56/56 [==============================] - 0s 5ms/step - loss: 0.2947 - mean_squared_error: 0.2947 - val_loss: 2.5490 - val_mean_squared_error: 2.5490\n",
            "Epoch 121/300\n",
            "56/56 [==============================] - 0s 4ms/step - loss: 0.2933 - mean_squared_error: 0.2933 - val_loss: 2.7043 - val_mean_squared_error: 2.7043\n",
            "Epoch 122/300\n",
            "56/56 [==============================] - 0s 4ms/step - loss: 0.2950 - mean_squared_error: 0.2950 - val_loss: 2.7193 - val_mean_squared_error: 2.7193\n",
            "Epoch 123/300\n",
            "56/56 [==============================] - 0s 4ms/step - loss: 0.3585 - mean_squared_error: 0.3585 - val_loss: 2.6135 - val_mean_squared_error: 2.6135\n",
            "Epoch 124/300\n",
            "56/56 [==============================] - 0s 4ms/step - loss: 0.2758 - mean_squared_error: 0.2758 - val_loss: 2.5589 - val_mean_squared_error: 2.5589\n",
            "Epoch 125/300\n",
            "56/56 [==============================] - 0s 4ms/step - loss: 0.1984 - mean_squared_error: 0.1984 - val_loss: 2.4487 - val_mean_squared_error: 2.4487\n",
            "Epoch 126/300\n",
            "56/56 [==============================] - 0s 4ms/step - loss: 0.2323 - mean_squared_error: 0.2323 - val_loss: 2.3804 - val_mean_squared_error: 2.3804\n",
            "Epoch 127/300\n",
            "56/56 [==============================] - 0s 4ms/step - loss: 0.2738 - mean_squared_error: 0.2738 - val_loss: 2.3732 - val_mean_squared_error: 2.3732\n",
            "Epoch 128/300\n",
            "56/56 [==============================] - 0s 5ms/step - loss: 0.2047 - mean_squared_error: 0.2047 - val_loss: 2.6244 - val_mean_squared_error: 2.6244\n",
            "Epoch 129/300\n",
            "56/56 [==============================] - 0s 5ms/step - loss: 0.2303 - mean_squared_error: 0.2303 - val_loss: 2.5674 - val_mean_squared_error: 2.5674\n",
            "Epoch 130/300\n",
            "56/56 [==============================] - 0s 4ms/step - loss: 0.2494 - mean_squared_error: 0.2494 - val_loss: 2.6231 - val_mean_squared_error: 2.6231\n",
            "Epoch 131/300\n",
            "56/56 [==============================] - 0s 4ms/step - loss: 0.2845 - mean_squared_error: 0.2845 - val_loss: 2.4289 - val_mean_squared_error: 2.4289\n",
            "Epoch 132/300\n",
            "56/56 [==============================] - 0s 4ms/step - loss: 0.2561 - mean_squared_error: 0.2561 - val_loss: 2.8247 - val_mean_squared_error: 2.8247\n",
            "Epoch 133/300\n",
            "56/56 [==============================] - 0s 4ms/step - loss: 0.3119 - mean_squared_error: 0.3119 - val_loss: 2.5162 - val_mean_squared_error: 2.5162\n",
            "Epoch 134/300\n",
            "56/56 [==============================] - 0s 4ms/step - loss: 0.2993 - mean_squared_error: 0.2993 - val_loss: 2.5361 - val_mean_squared_error: 2.5361\n",
            "Epoch 135/300\n",
            "56/56 [==============================] - 0s 4ms/step - loss: 0.2616 - mean_squared_error: 0.2616 - val_loss: 2.4722 - val_mean_squared_error: 2.4722\n",
            "Epoch 136/300\n",
            "56/56 [==============================] - 0s 4ms/step - loss: 0.2563 - mean_squared_error: 0.2563 - val_loss: 2.6961 - val_mean_squared_error: 2.6961\n",
            "Epoch 137/300\n",
            "56/56 [==============================] - 0s 5ms/step - loss: 0.2137 - mean_squared_error: 0.2137 - val_loss: 2.5295 - val_mean_squared_error: 2.5295\n",
            "Epoch 138/300\n",
            "56/56 [==============================] - 0s 4ms/step - loss: 0.2904 - mean_squared_error: 0.2904 - val_loss: 2.8421 - val_mean_squared_error: 2.8421\n",
            "Epoch 139/300\n",
            "56/56 [==============================] - 0s 4ms/step - loss: 0.3395 - mean_squared_error: 0.3395 - val_loss: 2.5758 - val_mean_squared_error: 2.5758\n",
            "Epoch 140/300\n",
            "56/56 [==============================] - 0s 4ms/step - loss: 0.2111 - mean_squared_error: 0.2111 - val_loss: 2.5635 - val_mean_squared_error: 2.5635\n",
            "Epoch 141/300\n",
            "56/56 [==============================] - 0s 5ms/step - loss: 0.2258 - mean_squared_error: 0.2258 - val_loss: 2.6647 - val_mean_squared_error: 2.6647\n",
            "Epoch 142/300\n",
            "56/56 [==============================] - 0s 4ms/step - loss: 0.3074 - mean_squared_error: 0.3074 - val_loss: 2.7582 - val_mean_squared_error: 2.7582\n",
            "Epoch 143/300\n",
            "56/56 [==============================] - 0s 4ms/step - loss: 0.2456 - mean_squared_error: 0.2456 - val_loss: 2.8730 - val_mean_squared_error: 2.8730\n",
            "Epoch 144/300\n",
            "56/56 [==============================] - 0s 4ms/step - loss: 0.2416 - mean_squared_error: 0.2416 - val_loss: 2.5706 - val_mean_squared_error: 2.5706\n",
            "Epoch 145/300\n",
            "56/56 [==============================] - 0s 4ms/step - loss: 0.2516 - mean_squared_error: 0.2516 - val_loss: 2.7945 - val_mean_squared_error: 2.7945\n",
            "Epoch 146/300\n",
            "56/56 [==============================] - 0s 4ms/step - loss: 0.2525 - mean_squared_error: 0.2525 - val_loss: 2.5838 - val_mean_squared_error: 2.5838\n",
            "Epoch 147/300\n",
            "56/56 [==============================] - 0s 4ms/step - loss: 0.2458 - mean_squared_error: 0.2458 - val_loss: 2.6233 - val_mean_squared_error: 2.6233\n",
            "Epoch 148/300\n",
            "56/56 [==============================] - 0s 5ms/step - loss: 0.2170 - mean_squared_error: 0.2170 - val_loss: 2.6665 - val_mean_squared_error: 2.6665\n",
            "Epoch 149/300\n",
            "56/56 [==============================] - 0s 4ms/step - loss: 0.2111 - mean_squared_error: 0.2111 - val_loss: 2.5863 - val_mean_squared_error: 2.5863\n",
            "Epoch 150/300\n",
            "56/56 [==============================] - 0s 4ms/step - loss: 0.2396 - mean_squared_error: 0.2396 - val_loss: 2.6177 - val_mean_squared_error: 2.6177\n",
            "Epoch 151/300\n",
            "56/56 [==============================] - 0s 4ms/step - loss: 0.3260 - mean_squared_error: 0.3260 - val_loss: 2.5067 - val_mean_squared_error: 2.5067\n",
            "Epoch 152/300\n",
            "56/56 [==============================] - 0s 5ms/step - loss: 0.2196 - mean_squared_error: 0.2196 - val_loss: 2.7062 - val_mean_squared_error: 2.7062\n",
            "Epoch 153/300\n",
            "56/56 [==============================] - 0s 4ms/step - loss: 0.2586 - mean_squared_error: 0.2586 - val_loss: 2.3595 - val_mean_squared_error: 2.3595\n",
            "Epoch 154/300\n",
            "56/56 [==============================] - 0s 4ms/step - loss: 0.3111 - mean_squared_error: 0.3111 - val_loss: 2.7825 - val_mean_squared_error: 2.7825\n",
            "Epoch 155/300\n",
            "56/56 [==============================] - 0s 5ms/step - loss: 0.2320 - mean_squared_error: 0.2320 - val_loss: 2.5926 - val_mean_squared_error: 2.5926\n",
            "Epoch 156/300\n",
            "56/56 [==============================] - 0s 4ms/step - loss: 0.3060 - mean_squared_error: 0.3060 - val_loss: 2.7035 - val_mean_squared_error: 2.7035\n",
            "Epoch 157/300\n",
            "56/56 [==============================] - 0s 4ms/step - loss: 0.2887 - mean_squared_error: 0.2887 - val_loss: 2.6032 - val_mean_squared_error: 2.6032\n",
            "Epoch 158/300\n",
            "56/56 [==============================] - 0s 5ms/step - loss: 0.2769 - mean_squared_error: 0.2769 - val_loss: 2.6557 - val_mean_squared_error: 2.6557\n",
            "Epoch 159/300\n",
            "56/56 [==============================] - 0s 4ms/step - loss: 0.2464 - mean_squared_error: 0.2464 - val_loss: 2.6984 - val_mean_squared_error: 2.6984\n",
            "Epoch 160/300\n",
            "56/56 [==============================] - 0s 5ms/step - loss: 0.2551 - mean_squared_error: 0.2551 - val_loss: 2.6524 - val_mean_squared_error: 2.6524\n",
            "Epoch 161/300\n",
            "56/56 [==============================] - 0s 5ms/step - loss: 0.2648 - mean_squared_error: 0.2648 - val_loss: 2.5693 - val_mean_squared_error: 2.5693\n",
            "Epoch 162/300\n",
            "56/56 [==============================] - 0s 4ms/step - loss: 0.2293 - mean_squared_error: 0.2293 - val_loss: 2.4856 - val_mean_squared_error: 2.4856\n",
            "Epoch 163/300\n",
            "56/56 [==============================] - 0s 4ms/step - loss: 0.2225 - mean_squared_error: 0.2225 - val_loss: 2.5611 - val_mean_squared_error: 2.5611\n",
            "Epoch 164/300\n",
            "56/56 [==============================] - 0s 4ms/step - loss: 0.2046 - mean_squared_error: 0.2046 - val_loss: 2.6658 - val_mean_squared_error: 2.6658\n",
            "Epoch 165/300\n",
            "56/56 [==============================] - 0s 4ms/step - loss: 0.1856 - mean_squared_error: 0.1856 - val_loss: 2.6465 - val_mean_squared_error: 2.6465\n",
            "Epoch 166/300\n",
            "56/56 [==============================] - 0s 4ms/step - loss: 0.2521 - mean_squared_error: 0.2521 - val_loss: 2.4981 - val_mean_squared_error: 2.4981\n",
            "Epoch 167/300\n",
            "56/56 [==============================] - 0s 5ms/step - loss: 0.2029 - mean_squared_error: 0.2029 - val_loss: 2.5197 - val_mean_squared_error: 2.5197\n",
            "Epoch 168/300\n",
            "56/56 [==============================] - 0s 4ms/step - loss: 0.2020 - mean_squared_error: 0.2020 - val_loss: 2.5299 - val_mean_squared_error: 2.5299\n",
            "Epoch 169/300\n",
            "56/56 [==============================] - 0s 5ms/step - loss: 0.2239 - mean_squared_error: 0.2239 - val_loss: 2.3573 - val_mean_squared_error: 2.3573\n",
            "Epoch 170/300\n",
            "56/56 [==============================] - 0s 5ms/step - loss: 0.2944 - mean_squared_error: 0.2944 - val_loss: 2.4758 - val_mean_squared_error: 2.4758\n",
            "Epoch 171/300\n",
            "56/56 [==============================] - 0s 4ms/step - loss: 0.2104 - mean_squared_error: 0.2104 - val_loss: 2.4596 - val_mean_squared_error: 2.4596\n",
            "Epoch 172/300\n",
            "56/56 [==============================] - 0s 4ms/step - loss: 0.2615 - mean_squared_error: 0.2615 - val_loss: 2.4771 - val_mean_squared_error: 2.4771\n",
            "Epoch 173/300\n",
            "56/56 [==============================] - 0s 4ms/step - loss: 0.1931 - mean_squared_error: 0.1931 - val_loss: 2.3699 - val_mean_squared_error: 2.3699\n",
            "Epoch 174/300\n",
            "56/56 [==============================] - 0s 4ms/step - loss: 0.2313 - mean_squared_error: 0.2313 - val_loss: 2.6877 - val_mean_squared_error: 2.6877\n",
            "Epoch 175/300\n",
            "56/56 [==============================] - 0s 5ms/step - loss: 0.2580 - mean_squared_error: 0.2580 - val_loss: 2.3946 - val_mean_squared_error: 2.3946\n",
            "Epoch 176/300\n",
            "56/56 [==============================] - 0s 4ms/step - loss: 0.2833 - mean_squared_error: 0.2833 - val_loss: 2.7990 - val_mean_squared_error: 2.7990\n",
            "Epoch 177/300\n",
            "56/56 [==============================] - 0s 5ms/step - loss: 0.2154 - mean_squared_error: 0.2154 - val_loss: 2.2655 - val_mean_squared_error: 2.2655\n",
            "Epoch 178/300\n",
            "56/56 [==============================] - 0s 4ms/step - loss: 0.2215 - mean_squared_error: 0.2215 - val_loss: 2.5448 - val_mean_squared_error: 2.5448\n",
            "Epoch 179/300\n",
            "56/56 [==============================] - 0s 4ms/step - loss: 0.2759 - mean_squared_error: 0.2759 - val_loss: 2.5074 - val_mean_squared_error: 2.5074\n",
            "Epoch 180/300\n",
            "56/56 [==============================] - 0s 5ms/step - loss: 0.2573 - mean_squared_error: 0.2573 - val_loss: 2.5117 - val_mean_squared_error: 2.5117\n",
            "Epoch 181/300\n",
            "56/56 [==============================] - 0s 5ms/step - loss: 0.2446 - mean_squared_error: 0.2446 - val_loss: 2.5553 - val_mean_squared_error: 2.5553\n",
            "Epoch 182/300\n",
            "56/56 [==============================] - 0s 4ms/step - loss: 0.2577 - mean_squared_error: 0.2577 - val_loss: 2.5924 - val_mean_squared_error: 2.5924\n",
            "Epoch 183/300\n",
            "56/56 [==============================] - 0s 4ms/step - loss: 0.2134 - mean_squared_error: 0.2134 - val_loss: 2.3721 - val_mean_squared_error: 2.3721\n",
            "Epoch 184/300\n",
            "56/56 [==============================] - 0s 4ms/step - loss: 0.1913 - mean_squared_error: 0.1913 - val_loss: 2.5897 - val_mean_squared_error: 2.5897\n",
            "Epoch 185/300\n",
            "56/56 [==============================] - 0s 4ms/step - loss: 0.1763 - mean_squared_error: 0.1763 - val_loss: 2.4282 - val_mean_squared_error: 2.4282\n",
            "Epoch 186/300\n",
            "56/56 [==============================] - 0s 5ms/step - loss: 0.2287 - mean_squared_error: 0.2287 - val_loss: 2.4577 - val_mean_squared_error: 2.4577\n",
            "Epoch 187/300\n",
            "56/56 [==============================] - 0s 4ms/step - loss: 0.1334 - mean_squared_error: 0.1334 - val_loss: 2.5188 - val_mean_squared_error: 2.5188\n",
            "Epoch 188/300\n",
            "56/56 [==============================] - 0s 4ms/step - loss: 0.2703 - mean_squared_error: 0.2703 - val_loss: 2.4233 - val_mean_squared_error: 2.4233\n",
            "Epoch 189/300\n",
            "56/56 [==============================] - 0s 5ms/step - loss: 0.2062 - mean_squared_error: 0.2062 - val_loss: 2.5007 - val_mean_squared_error: 2.5007\n",
            "Epoch 190/300\n",
            "56/56 [==============================] - 0s 5ms/step - loss: 0.1711 - mean_squared_error: 0.1711 - val_loss: 2.2587 - val_mean_squared_error: 2.2587\n",
            "Epoch 191/300\n",
            "56/56 [==============================] - 0s 4ms/step - loss: 0.2077 - mean_squared_error: 0.2077 - val_loss: 2.7824 - val_mean_squared_error: 2.7824\n",
            "Epoch 192/300\n",
            "56/56 [==============================] - 0s 4ms/step - loss: 0.2154 - mean_squared_error: 0.2154 - val_loss: 2.6045 - val_mean_squared_error: 2.6045\n",
            "Epoch 193/300\n",
            "56/56 [==============================] - 0s 5ms/step - loss: 0.2555 - mean_squared_error: 0.2555 - val_loss: 2.4249 - val_mean_squared_error: 2.4249\n",
            "Epoch 194/300\n",
            "56/56 [==============================] - 0s 5ms/step - loss: 0.2147 - mean_squared_error: 0.2147 - val_loss: 2.3901 - val_mean_squared_error: 2.3901\n",
            "Epoch 195/300\n",
            "56/56 [==============================] - 0s 4ms/step - loss: 0.2142 - mean_squared_error: 0.2142 - val_loss: 2.4737 - val_mean_squared_error: 2.4737\n",
            "Epoch 196/300\n",
            "56/56 [==============================] - 0s 5ms/step - loss: 0.1682 - mean_squared_error: 0.1682 - val_loss: 2.4625 - val_mean_squared_error: 2.4625\n",
            "Epoch 197/300\n",
            "56/56 [==============================] - 0s 5ms/step - loss: 0.2027 - mean_squared_error: 0.2027 - val_loss: 2.4064 - val_mean_squared_error: 2.4064\n",
            "Epoch 198/300\n",
            "56/56 [==============================] - 0s 4ms/step - loss: 0.2123 - mean_squared_error: 0.2123 - val_loss: 2.3545 - val_mean_squared_error: 2.3545\n",
            "Epoch 199/300\n",
            "56/56 [==============================] - 0s 2ms/step - loss: 0.2577 - mean_squared_error: 0.2577 - val_loss: 2.7144 - val_mean_squared_error: 2.7144\n",
            "Epoch 200/300\n",
            "56/56 [==============================] - 0s 2ms/step - loss: 0.1991 - mean_squared_error: 0.1991 - val_loss: 2.5693 - val_mean_squared_error: 2.5693\n",
            "Epoch 201/300\n",
            "56/56 [==============================] - 0s 3ms/step - loss: 0.1889 - mean_squared_error: 0.1889 - val_loss: 2.5146 - val_mean_squared_error: 2.5146\n",
            "Epoch 202/300\n",
            "56/56 [==============================] - 0s 3ms/step - loss: 0.2253 - mean_squared_error: 0.2253 - val_loss: 2.7167 - val_mean_squared_error: 2.7167\n",
            "Epoch 203/300\n",
            "56/56 [==============================] - 0s 3ms/step - loss: 0.1980 - mean_squared_error: 0.1980 - val_loss: 2.5955 - val_mean_squared_error: 2.5955\n",
            "Epoch 204/300\n",
            "56/56 [==============================] - 0s 3ms/step - loss: 0.1384 - mean_squared_error: 0.1384 - val_loss: 2.5433 - val_mean_squared_error: 2.5433\n",
            "Epoch 205/300\n",
            "56/56 [==============================] - 0s 4ms/step - loss: 0.2049 - mean_squared_error: 0.2049 - val_loss: 2.7051 - val_mean_squared_error: 2.7051\n",
            "Epoch 206/300\n",
            "56/56 [==============================] - 0s 4ms/step - loss: 0.2000 - mean_squared_error: 0.2000 - val_loss: 2.9870 - val_mean_squared_error: 2.9870\n",
            "Epoch 207/300\n",
            "56/56 [==============================] - 0s 4ms/step - loss: 0.2194 - mean_squared_error: 0.2194 - val_loss: 2.6893 - val_mean_squared_error: 2.6893\n",
            "Epoch 208/300\n",
            "56/56 [==============================] - 0s 4ms/step - loss: 0.1719 - mean_squared_error: 0.1719 - val_loss: 2.7307 - val_mean_squared_error: 2.7307\n",
            "Epoch 209/300\n",
            "56/56 [==============================] - 0s 4ms/step - loss: 0.1821 - mean_squared_error: 0.1821 - val_loss: 2.3875 - val_mean_squared_error: 2.3875\n",
            "Epoch 210/300\n",
            "56/56 [==============================] - 0s 5ms/step - loss: 0.1837 - mean_squared_error: 0.1837 - val_loss: 2.7251 - val_mean_squared_error: 2.7251\n",
            "Epoch 211/300\n",
            "56/56 [==============================] - 0s 4ms/step - loss: 0.2598 - mean_squared_error: 0.2598 - val_loss: 2.6470 - val_mean_squared_error: 2.6470\n",
            "Epoch 212/300\n",
            "56/56 [==============================] - 0s 4ms/step - loss: 0.2179 - mean_squared_error: 0.2179 - val_loss: 2.4718 - val_mean_squared_error: 2.4718\n",
            "Epoch 213/300\n",
            "56/56 [==============================] - 0s 4ms/step - loss: 0.1796 - mean_squared_error: 0.1796 - val_loss: 2.6445 - val_mean_squared_error: 2.6445\n",
            "Epoch 214/300\n",
            "56/56 [==============================] - 0s 5ms/step - loss: 0.1562 - mean_squared_error: 0.1562 - val_loss: 2.4878 - val_mean_squared_error: 2.4878\n",
            "Epoch 215/300\n",
            "56/56 [==============================] - 0s 4ms/step - loss: 0.2503 - mean_squared_error: 0.2503 - val_loss: 2.4163 - val_mean_squared_error: 2.4163\n",
            "Epoch 216/300\n",
            "56/56 [==============================] - 0s 4ms/step - loss: 0.1603 - mean_squared_error: 0.1603 - val_loss: 2.7879 - val_mean_squared_error: 2.7879\n",
            "Epoch 217/300\n",
            "56/56 [==============================] - 0s 4ms/step - loss: 0.2301 - mean_squared_error: 0.2301 - val_loss: 2.8345 - val_mean_squared_error: 2.8345\n",
            "Epoch 218/300\n",
            "56/56 [==============================] - 0s 4ms/step - loss: 0.1728 - mean_squared_error: 0.1728 - val_loss: 2.9942 - val_mean_squared_error: 2.9942\n",
            "Epoch 219/300\n",
            "56/56 [==============================] - 0s 4ms/step - loss: 0.1595 - mean_squared_error: 0.1595 - val_loss: 2.6518 - val_mean_squared_error: 2.6518\n",
            "Epoch 220/300\n",
            "56/56 [==============================] - 0s 4ms/step - loss: 0.2106 - mean_squared_error: 0.2106 - val_loss: 2.5646 - val_mean_squared_error: 2.5646\n",
            "Epoch 221/300\n",
            "56/56 [==============================] - 0s 4ms/step - loss: 0.2064 - mean_squared_error: 0.2064 - val_loss: 3.0053 - val_mean_squared_error: 3.0053\n",
            "Epoch 222/300\n",
            "56/56 [==============================] - 0s 4ms/step - loss: 0.2395 - mean_squared_error: 0.2395 - val_loss: 2.6982 - val_mean_squared_error: 2.6982\n",
            "Epoch 223/300\n",
            "56/56 [==============================] - 0s 4ms/step - loss: 0.1839 - mean_squared_error: 0.1839 - val_loss: 2.7402 - val_mean_squared_error: 2.7402\n",
            "Epoch 224/300\n",
            "56/56 [==============================] - 0s 5ms/step - loss: 0.2155 - mean_squared_error: 0.2155 - val_loss: 2.6065 - val_mean_squared_error: 2.6065\n",
            "Epoch 225/300\n",
            "56/56 [==============================] - 0s 4ms/step - loss: 0.2199 - mean_squared_error: 0.2199 - val_loss: 2.6179 - val_mean_squared_error: 2.6179\n",
            "Epoch 226/300\n",
            "56/56 [==============================] - 0s 5ms/step - loss: 0.1588 - mean_squared_error: 0.1588 - val_loss: 2.3738 - val_mean_squared_error: 2.3738\n",
            "Epoch 227/300\n",
            "56/56 [==============================] - 0s 5ms/step - loss: 0.1280 - mean_squared_error: 0.1280 - val_loss: 2.5037 - val_mean_squared_error: 2.5037\n",
            "Epoch 228/300\n",
            "56/56 [==============================] - 0s 4ms/step - loss: 0.2136 - mean_squared_error: 0.2136 - val_loss: 2.4950 - val_mean_squared_error: 2.4950\n",
            "Epoch 229/300\n",
            "56/56 [==============================] - 0s 4ms/step - loss: 0.2229 - mean_squared_error: 0.2229 - val_loss: 2.5297 - val_mean_squared_error: 2.5297\n",
            "Epoch 230/300\n",
            "56/56 [==============================] - 0s 4ms/step - loss: 0.1780 - mean_squared_error: 0.1780 - val_loss: 2.5944 - val_mean_squared_error: 2.5944\n",
            "Epoch 231/300\n",
            "56/56 [==============================] - 0s 5ms/step - loss: 0.1935 - mean_squared_error: 0.1935 - val_loss: 2.2408 - val_mean_squared_error: 2.2408\n",
            "Epoch 232/300\n",
            "56/56 [==============================] - 0s 4ms/step - loss: 0.1655 - mean_squared_error: 0.1655 - val_loss: 2.4717 - val_mean_squared_error: 2.4717\n",
            "Epoch 233/300\n",
            "56/56 [==============================] - 0s 5ms/step - loss: 0.1421 - mean_squared_error: 0.1421 - val_loss: 2.4411 - val_mean_squared_error: 2.4411\n",
            "Epoch 234/300\n",
            "56/56 [==============================] - 0s 4ms/step - loss: 0.1865 - mean_squared_error: 0.1865 - val_loss: 2.5803 - val_mean_squared_error: 2.5803\n",
            "Epoch 235/300\n",
            "56/56 [==============================] - 0s 5ms/step - loss: 0.1677 - mean_squared_error: 0.1677 - val_loss: 2.6473 - val_mean_squared_error: 2.6473\n",
            "Epoch 236/300\n",
            "56/56 [==============================] - 0s 4ms/step - loss: 0.1665 - mean_squared_error: 0.1665 - val_loss: 2.6737 - val_mean_squared_error: 2.6737\n",
            "Epoch 237/300\n",
            "56/56 [==============================] - 0s 4ms/step - loss: 0.1563 - mean_squared_error: 0.1563 - val_loss: 2.2759 - val_mean_squared_error: 2.2759\n",
            "Epoch 238/300\n",
            "56/56 [==============================] - 0s 4ms/step - loss: 0.1362 - mean_squared_error: 0.1362 - val_loss: 2.5620 - val_mean_squared_error: 2.5620\n",
            "Epoch 239/300\n",
            "56/56 [==============================] - 0s 5ms/step - loss: 0.1998 - mean_squared_error: 0.1998 - val_loss: 2.4845 - val_mean_squared_error: 2.4845\n",
            "Epoch 240/300\n",
            "56/56 [==============================] - 0s 5ms/step - loss: 0.2068 - mean_squared_error: 0.2068 - val_loss: 2.5089 - val_mean_squared_error: 2.5089\n",
            "Epoch 241/300\n",
            "56/56 [==============================] - 0s 5ms/step - loss: 0.1847 - mean_squared_error: 0.1847 - val_loss: 2.3630 - val_mean_squared_error: 2.3630\n",
            "Epoch 242/300\n",
            "56/56 [==============================] - 0s 4ms/step - loss: 0.2582 - mean_squared_error: 0.2582 - val_loss: 2.6905 - val_mean_squared_error: 2.6905\n",
            "Epoch 243/300\n",
            "56/56 [==============================] - 0s 5ms/step - loss: 0.2144 - mean_squared_error: 0.2144 - val_loss: 2.5575 - val_mean_squared_error: 2.5575\n",
            "Epoch 244/300\n",
            "56/56 [==============================] - 0s 4ms/step - loss: 0.2300 - mean_squared_error: 0.2300 - val_loss: 2.2071 - val_mean_squared_error: 2.2071\n",
            "Epoch 245/300\n",
            "56/56 [==============================] - 0s 4ms/step - loss: 0.2796 - mean_squared_error: 0.2796 - val_loss: 2.3180 - val_mean_squared_error: 2.3180\n",
            "Epoch 246/300\n",
            "56/56 [==============================] - 0s 4ms/step - loss: 0.1567 - mean_squared_error: 0.1567 - val_loss: 2.3935 - val_mean_squared_error: 2.3935\n",
            "Epoch 247/300\n",
            "56/56 [==============================] - 0s 4ms/step - loss: 0.2952 - mean_squared_error: 0.2952 - val_loss: 2.2837 - val_mean_squared_error: 2.2837\n",
            "Epoch 248/300\n",
            "56/56 [==============================] - 0s 5ms/step - loss: 0.2135 - mean_squared_error: 0.2135 - val_loss: 2.5151 - val_mean_squared_error: 2.5151\n",
            "Epoch 249/300\n",
            "56/56 [==============================] - 0s 4ms/step - loss: 0.2501 - mean_squared_error: 0.2501 - val_loss: 2.5360 - val_mean_squared_error: 2.5360\n",
            "Epoch 250/300\n",
            "56/56 [==============================] - 0s 4ms/step - loss: 0.1734 - mean_squared_error: 0.1734 - val_loss: 2.4731 - val_mean_squared_error: 2.4731\n",
            "Epoch 251/300\n",
            "56/56 [==============================] - 0s 5ms/step - loss: 0.1792 - mean_squared_error: 0.1792 - val_loss: 2.7040 - val_mean_squared_error: 2.7040\n",
            "Epoch 252/300\n",
            "56/56 [==============================] - 0s 4ms/step - loss: 0.2516 - mean_squared_error: 0.2516 - val_loss: 2.6224 - val_mean_squared_error: 2.6224\n",
            "Epoch 253/300\n",
            "56/56 [==============================] - 0s 4ms/step - loss: 0.2909 - mean_squared_error: 0.2909 - val_loss: 2.4174 - val_mean_squared_error: 2.4174\n",
            "Epoch 254/300\n",
            "56/56 [==============================] - 0s 4ms/step - loss: 0.1419 - mean_squared_error: 0.1419 - val_loss: 2.3599 - val_mean_squared_error: 2.3599\n",
            "Epoch 255/300\n",
            "56/56 [==============================] - 0s 5ms/step - loss: 0.1648 - mean_squared_error: 0.1648 - val_loss: 2.6506 - val_mean_squared_error: 2.6506\n",
            "Epoch 256/300\n",
            "56/56 [==============================] - 0s 4ms/step - loss: 0.1601 - mean_squared_error: 0.1601 - val_loss: 2.6054 - val_mean_squared_error: 2.6054\n",
            "Epoch 257/300\n",
            "56/56 [==============================] - 0s 5ms/step - loss: 0.1633 - mean_squared_error: 0.1633 - val_loss: 2.4041 - val_mean_squared_error: 2.4041\n",
            "Epoch 258/300\n",
            "56/56 [==============================] - 0s 5ms/step - loss: 0.2102 - mean_squared_error: 0.2102 - val_loss: 2.4771 - val_mean_squared_error: 2.4771\n",
            "Epoch 259/300\n",
            "56/56 [==============================] - 0s 4ms/step - loss: 0.1680 - mean_squared_error: 0.1680 - val_loss: 2.4642 - val_mean_squared_error: 2.4642\n",
            "Epoch 260/300\n",
            "56/56 [==============================] - 0s 4ms/step - loss: 0.2263 - mean_squared_error: 0.2263 - val_loss: 2.4959 - val_mean_squared_error: 2.4959\n",
            "Epoch 261/300\n",
            "56/56 [==============================] - 0s 4ms/step - loss: 0.1597 - mean_squared_error: 0.1597 - val_loss: 2.6104 - val_mean_squared_error: 2.6104\n",
            "Epoch 262/300\n",
            "56/56 [==============================] - 0s 4ms/step - loss: 0.2030 - mean_squared_error: 0.2030 - val_loss: 2.3412 - val_mean_squared_error: 2.3412\n",
            "Epoch 263/300\n",
            "56/56 [==============================] - 0s 4ms/step - loss: 0.1475 - mean_squared_error: 0.1475 - val_loss: 2.4987 - val_mean_squared_error: 2.4987\n",
            "Epoch 264/300\n",
            "56/56 [==============================] - 0s 4ms/step - loss: 0.1521 - mean_squared_error: 0.1521 - val_loss: 2.5873 - val_mean_squared_error: 2.5873\n",
            "Epoch 265/300\n",
            "56/56 [==============================] - 0s 4ms/step - loss: 0.1521 - mean_squared_error: 0.1521 - val_loss: 2.6846 - val_mean_squared_error: 2.6846\n",
            "Epoch 266/300\n",
            "56/56 [==============================] - 0s 5ms/step - loss: 0.1941 - mean_squared_error: 0.1941 - val_loss: 2.4869 - val_mean_squared_error: 2.4869\n",
            "Epoch 267/300\n",
            "56/56 [==============================] - 0s 5ms/step - loss: 0.1968 - mean_squared_error: 0.1968 - val_loss: 2.6662 - val_mean_squared_error: 2.6662\n",
            "Epoch 268/300\n",
            "56/56 [==============================] - 0s 4ms/step - loss: 0.2462 - mean_squared_error: 0.2462 - val_loss: 2.4719 - val_mean_squared_error: 2.4719\n",
            "Epoch 269/300\n",
            "56/56 [==============================] - 0s 4ms/step - loss: 0.2046 - mean_squared_error: 0.2046 - val_loss: 2.5195 - val_mean_squared_error: 2.5195\n",
            "Epoch 270/300\n",
            "56/56 [==============================] - 0s 4ms/step - loss: 0.2173 - mean_squared_error: 0.2173 - val_loss: 2.2100 - val_mean_squared_error: 2.2100\n",
            "Epoch 271/300\n",
            "56/56 [==============================] - 0s 5ms/step - loss: 0.1714 - mean_squared_error: 0.1714 - val_loss: 2.2026 - val_mean_squared_error: 2.2026\n",
            "Epoch 272/300\n",
            "56/56 [==============================] - 0s 4ms/step - loss: 0.1652 - mean_squared_error: 0.1652 - val_loss: 2.5891 - val_mean_squared_error: 2.5891\n",
            "Epoch 273/300\n",
            "56/56 [==============================] - 0s 4ms/step - loss: 0.1616 - mean_squared_error: 0.1616 - val_loss: 2.4356 - val_mean_squared_error: 2.4356\n",
            "Epoch 274/300\n",
            "56/56 [==============================] - 0s 5ms/step - loss: 0.1764 - mean_squared_error: 0.1764 - val_loss: 2.6901 - val_mean_squared_error: 2.6901\n",
            "Epoch 275/300\n",
            "56/56 [==============================] - 0s 4ms/step - loss: 0.1653 - mean_squared_error: 0.1653 - val_loss: 2.5436 - val_mean_squared_error: 2.5436\n",
            "Epoch 276/300\n",
            "56/56 [==============================] - 0s 4ms/step - loss: 0.1779 - mean_squared_error: 0.1779 - val_loss: 2.8065 - val_mean_squared_error: 2.8065\n",
            "Epoch 277/300\n",
            "56/56 [==============================] - 0s 4ms/step - loss: 0.1844 - mean_squared_error: 0.1844 - val_loss: 2.3562 - val_mean_squared_error: 2.3562\n",
            "Epoch 278/300\n",
            "56/56 [==============================] - 0s 4ms/step - loss: 0.2463 - mean_squared_error: 0.2463 - val_loss: 2.2759 - val_mean_squared_error: 2.2759\n",
            "Epoch 279/300\n",
            "56/56 [==============================] - 0s 5ms/step - loss: 0.2028 - mean_squared_error: 0.2028 - val_loss: 2.5256 - val_mean_squared_error: 2.5256\n",
            "Epoch 280/300\n",
            "56/56 [==============================] - 0s 4ms/step - loss: 0.1655 - mean_squared_error: 0.1655 - val_loss: 2.5307 - val_mean_squared_error: 2.5307\n",
            "Epoch 281/300\n",
            "56/56 [==============================] - 0s 4ms/step - loss: 0.1263 - mean_squared_error: 0.1263 - val_loss: 2.4811 - val_mean_squared_error: 2.4811\n",
            "Epoch 282/300\n",
            "56/56 [==============================] - 0s 4ms/step - loss: 0.1091 - mean_squared_error: 0.1091 - val_loss: 2.5917 - val_mean_squared_error: 2.5917\n",
            "Epoch 283/300\n",
            "56/56 [==============================] - 0s 5ms/step - loss: 0.1246 - mean_squared_error: 0.1246 - val_loss: 2.5417 - val_mean_squared_error: 2.5417\n",
            "Epoch 284/300\n",
            "56/56 [==============================] - 0s 4ms/step - loss: 0.1786 - mean_squared_error: 0.1786 - val_loss: 2.4754 - val_mean_squared_error: 2.4754\n",
            "Epoch 285/300\n",
            "56/56 [==============================] - 0s 4ms/step - loss: 0.1531 - mean_squared_error: 0.1531 - val_loss: 2.6839 - val_mean_squared_error: 2.6839\n",
            "Epoch 286/300\n",
            "56/56 [==============================] - 0s 4ms/step - loss: 0.1551 - mean_squared_error: 0.1551 - val_loss: 2.4813 - val_mean_squared_error: 2.4813\n",
            "Epoch 287/300\n",
            "56/56 [==============================] - 0s 5ms/step - loss: 0.1731 - mean_squared_error: 0.1731 - val_loss: 2.3354 - val_mean_squared_error: 2.3354\n",
            "Epoch 288/300\n",
            "56/56 [==============================] - 0s 4ms/step - loss: 0.1572 - mean_squared_error: 0.1572 - val_loss: 2.6058 - val_mean_squared_error: 2.6058\n",
            "Epoch 289/300\n",
            "56/56 [==============================] - 0s 4ms/step - loss: 0.1447 - mean_squared_error: 0.1447 - val_loss: 2.6313 - val_mean_squared_error: 2.6313\n",
            "Epoch 290/300\n",
            "56/56 [==============================] - 0s 4ms/step - loss: 0.1730 - mean_squared_error: 0.1730 - val_loss: 2.3792 - val_mean_squared_error: 2.3792\n",
            "Epoch 291/300\n",
            "56/56 [==============================] - 0s 4ms/step - loss: 0.1402 - mean_squared_error: 0.1402 - val_loss: 2.2903 - val_mean_squared_error: 2.2903\n",
            "Epoch 292/300\n",
            "56/56 [==============================] - 0s 4ms/step - loss: 0.1839 - mean_squared_error: 0.1839 - val_loss: 2.2892 - val_mean_squared_error: 2.2892\n",
            "Epoch 293/300\n",
            "56/56 [==============================] - 0s 5ms/step - loss: 0.1371 - mean_squared_error: 0.1371 - val_loss: 2.4464 - val_mean_squared_error: 2.4464\n",
            "Epoch 294/300\n",
            "56/56 [==============================] - 0s 5ms/step - loss: 0.2123 - mean_squared_error: 0.2123 - val_loss: 2.4338 - val_mean_squared_error: 2.4338\n",
            "Epoch 295/300\n",
            "56/56 [==============================] - 0s 4ms/step - loss: 0.2358 - mean_squared_error: 0.2358 - val_loss: 2.6330 - val_mean_squared_error: 2.6330\n",
            "Epoch 296/300\n",
            "56/56 [==============================] - 0s 4ms/step - loss: 0.1859 - mean_squared_error: 0.1859 - val_loss: 2.5276 - val_mean_squared_error: 2.5276\n",
            "Epoch 297/300\n",
            "56/56 [==============================] - 0s 5ms/step - loss: 0.1485 - mean_squared_error: 0.1485 - val_loss: 2.4547 - val_mean_squared_error: 2.4547\n",
            "Epoch 298/300\n",
            "56/56 [==============================] - 0s 4ms/step - loss: 0.1683 - mean_squared_error: 0.1683 - val_loss: 2.5058 - val_mean_squared_error: 2.5058\n",
            "Epoch 299/300\n",
            "56/56 [==============================] - 0s 4ms/step - loss: 0.1508 - mean_squared_error: 0.1508 - val_loss: 2.3358 - val_mean_squared_error: 2.3358\n",
            "Epoch 300/300\n",
            "56/56 [==============================] - 0s 5ms/step - loss: 0.1777 - mean_squared_error: 0.1777 - val_loss: 2.3359 - val_mean_squared_error: 2.3359\n",
            "2/2 [==============================] - 0s 11ms/step - loss: 1.9811 - mean_squared_error: 1.9811\n",
            "\n",
            "\n",
            "score:  [1.9810917377471924, 1.9810917377471924]\n"
          ]
        }
      ]
    },
    {
      "cell_type": "code",
      "source": [
        "fig = plt.figure(figsize=(10, 8))\n",
        "plt.subplot(2,1,1)\n",
        "plt.plot(history.history['mean_squared_error'])\n",
        "plt.plot(history.history['val_mean_squared_error'])\n",
        "plt.title('model accuracy')\n",
        "plt.ylabel('mse')\n",
        "plt.xlabel('epoch')\n",
        "plt.legend(['train', 'val'], loc='upper left')\n",
        "plt.show()\n",
        "\n",
        "fig = plt.figure(figsize=(10, 8))\n",
        "plt.subplot(2,1,2)\n",
        "plt.plot(history.history['loss'])\n",
        "plt.plot(history.history['val_loss'])\n",
        "plt.title('model loss')\n",
        "plt.ylabel('loss')\n",
        "plt.xlabel('epoch')\n",
        "plt.legend(['train', 'val'], loc='upper left')\n",
        "plt.show()"
      ],
      "metadata": {
        "colab": {
          "base_uri": "https://localhost:8080/",
          "height": 535
        },
        "id": "uWvO-8NLqBev",
        "outputId": "afd3e6bb-2dd7-4675-f679-da860aefb883"
      },
      "execution_count": null,
      "outputs": [
        {
          "output_type": "display_data",
          "data": {
            "text/plain": [
              "<Figure size 720x576 with 1 Axes>"
            ],
            "image/png": "[encoded data removed]"
          },
          "metadata": {
            "needs_background": "light"
          }
        },
        {
          "output_type": "display_data",
          "data": {
            "text/plain": [
              "<Figure size 720x576 with 1 Axes>"
            ],
            "image/png": "[encoded data removed]"
          },
          "metadata": {
            "needs_background": "light"
          }
        }
      ]
    }
  ]
}