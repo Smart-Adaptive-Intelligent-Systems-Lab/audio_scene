{
  "nbformat": 4,
  "nbformat_minor": 0,
  "metadata": {
    "colab": {
      "name": "12- Audio decomposition.ipynb",
      "provenance": [],
      "collapsed_sections": [
        "tUobdSTqcn4z",
        "Q1FbTgAEcf72"
      ]
    },
    "kernelspec": {
      "name": "python3",
      "display_name": "Python 3"
    },
    "language_info": {
      "name": "python"
    }
  },
  "cells": [
    {
      "cell_type": "markdown",
      "source": [
        "---\n",
        "---\n",
        "\n",
        "# **Audio Classification**"
      ],
      "metadata": {
        "id": "tUobdSTqcn4z"
      }
    },
    {
      "cell_type": "code",
      "execution_count": null,
      "metadata": {
        "id": "WD5VMFbbYgzO"
      },
      "outputs": [],
      "source": [
        "!wget https://perso.esiee.fr/~gueurett/LV_Research/dataset_audio.zip\n",
        "!unzip dataset_audio.zip"
      ]
    },
    {
      "cell_type": "code",
      "source": [
        "# if wget desn't work (happens sometimes I believe it's because my school servers are blocking the access), import the dataset manualy and unzip on this block\n",
        "#!unzip dataset_audio.zip"
      ],
      "metadata": {
        "id": "kb-LfV4PZA3u"
      },
      "execution_count": null,
      "outputs": []
    },
    {
      "cell_type": "markdown",
      "source": [
        "---\n",
        "---\n",
        "# **Preprocessing**"
      ],
      "metadata": {
        "id": "Q1FbTgAEcf72"
      }
    },
    {
      "cell_type": "code",
      "source": [
        "!pip install tensorflow_io\n",
        "!pip install pydub"
      ],
      "metadata": {
        "id": "QI3tRIvbZB9E",
        "colab": {
          "base_uri": "https://localhost:8080/"
        },
        "outputId": "b8a8c375-cbf5-462c-f59a-2a61a9e455f6"
      },
      "execution_count": null,
      "outputs": [
        {
          "output_type": "stream",
          "name": "stdout",
          "text": [
            "Looking in indexes: https://pypi.org/simple, https://us-python.pkg.dev/colab-wheels/public/simple/\n",
            "Collecting tensorflow_io\n",
            "  Downloading tensorflow_io-0.26.0-cp37-cp37m-manylinux_2_12_x86_64.manylinux2010_x86_64.whl (25.9 MB)\n",
            "\u001b[K     |████████████████████████████████| 25.9 MB 1.8 MB/s \n",
            "\u001b[?25hRequirement already satisfied: tensorflow-io-gcs-filesystem==0.26.0 in /usr/local/lib/python3.7/dist-packages (from tensorflow_io) (0.26.0)\n",
            "Installing collected packages: tensorflow-io\n",
            "Successfully installed tensorflow-io-0.26.0\n",
            "Looking in indexes: https://pypi.org/simple, https://us-python.pkg.dev/colab-wheels/public/simple/\n",
            "Collecting pydub\n",
            "  Downloading pydub-0.25.1-py2.py3-none-any.whl (32 kB)\n",
            "Installing collected packages: pydub\n",
            "Successfully installed pydub-0.25.1\n"
          ]
        }
      ]
    },
    {
      "cell_type": "code",
      "source": [
        "import os\n",
        "import time\n",
        "import numpy as np\n",
        "import tensorflow as tf\n",
        "import tensorflow_io as tfio\n",
        "import IPython.display as ipd\n",
        "import matplotlib.pyplot as plt\n",
        "\n",
        "from keras import initializers\n",
        "from pydub import AudioSegment\n",
        "from sklearn import preprocessing\n",
        "from scipy.io.wavfile import read, write\n",
        "from tensorflow.keras import layers\n",
        "from sklearn.model_selection import KFold\n",
        "from tensorflow.keras.optimizers import Adam\n",
        "from sklearn.model_selection import TimeSeriesSplit\n",
        "\n",
        "from google.colab import files"
      ],
      "metadata": {
        "id": "ft5LztCcbs2T"
      },
      "execution_count": null,
      "outputs": []
    },
    {
      "cell_type": "code",
      "source": [
        "def delete_excess(data):\n",
        "  return data[:length_audio]\n",
        "\n",
        "def add_average(data):\n",
        "  result = np.zeros(shape=(length_audio,))\n",
        "  end = data.shape[0]\n",
        "  mean = np.mean(data[end-25:])\n",
        "  result[:end] = data\n",
        "  result[end:] = mean\n",
        "  return result\n",
        "\n",
        "def plot_spectrogram(spectrogram, ax, title, rate):\n",
        "  log_spec = np.log(spectrogram.T)\n",
        "  height = log_spec.shape[0]\n",
        "  width = log_spec.shape[1]\n",
        "  X = np.linspace(0, np.size(spectrogram), num=width, dtype=int)\n",
        "  Y = range(height)\n",
        "  ax.pcolormesh(X, Y, log_spec)\n",
        "  ax.set_xlim([0, rate])\n",
        "  ax.set_title(title)"
      ],
      "metadata": {
        "id": "1gbWftihb_qE"
      },
      "execution_count": null,
      "outputs": []
    },
    {
      "cell_type": "code",
      "source": [
        "directory = \"./dataset_audio/\"\n",
        "file_name = \"I0474.wav\"\n",
        "path = directory + file_name\n",
        "\n",
        "rate, data = read(path)\n",
        "\n",
        "length = data.shape[0] / rate   # \n",
        "length_audio = data.shape[0]    # 176400\n",
        "nb_channels = data.shape[1]     # 2\n",
        "\n",
        "n_samples = 0\n",
        "for file_name in os.listdir(directory):\n",
        "  n_samples += 1\n",
        "\n",
        "dataset = np.zeros(shape=(n_samples, length_audio))\n",
        "\n",
        "# creating the dataset and labels\n",
        "labels = np.zeros(shape=(n_samples,))\n",
        "\n",
        "for index, filename in enumerate(os.listdir(directory)):\n",
        "  if filename[0] == 'I': labels[index] = 1\n",
        "  path = directory + filename\n",
        "  rate, data = read(path)\n",
        "  data = np.mean(data,axis=1)\n",
        "  dim = data.shape\n",
        "  if dim != (length_audio, nb_channels):\n",
        "    if dim[0] > length_audio:\n",
        "      result = delete_excess(data)\n",
        "    else:\n",
        "      result = add_average(data)\n",
        "    dataset[index] = result\n",
        "  else:\n",
        "    dataset[index] = data\n",
        "\n",
        "dataset = (dataset - np.mean(dataset)) / np.std(dataset)  # let's normalize\n",
        "\n",
        "print(\"----------------------------------\")\n",
        "print(\"| dataset.shape: \", dataset.shape)\n",
        "print(\"| labels.shape : \", labels.shape)\n",
        "print(\"----------------------------------\")"
      ],
      "metadata": {
        "colab": {
          "base_uri": "https://localhost:8080/"
        },
        "id": "Tzm2s3mJcJDN",
        "outputId": "e9a5b6d9-b30d-4af7-cbc8-f06b3c469fb2"
      },
      "execution_count": null,
      "outputs": [
        {
          "output_type": "stream",
          "name": "stdout",
          "text": [
            "----------------------------------\n",
            "| dataset.shape:  (200, 176400)\n",
            "| labels.shape :  (200,)\n",
            "----------------------------------\n"
          ]
        }
      ]
    },
    {
      "cell_type": "markdown",
      "source": [
        "---\n",
        "---\n",
        "# **Slicing**"
      ],
      "metadata": {
        "id": "vDv0HH8tdSFF"
      }
    },
    {
      "cell_type": "code",
      "source": [
        "window_size = 3528\n",
        "window_step = 1764\n",
        "n_windows = int(((length_audio - window_size) / window_step ) + 1)\n",
        "\n",
        "print('number of windows: ', n_windows)\n",
        "\n",
        "dataset_split = np.zeros(shape=(n_samples, n_windows, window_size,))\n",
        "\n",
        "for index_audio, sample in enumerate(dataset):\n",
        "\n",
        "  index = 0\n",
        "\n",
        "  while index <= (length_audio - window_size):\n",
        "    \n",
        "    dataset_split[index_audio][int(index/window_step)] = sample[index : (index + window_size)]\n",
        "    index += window_step\n",
        "  \n",
        "print(\"Done -\\ndataset_split.shape: \", dataset_split.shape)\n",
        "\n",
        "!mkdir audios\n",
        "%cd audios\n",
        "\n",
        "indoor_count = 0\n",
        "outdoor_count = 0\n",
        "\n",
        "for index_audio, sample in enumerate(dataset_split):\n",
        "  for index, part in enumerate(sample):\n",
        "    if labels[index_audio] == 1:\n",
        "      filename = 'I_' + str(indoor_count) + '_' + str(index) + '.wav'\n",
        "    else: \n",
        "      filename = 'O_' + str(outdoor_count) + '_' + str(index) + '.wav'\n",
        "      \n",
        "    write(filename, rate, part)\n",
        "\n",
        "  if labels[index_audio] == 1: indoor_count += 1\n",
        "  else: outdoor_count += 1\n",
        "\n",
        "%cd .."
      ],
      "metadata": {
        "colab": {
          "base_uri": "https://localhost:8080/"
        },
        "id": "8IURaCcRddz5",
        "outputId": "ababb6dd-a803-4b80-f254-2279360988e6"
      },
      "execution_count": null,
      "outputs": [
        {
          "output_type": "stream",
          "name": "stdout",
          "text": [
            "number of windows:  99\n",
            "Done -\n",
            "dataset_split.shape:  (200, 99, 3528)\n",
            "/content/audios\n",
            "/content\n"
          ]
        }
      ]
    },
    {
      "cell_type": "code",
      "source": [
        "!zip -r /content/audios.zip /content/audios"
      ],
      "metadata": {
        "id": "a2EsogHOv6H4"
      },
      "execution_count": null,
      "outputs": []
    },
    {
      "cell_type": "code",
      "source": [
        "files.download(\"/content/audios.zip\")"
      ],
      "metadata": {
        "colab": {
          "base_uri": "https://localhost:8080/",
          "height": 34
        },
        "id": "rDRj-zAA4Vcd",
        "outputId": "557bd89e-d0da-4cc6-f72a-3927b1ade06d"
      },
      "execution_count": null,
      "outputs": [
        {
          "output_type": "display_data",
          "data": {
            "text/plain": [
              "<IPython.core.display.Javascript object>"
            ],
            "application/javascript": [
              "\n",
              "    async function download(id, filename, size) {\n",
              "      if (!google.colab.kernel.accessAllowed) {\n",
              "        return;\n",
              "      }\n",
              "      const div = document.createElement('div');\n",
              "      const label = document.createElement('label');\n",
              "      label.textContent = `Downloading \"${filename}\": `;\n",
              "      div.appendChild(label);\n",
              "      const progress = document.createElement('progress');\n",
              "      progress.max = size;\n",
              "      div.appendChild(progress);\n",
              "      document.body.appendChild(div);\n",
              "\n",
              "      const buffers = [];\n",
              "      let downloaded = 0;\n",
              "\n",
              "      const channel = await google.colab.kernel.comms.open(id);\n",
              "      // Send a message to notify the kernel that we're ready.\n",
              "      channel.send({})\n",
              "\n",
              "      for await (const message of channel.messages) {\n",
              "        // Send a message to notify the kernel that we're ready.\n",
              "        channel.send({})\n",
              "        if (message.buffers) {\n",
              "          for (const buffer of message.buffers) {\n",
              "            buffers.push(buffer);\n",
              "            downloaded += buffer.byteLength;\n",
              "            progress.value = downloaded;\n",
              "          }\n",
              "        }\n",
              "      }\n",
              "      const blob = new Blob(buffers, {type: 'application/binary'});\n",
              "      const a = document.createElement('a');\n",
              "      a.href = window.URL.createObjectURL(blob);\n",
              "      a.download = filename;\n",
              "      div.appendChild(a);\n",
              "      a.click();\n",
              "      div.remove();\n",
              "    }\n",
              "  "
            ]
          },
          "metadata": {}
        },
        {
          "output_type": "display_data",
          "data": {
            "text/plain": [
              "<IPython.core.display.Javascript object>"
            ],
            "application/javascript": [
              "download(\"download_895d5cd5-c7f9-47c4-a35e-79466b2082b1\", \"audios.zip\", 368174203)"
            ]
          },
          "metadata": {}
        }
      ]
    }
  ]
}