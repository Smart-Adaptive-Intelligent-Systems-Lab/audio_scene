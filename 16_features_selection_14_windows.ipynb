{
  "nbformat": 4,
  "nbformat_minor": 0,
  "metadata": {
    "colab": {
      "name": "16- features selection 14 windows.ipynb",
      "provenance": [],
      "collapsed_sections": []
    },
    "kernelspec": {
      "name": "python3",
      "display_name": "Python 3"
    },
    "language_info": {
      "name": "python"
    }
  },
  "cells": [
    {
      "cell_type": "code",
      "execution_count": null,
      "metadata": {
        "id": "u0we8B3JTGT6"
      },
      "outputs": [],
      "source": [
        "!wget https://perso.esiee.fr/~gueurett/LV_Research/WS_analysis_results_14.csv"
      ]
    },
    {
      "cell_type": "code",
      "source": [
        "!wget https://perso.esiee.fr/~gueurett/LV_Research/Acoustic_Analysis_Results.csv"
      ],
      "metadata": {
        "id": "Q4u4gUUGTtb9"
      },
      "execution_count": null,
      "outputs": []
    },
    {
      "cell_type": "code",
      "source": [
        "import numpy as np\n",
        "import pandas as pd\n",
        "import tensorflow as tf\n",
        "import matplotlib.pyplot as plt\n",
        "\n",
        "from sklearn import preprocessing\n",
        "from keras import layers, initializers\n",
        "from sklearn.model_selection import KFold\n",
        "from tensorflow.keras.optimizers import Adam, SGD\n",
        "from sklearn.ensemble import RandomForestClassifier"
      ],
      "metadata": {
        "id": "cCxEbPrcTc8l"
      },
      "execution_count": null,
      "outputs": []
    },
    {
      "cell_type": "code",
      "source": [
        "prints = False\n",
        "\n",
        "data = pd.read_csv('WS_analysis_results_14.csv', delimiter=',', dtype=None, encoding=None)\n",
        "data = data.rename(columns={'MOMENTS': 'Filename'}) # rename the MOMENTS column to the filename column\n",
        "\n",
        "data_2 = pd.read_csv('Acoustic_Analysis_Results.csv', delimiter=',', dtype=None, encoding=None)\n",
        "data_2 = data_2.rename(columns={'Unnamed: 0': 'Filename'}) # rename the not-named column to the filename column\n",
        "data_2 = data_2.fillna(data_2.mean(numeric_only=True))\n",
        "\n",
        "n_samples = 200\n",
        "n_windows = 14\n",
        "n_features = 35\n",
        "\n",
        "dataset = np.ones(shape=(n_samples * n_windows, n_features))\n",
        "dataset_incr = np.ones(shape=(n_samples * (n_windows+1), n_features))\n",
        "labels  = np.zeros(shape=(n_samples * n_windows))\n",
        "labels_incr = np.zeros(shape=(n_samples * (n_windows+1)))\n",
        "\n",
        "for column_name in data.columns:\n",
        "  if column_name == 'Filename': continue\n",
        "  data[column_name] = (data[column_name] - np.mean(data[column_name])) / np.std(data[column_name])\n",
        "\n",
        "for column_name in data_2.columns:\n",
        "  if column_name == 'Filename': continue\n",
        "  data_2[column_name] = (data_2[column_name] - np.mean(data_2[column_name])) / np.std(data_2[column_name])\n",
        "\n",
        "\n",
        "for index, row in data.iterrows():\n",
        "\n",
        "  filename = row['Filename'][:-4]\n",
        "  if prints: print(\"filename without wav: \", filename)\n",
        "\n",
        "  label, n_sample, n_part = filename.split('_')\n",
        "  n_sample = int(n_sample)\n",
        "  n_part   = int(n_part)\n",
        "\n",
        "  if prints:\n",
        "    print(\"label: \", label)\n",
        "    print(\"n_sample: \", n_sample)\n",
        "    print(\"n_part: \", n_part)\n",
        "\n",
        "  if label == 'I':\n",
        "    labels[index] = 1\n",
        "    labels_incr[index] = 1\n",
        "\n",
        "  row = data.iloc[index].to_numpy()[1:]\n",
        "  if prints:\n",
        "    print(\"row.shape: \", row.shape)\n",
        "    print(\"dataset.shape:  \", dataset.shape)\n",
        "    print(\"dataset[n_sample, n_part, :].shape:  \", dataset[n_sample, n_part, :].shape, '\\n\\n')\n",
        "  dataset[index, :] = row\n",
        "  dataset_incr[index, :] = row\n",
        "\n",
        "index += 1\n",
        "for index_data_2, row in data_2.iterrows():\n",
        "\n",
        "  label = row['Filename'][0]\n",
        "  if label == 'I':\n",
        "    labels_incr[index + index_data_2] = 1\n",
        "\n",
        "data_2 = data_2.drop(columns=['Filename'])\n",
        "data_2 = data_2.to_numpy()\n",
        "\n",
        "for index_data_2, features in enumerate(data_2):\n",
        "  dataset_incr[index + index_data_2] = features\n",
        "\n",
        "rng     = np.random.default_rng() # shuffle time\n",
        "shuffle = rng.choice(n_samples*n_windows, size=(n_samples * n_windows), replace=False)\n",
        "data    = dataset[shuffle]\n",
        "labels  = labels[shuffle]\n",
        "\n",
        "shuffle_incr = rng.choice(n_samples*(n_windows+1), size=(n_samples * (n_windows+1)), replace=False)\n",
        "data_incr    = dataset_incr[shuffle_incr]\n",
        "labels_incr  = labels_incr[shuffle_incr]\n",
        "\n",
        "print(\"---------------------------------\")\n",
        "print(\"|  data.shape:   \", data.shape, \"   |\")\n",
        "print(\"|  labels.shape: \", labels.shape, \"      |\")\n",
        "print(\"---------------------------------\")\n",
        "print(\"---------------------------------\")\n",
        "print(\"|  data_incr.shape:\", data_incr.shape, \" |\")\n",
        "print(\"|  labels.shape:   \", labels_incr.shape, \"    |\")\n",
        "print(\"---------------------------------\")"
      ],
      "metadata": {
        "colab": {
          "base_uri": "https://localhost:8080/"
        },
        "id": "phA3a3G5TvE-",
        "outputId": "f81962b1-5632-485f-e5d4-1df000a85de6"
      },
      "execution_count": null,
      "outputs": [
        {
          "output_type": "stream",
          "name": "stdout",
          "text": [
            "---------------------------------\n",
            "|  data.shape:    (2800, 35)    |\n",
            "|  labels.shape:  (2800,)       |\n",
            "---------------------------------\n",
            "---------------------------------\n",
            "|  data_incr.shape: (3000, 35)  |\n",
            "|  labels.shape:    (3000,)     |\n",
            "---------------------------------\n"
          ]
        }
      ]
    },
    {
      "cell_type": "markdown",
      "source": [
        "---\n",
        "---\n",
        "# **RandomForestClassifier with data separation**"
      ],
      "metadata": {
        "id": "Pj05T7ciaRXC"
      }
    },
    {
      "cell_type": "code",
      "source": [
        "rfc = RandomForestClassifier(n_estimators=1000, max_depth=None, min_samples_split=2, min_samples_leaf=1, max_features='sqrt', oob_score=True, random_state=8)\n",
        "rfc.fit(data, labels)\n",
        "\n",
        "print(rfc.oob_score_)\n",
        "features_importance = rfc.feature_importances_\n",
        "plt.plot(rfc.feature_importances_)\n",
        "\n",
        "features_importance = np.array(features_importance)\n",
        "arg_max = np.argsort(features_importance)"
      ],
      "metadata": {
        "colab": {
          "base_uri": "https://localhost:8080/",
          "height": 282
        },
        "id": "SlnfxW8IaXZm",
        "outputId": "66d14dbc-e254-490d-8d43-247a6a3c9f2d"
      },
      "execution_count": null,
      "outputs": [
        {
          "output_type": "stream",
          "name": "stdout",
          "text": [
            "0.9071428571428571\n"
          ]
        },
        {
          "output_type": "display_data",
          "data": {
            "text/plain": [
              "<Figure size 432x288 with 1 Axes>"
            ],
            "image/png": "[encoded data removed]"
          },
          "metadata": {
            "needs_background": "light"
          }
        }
      ]
    },
    {
      "cell_type": "markdown",
      "source": [
        "---\n",
        "---\n",
        "# **RandomForestClassifier with data separation and features selection**"
      ],
      "metadata": {
        "id": "-UeEI7noaXd6"
      }
    },
    {
      "cell_type": "code",
      "source": [
        "best_score = (0,0)\n",
        "for number in range(1, n_features):\n",
        "\n",
        "  arg_selected_features = arg_max[-number:]\n",
        "  data_cut = data[:, arg_selected_features]\n",
        "\n",
        "  rfc = RandomForestClassifier(n_estimators=1000, max_depth=None, min_samples_split=2, min_samples_leaf=1, max_features='sqrt', oob_score=True, random_state=8)\n",
        "  rfc.fit(data_cut, labels)\n",
        "  if rfc.oob_score_ > best_score[1]: best_score = (number, rfc.oob_score_)\n",
        "  print(\"n_features =\", number, \"   out_of_box score:\", rfc.oob_score_)\n",
        "\n",
        "print(\"\\nmeilleur score pour n_features =\", best_score[0], \"  oout of box score:\", best_score[1])"
      ],
      "metadata": {
        "colab": {
          "base_uri": "https://localhost:8080/"
        },
        "id": "vra1nD9KW1Dz",
        "outputId": "efbd8dd1-3ecc-410f-87c4-2ecc0956650b"
      },
      "execution_count": null,
      "outputs": [
        {
          "output_type": "stream",
          "name": "stdout",
          "text": [
            "n_features = 1    out_of_box score: 0.6435714285714286\n",
            "n_features = 2    out_of_box score: 0.7410714285714286\n",
            "n_features = 3    out_of_box score: 0.7939285714285714\n",
            "n_features = 4    out_of_box score: 0.8128571428571428\n",
            "n_features = 5    out_of_box score: 0.85\n",
            "n_features = 6    out_of_box score: 0.8675\n",
            "n_features = 7    out_of_box score: 0.8825\n",
            "n_features = 8    out_of_box score: 0.8832142857142857\n",
            "n_features = 9    out_of_box score: 0.88\n",
            "n_features = 10    out_of_box score: 0.8875\n",
            "n_features = 11    out_of_box score: 0.8882142857142857\n",
            "n_features = 12    out_of_box score: 0.8957142857142857\n",
            "n_features = 13    out_of_box score: 0.9\n",
            "n_features = 14    out_of_box score: 0.905\n",
            "n_features = 15    out_of_box score: 0.91\n",
            "n_features = 16    out_of_box score: 0.9128571428571428\n",
            "n_features = 17    out_of_box score: 0.9171428571428571\n",
            "n_features = 18    out_of_box score: 0.9153571428571429\n",
            "n_features = 19    out_of_box score: 0.9142857142857143\n",
            "n_features = 20    out_of_box score: 0.9146428571428571\n",
            "n_features = 21    out_of_box score: 0.9164285714285715\n",
            "n_features = 22    out_of_box score: 0.9164285714285715\n",
            "n_features = 23    out_of_box score: 0.9160714285714285\n",
            "n_features = 24    out_of_box score: 0.9142857142857143\n",
            "n_features = 25    out_of_box score: 0.9142857142857143\n",
            "n_features = 26    out_of_box score: 0.9157142857142857\n",
            "n_features = 27    out_of_box score: 0.9114285714285715\n",
            "n_features = 28    out_of_box score: 0.9125\n",
            "n_features = 29    out_of_box score: 0.9107142857142857\n",
            "n_features = 30    out_of_box score: 0.9107142857142857\n",
            "n_features = 31    out_of_box score: 0.9107142857142857\n",
            "n_features = 32    out_of_box score: 0.9096428571428572\n",
            "n_features = 33    out_of_box score: 0.9078571428571428\n",
            "n_features = 34    out_of_box score: 0.9082142857142858\n",
            "\n",
            "meilleur score pour n_features = 17   oout of box score: 0.9171428571428571\n"
          ]
        }
      ]
    },
    {
      "cell_type": "markdown",
      "source": [
        "---\n",
        "---\n",
        "---\n",
        "---\n",
        "# **RFC with data separation and increment of data**"
      ],
      "metadata": {
        "id": "BnPaZP5m6yXN"
      }
    },
    {
      "cell_type": "code",
      "source": [
        "rfc = RandomForestClassifier(n_estimators=1000, max_depth=None, min_samples_split=2, min_samples_leaf=1, max_features='sqrt', oob_score=True, random_state=8)\n",
        "rfc.fit(data_incr, labels_incr)\n",
        "\n",
        "print(rfc.oob_score_)\n",
        "features_importance = rfc.feature_importances_\n",
        "plt.plot(rfc.feature_importances_)\n",
        "\n",
        "features_importance = np.array(features_importance)\n",
        "arg_max = np.argsort(features_importance)"
      ],
      "metadata": {
        "colab": {
          "base_uri": "https://localhost:8080/",
          "height": 282
        },
        "id": "0pp4N1Dd678V",
        "outputId": "d390a07c-5372-48af-ad44-603cde96db91"
      },
      "execution_count": null,
      "outputs": [
        {
          "output_type": "stream",
          "name": "stdout",
          "text": [
            "0.907\n"
          ]
        },
        {
          "output_type": "display_data",
          "data": {
            "text/plain": [
              "<Figure size 432x288 with 1 Axes>"
            ],
            "image/png": "[encoded data removed]"
          },
          "metadata": {
            "needs_background": "light"
          }
        }
      ]
    },
    {
      "cell_type": "markdown",
      "source": [
        "---\n",
        "---\n",
        "# **RandomForestClassifier with data separation and features selection and data increment**"
      ],
      "metadata": {
        "id": "pejjweGo7G3A"
      }
    },
    {
      "cell_type": "code",
      "source": [
        "best_score = (0,0)\n",
        "for number in range(1, n_features):\n",
        "\n",
        "  arg_selected_features = arg_max[-number:]\n",
        "  data_cut = data_incr[:, arg_selected_features]\n",
        "\n",
        "  rfc = RandomForestClassifier(n_estimators=1000, max_depth=None, min_samples_split=2, min_samples_leaf=1, max_features='sqrt', oob_score=True, random_state=8)\n",
        "  rfc.fit(data_cut, labels_incr)\n",
        "  if rfc.oob_score_ > best_score[1]: best_score = (number, rfc.oob_score_)\n",
        "  print(\"n_features =\", number, \"   out_of_box score:\", rfc.oob_score_)\n",
        "\n",
        "print(\"\\nmeilleur score pour n_features =\", best_score[0], \"  oout of box score:\", best_score[1])"
      ],
      "metadata": {
        "colab": {
          "base_uri": "https://localhost:8080/"
        },
        "id": "8uH-gXdd7EZy",
        "outputId": "3b93c26b-6968-4f39-e9b1-fa1ace600964"
      },
      "execution_count": null,
      "outputs": [
        {
          "output_type": "stream",
          "name": "stdout",
          "text": [
            "n_features = 1    out_of_box score: 0.6433333333333333\n",
            "n_features = 2    out_of_box score: 0.737\n",
            "n_features = 3    out_of_box score: 0.7966666666666666\n",
            "n_features = 4    out_of_box score: 0.8356666666666667\n",
            "n_features = 5    out_of_box score: 0.8406666666666667\n",
            "n_features = 6    out_of_box score: 0.8586666666666667\n",
            "n_features = 7    out_of_box score: 0.8726666666666667\n",
            "n_features = 8    out_of_box score: 0.8743333333333333\n",
            "n_features = 9    out_of_box score: 0.877\n",
            "n_features = 10    out_of_box score: 0.8876666666666667\n",
            "n_features = 11    out_of_box score: 0.8973333333333333\n",
            "n_features = 12    out_of_box score: 0.8996666666666666\n",
            "n_features = 13    out_of_box score: 0.898\n",
            "n_features = 14    out_of_box score: 0.9086666666666666\n",
            "n_features = 15    out_of_box score: 0.9096666666666666\n",
            "n_features = 16    out_of_box score: 0.9123333333333333\n",
            "n_features = 17    out_of_box score: 0.9113333333333333\n",
            "n_features = 18    out_of_box score: 0.9123333333333333\n",
            "n_features = 19    out_of_box score: 0.9116666666666666\n",
            "n_features = 20    out_of_box score: 0.9146666666666666\n",
            "n_features = 21    out_of_box score: 0.916\n",
            "n_features = 22    out_of_box score: 0.9126666666666666\n",
            "n_features = 23    out_of_box score: 0.9116666666666666\n",
            "n_features = 24    out_of_box score: 0.9106666666666666\n",
            "n_features = 25    out_of_box score: 0.9126666666666666\n",
            "n_features = 26    out_of_box score: 0.9153333333333333\n",
            "n_features = 27    out_of_box score: 0.9133333333333333\n",
            "n_features = 28    out_of_box score: 0.9093333333333333\n",
            "n_features = 29    out_of_box score: 0.9093333333333333\n",
            "n_features = 30    out_of_box score: 0.9096666666666666\n",
            "n_features = 31    out_of_box score: 0.906\n",
            "n_features = 32    out_of_box score: 0.9076666666666666\n",
            "n_features = 33    out_of_box score: 0.91\n",
            "n_features = 34    out_of_box score: 0.907\n",
            "\n",
            "meilleur score pour n_features = 21   oout of box score: 0.916\n"
          ]
        }
      ]
    }
  ]
}