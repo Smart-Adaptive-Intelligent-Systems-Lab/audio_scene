{
  "nbformat": 4,
  "nbformat_minor": 0,
  "metadata": {
    "colab": {
      "name": "17- features selection 99 windows.ipynb.ipynb",
      "provenance": []
    },
    "kernelspec": {
      "name": "python3",
      "display_name": "Python 3"
    },
    "language_info": {
      "name": "python"
    }
  },
  "cells": [
    {
      "cell_type": "code",
      "execution_count": null,
      "metadata": {
        "colab": {
          "base_uri": "https://localhost:8080/"
        },
        "id": "wupf4EJ7IGvZ",
        "outputId": "d3126801-c638-4169-8411-c0af3d443029"
      },
      "outputs": [
        {
          "output_type": "stream",
          "name": "stdout",
          "text": [
            "--2022-07-23 03:36:33--  https://perso.esiee.fr/~gueurett/LV_Research/WS_analysis_results_99.csv\n",
            "Resolving perso.esiee.fr (perso.esiee.fr)... 147.215.150.8\n",
            "Connecting to perso.esiee.fr (perso.esiee.fr)|147.215.150.8|:443... connected.\n",
            "HTTP request sent, awaiting response... 200 OK\n",
            "Length: 5916311 (5.6M) [text/csv]\n",
            "Saving to: ‘WS_analysis_results_99.csv’\n",
            "\n",
            "WS_analysis_results 100%[===================>]   5.64M  18.8MB/s    in 0.3s    \n",
            "\n",
            "2022-07-23 03:36:34 (18.8 MB/s) - ‘WS_analysis_results_99.csv’ saved [5916311/5916311]\n",
            "\n"
          ]
        }
      ],
      "source": [
        "!wget https://perso.esiee.fr/~gueurett/LV_Research/WS_analysis_results_99.csv"
      ]
    },
    {
      "cell_type": "code",
      "source": [
        "!wget https://perso.esiee.fr/~gueurett/LV_Research/Acoustic_Analysis_Results.csv"
      ],
      "metadata": {
        "colab": {
          "base_uri": "https://localhost:8080/"
        },
        "id": "TkHnzFDfINAp",
        "outputId": "f93d01dd-7cc8-4e05-ccf1-ebe5190b72a2"
      },
      "execution_count": null,
      "outputs": [
        {
          "output_type": "stream",
          "name": "stdout",
          "text": [
            "--2022-07-23 03:36:40--  https://perso.esiee.fr/~gueurett/LV_Research/Acoustic_Analysis_Results.csv\n",
            "Resolving perso.esiee.fr (perso.esiee.fr)... 147.215.150.8\n",
            "Connecting to perso.esiee.fr (perso.esiee.fr)|147.215.150.8|:443... connected.\n",
            "HTTP request sent, awaiting response... 200 OK\n",
            "Length: 68157 (67K) [text/csv]\n",
            "Saving to: ‘Acoustic_Analysis_Results.csv’\n",
            "\n",
            "\r          Acoustic_   0%[                    ]       0  --.-KB/s               \rAcoustic_Analysis_R 100%[===================>]  66.56K  --.-KB/s    in 0.03s   \n",
            "\n",
            "2022-07-23 03:36:40 (2.45 MB/s) - ‘Acoustic_Analysis_Results.csv’ saved [68157/68157]\n",
            "\n"
          ]
        }
      ]
    },
    {
      "cell_type": "code",
      "source": [
        "import numpy as np\n",
        "import pandas as pd\n",
        "import tensorflow as tf\n",
        "import matplotlib.pyplot as plt\n",
        "\n",
        "from sklearn import preprocessing\n",
        "from keras import layers, initializers\n",
        "from sklearn.model_selection import KFold\n",
        "from tensorflow.keras.optimizers import Adam, SGD\n",
        "from sklearn.ensemble import RandomForestClassifier"
      ],
      "metadata": {
        "id": "MY8-iI_vINg8"
      },
      "execution_count": null,
      "outputs": []
    },
    {
      "cell_type": "code",
      "source": [
        "prints = False\n",
        "\n",
        "data = pd.read_csv('WS_analysis_results_99.csv', delimiter=',', dtype=None, encoding=None)\n",
        "data = data.rename(columns={'MOMENTS': 'Filename'}) # rename the MOMENTS column to the filename column\n",
        "\n",
        "data_2 = pd.read_csv('Acoustic_Analysis_Results.csv', delimiter=',', dtype=None, encoding=None)\n",
        "data_2 = data_2.rename(columns={'Unnamed: 0': 'Filename'}) # rename the not-named column to the filename column\n",
        "data_2 = data_2.fillna(data_2.mean(numeric_only=True))\n",
        "\n",
        "n_samples = 200\n",
        "n_windows = 99\n",
        "n_features = 32\n",
        "\n",
        "dataset = np.ones(shape=(n_samples * n_windows, n_features))\n",
        "dataset_incr = np.ones(shape=(n_samples * (n_windows+1), n_features))\n",
        "labels  = np.zeros(shape=(n_samples * n_windows))\n",
        "labels_incr = np.zeros(shape=(n_samples * (n_windows+1)))\n",
        "\n",
        "for column_name in data.columns:\n",
        "  if column_name == 'Filename': continue\n",
        "  data[column_name] = (data[column_name] - np.mean(data[column_name])) / np.std(data[column_name])\n",
        "\n",
        "\"\"\"\n",
        "for column_name in data_2.columns:\n",
        "  if column_name == 'Filename': continue\n",
        "  data_2[column_name] = (data_2[column_name] - np.mean(data_2[column_name])) / np.std(data_2[column_name])\n",
        "\"\"\"\n",
        "\n",
        "for index, row in data.iterrows():\n",
        "\n",
        "  filename = row['Filename'][:-4]\n",
        "  if prints: print(\"filename without wav: \", filename)\n",
        "\n",
        "  label, n_sample, n_part = filename.split('_')\n",
        "  n_sample = int(n_sample)\n",
        "  n_part   = int(n_part)\n",
        "\n",
        "  if prints:\n",
        "    print(\"label: \", label)\n",
        "    print(\"n_sample: \", n_sample)\n",
        "    print(\"n_part: \", n_part)\n",
        "\n",
        "  if label == 'I':\n",
        "    labels[index] = 1\n",
        "    labels_incr[index] = 1\n",
        "\n",
        "  row = data.iloc[index].to_numpy()[1:]\n",
        "  if prints:\n",
        "    print(\"row.shape: \", row.shape)\n",
        "    print(\"dataset.shape:  \", dataset.shape)\n",
        "    print(\"dataset[n_sample, n_part, :].shape:  \", dataset[n_sample, n_part, :].shape, '\\n\\n')\n",
        "  dataset[index, :] = row\n",
        "  #dataset_incr[index, :] = row\n",
        "\n",
        "\"\"\"\n",
        "index += 1\n",
        "for index_data_2, row in data_2.iterrows():\n",
        "\n",
        "  label = row['Filename'][0]\n",
        "  if label == 'I':\n",
        "    labels_incr[index + index_data_2] = 1\n",
        "\n",
        "data_2 = data_2.drop(columns=['Filename'])\n",
        "data_2 = data_2.to_numpy()\n",
        "\n",
        "for index_data_2, features in enumerate(data_2):\n",
        "  dataset_incr[index + index_data_2] = features\n",
        "\"\"\"\n",
        "\n",
        "rng     = np.random.default_rng() # shuffle time\n",
        "shuffle = rng.choice(n_samples*n_windows, size=(n_samples * n_windows), replace=False)\n",
        "data    = dataset[shuffle]\n",
        "labels  = labels[shuffle]\n",
        "\n",
        "\"\"\"\n",
        "shuffle_incr = rng.choice(n_samples*(n_windows+1), size=(n_samples * (n_windows+1)), replace=False)\n",
        "data_incr    = dataset_incr[shuffle_incr]\n",
        "labels_incr  = labels_incr[shuffle_incr]\n",
        "\"\"\"\n",
        "\n",
        "print(\"---------------------------------\")\n",
        "print(\"|  data.shape:   \", data.shape, \"   |\")\n",
        "print(\"|  labels.shape: \", labels.shape, \"      |\")\n",
        "print(\"---------------------------------\")\n",
        "\"\"\"\n",
        "print(\"---------------------------------\")\n",
        "print(\"|  data_incr.shape:\", data_incr.shape, \" |\")\n",
        "print(\"|  labels.shape:   \", labels_incr.shape, \"    |\")\n",
        "print(\"---------------------------------\")\n",
        "\"\"\";"
      ],
      "metadata": {
        "colab": {
          "base_uri": "https://localhost:8080/"
        },
        "id": "tB0C1LnzINkS",
        "outputId": "15b29250-fc07-4f10-c6a8-2adca799cd5b"
      },
      "execution_count": null,
      "outputs": [
        {
          "output_type": "stream",
          "name": "stdout",
          "text": [
            "---------------------------------\n",
            "|  data.shape:    (19800, 32)    |\n",
            "|  labels.shape:  (19800,)       |\n",
            "---------------------------------\n"
          ]
        }
      ]
    },
    {
      "cell_type": "markdown",
      "source": [
        "---\n",
        "---\n",
        "# **RandomForestClassifier with data separation**"
      ],
      "metadata": {
        "id": "FdnE5M90IajT"
      }
    },
    {
      "cell_type": "code",
      "source": [
        "rfc = RandomForestClassifier(n_estimators=1000, max_depth=None, min_samples_split=2, min_samples_leaf=1, max_features='sqrt', oob_score=True, random_state=8)\n",
        "rfc.fit(data, labels)\n",
        "\n",
        "print(rfc.oob_score_)\n",
        "features_importance = rfc.feature_importances_\n",
        "plt.plot(rfc.feature_importances_)\n",
        "\n",
        "features_importance = np.array(features_importance)\n",
        "arg_max = np.argsort(features_importance)"
      ],
      "metadata": {
        "colab": {
          "base_uri": "https://localhost:8080/",
          "height": 282
        },
        "id": "ehXZYNIOINoQ",
        "outputId": "d40138ee-13ae-4ca5-d753-1f38aaedaf1d"
      },
      "execution_count": null,
      "outputs": [
        {
          "output_type": "stream",
          "name": "stdout",
          "text": [
            "0.9056565656565656\n"
          ]
        },
        {
          "output_type": "display_data",
          "data": {
            "text/plain": [
              "<Figure size 432x288 with 1 Axes>"
            ],
            "image/png": "[encoded data removed]"
          },
          "metadata": {
            "needs_background": "light"
          }
        }
      ]
    },
    {
      "cell_type": "markdown",
      "source": [
        "---\n",
        "---\n",
        "# **RandomForestClassifier with data separation and features selection**"
      ],
      "metadata": {
        "id": "vGa4k4OTIgJ4"
      }
    },
    {
      "cell_type": "code",
      "source": [
        "best_score = (0,0)\n",
        "for number in range(1, n_features):\n",
        "\n",
        "  arg_selected_features = arg_max[-number:]\n",
        "  data_cut = data[:, arg_selected_features]\n",
        "\n",
        "  rfc = RandomForestClassifier(n_estimators=1000, max_depth=None, min_samples_split=2, min_samples_leaf=1, max_features='sqrt', oob_score=True, random_state=8)\n",
        "  rfc.fit(data_cut, labels)\n",
        "  if rfc.oob_score_ > best_score[1]: best_score = (number, rfc.oob_score_)\n",
        "  print(\"n_features =\", number, \"   out_of_box score:\", rfc.oob_score_)\n",
        "\n",
        "print(\"\\nmeilleur score pour n_features =\", best_score[0], \"  oout of box score:\", best_score[1])"
      ],
      "metadata": {
        "colab": {
          "base_uri": "https://localhost:8080/"
        },
        "id": "P_yovvIwINsZ",
        "outputId": "3bf09c8b-d4b2-4fcd-ec54-dedd057bb9cf"
      },
      "execution_count": null,
      "outputs": [
        {
          "output_type": "stream",
          "name": "stdout",
          "text": [
            "n_features = 1    out_of_box score: 0.6377272727272727\n",
            "n_features = 2    out_of_box score: 0.697979797979798\n",
            "n_features = 3    out_of_box score: 0.7742929292929293\n",
            "n_features = 4    out_of_box score: 0.8080808080808081\n",
            "n_features = 5    out_of_box score: 0.8494949494949495\n",
            "n_features = 6    out_of_box score: 0.8932323232323233\n",
            "n_features = 7    out_of_box score: 0.8936363636363637\n",
            "n_features = 8    out_of_box score: 0.9069191919191919\n",
            "n_features = 9    out_of_box score: 0.9109090909090909\n",
            "n_features = 10    out_of_box score: 0.913080808080808\n",
            "n_features = 11    out_of_box score: 0.9106565656565656\n",
            "n_features = 12    out_of_box score: 0.913989898989899\n",
            "n_features = 13    out_of_box score: 0.9185858585858586\n",
            "n_features = 14    out_of_box score: 0.9220202020202021\n",
            "n_features = 15    out_of_box score: 0.9217171717171717\n",
            "n_features = 16    out_of_box score: 0.9223232323232323\n",
            "n_features = 17    out_of_box score: 0.9217171717171717\n",
            "n_features = 18    out_of_box score: 0.9194444444444444\n",
            "n_features = 19    out_of_box score: 0.9181818181818182\n",
            "n_features = 20    out_of_box score: 0.9158585858585858\n",
            "n_features = 21    out_of_box score: 0.9135353535353535\n",
            "n_features = 22    out_of_box score: 0.9135353535353535\n",
            "n_features = 23    out_of_box score: 0.9117676767676768\n",
            "n_features = 24    out_of_box score: 0.9112626262626262\n",
            "n_features = 25    out_of_box score: 0.9111111111111111\n",
            "n_features = 26    out_of_box score: 0.9103030303030303\n",
            "n_features = 27    out_of_box score: 0.9084343434343435\n",
            "n_features = 28    out_of_box score: 0.9090404040404041\n",
            "n_features = 29    out_of_box score: 0.9083333333333333\n",
            "n_features = 30    out_of_box score: 0.9065151515151515\n",
            "n_features = 31    out_of_box score: 0.9066161616161617\n",
            "\n",
            "meilleur score pour n_features = 16   oout of box score: 0.9223232323232323\n"
          ]
        }
      ]
    }
  ]
}