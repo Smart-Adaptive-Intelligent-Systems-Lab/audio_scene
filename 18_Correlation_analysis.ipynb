{
  "nbformat": 4,
  "nbformat_minor": 0,
  "metadata": {
    "colab": {
      "name": "18- Correlation analysis.ipynb",
      "provenance": []
    },
    "kernelspec": {
      "name": "python3",
      "display_name": "Python 3"
    },
    "language_info": {
      "name": "python"
    }
  },
  "cells": [
    {
      "cell_type": "markdown",
      "source": [
        "---\n",
        "---\n",
        "# **Correlation analysis**"
      ],
      "metadata": {
        "id": "3zRoBjU_ijCq"
      }
    },
    {
      "cell_type": "markdown",
      "source": [
        "---\n",
        "---\n",
        "# **Preprocessing**"
      ],
      "metadata": {
        "id": "XAXadtJ3iq7x"
      }
    },
    {
      "cell_type": "code",
      "execution_count": null,
      "metadata": {
        "id": "7HGcfIDoh1kn"
      },
      "outputs": [],
      "source": [
        "!wget https://perso.esiee.fr/~gueurett/LV_Research/Acoustic_Analysis_Results.csv\n",
        "!wget https://perso.esiee.fr/~gueurett/LV_Research/Human_evaluation.csv"
      ]
    },
    {
      "cell_type": "code",
      "source": [
        "import numpy as np\n",
        "import pandas as pd\n",
        "import tensorflow as tf\n",
        "import matplotlib.pyplot as plt\n",
        "\n",
        "from sklearn import preprocessing\n",
        "from keras import layers, initializers\n",
        "from sklearn.model_selection import KFold\n",
        "from tensorflow.keras.optimizers import Adam\n",
        "\n",
        "\n",
        "from sklearn.metrics import mean_squared_error as MSE\n",
        "from sklearn.metrics import r2_score as r2\n",
        "from sklearn.model_selection import train_test_split\n",
        "\n",
        "from sklearn.svm import SVR\n",
        "from xgboost import XGBRegressor\n",
        "from sklearn.naive_bayes import GaussianNB\n",
        "from sklearn.tree import DecisionTreeRegressor\n",
        "from sklearn.ensemble import AdaBoostRegressor\n",
        "from sklearn.linear_model import LinearRegression\n",
        "from sklearn.neighbors import KNeighborsRegressor\n",
        "from sklearn.ensemble import RandomForestRegressor\n",
        "from sklearn.linear_model import LogisticRegression"
      ],
      "metadata": {
        "id": "2iKYxsu0iuW5"
      },
      "execution_count": 3,
      "outputs": []
    },
    {
      "cell_type": "code",
      "source": [
        "data = pd.read_csv('Acoustic_Analysis_Results.csv', delimiter=',', dtype=None, encoding=None)\n",
        "data = data.rename(columns={'Unnamed: 0': 'Filename'}) # rename the not-named column to the filename column\n",
        "\n",
        "human_rating = pd.read_csv('Human_evaluation.csv', delimiter=',', dtype=None, encoding=None).to_numpy()\n",
        "\n",
        "labels = np.zeros(shape=(human_rating.shape[0]))\n",
        "\n",
        "for index, row in data.iterrows():\n",
        "  if row['Filename'][0] == 'I': labels[index] = 1\n",
        "\n",
        "data = data.drop(columns=['Filename'])\n",
        "data = data.fillna(data.mean())\n",
        "\n",
        "for column_name in data.columns:\n",
        "  data[column_name] = (data[column_name] - np.mean(data[column_name])) / np.std(data[column_name])\n",
        "\n",
        "data = data.to_numpy()\n",
        "\n",
        "down_limit = 4\n",
        "up_limit = 3\n",
        "to_delete = []\n",
        "for index in range(data.shape[0]):\n",
        "\n",
        "  if labels[index] == 1 and human_rating[index, 1] < down_limit:\n",
        "    to_delete.append(index)\n",
        "\n",
        "  if labels[index] == 0 and human_rating[index, 1] > up_limit:\n",
        "    to_delete.append(index)\n",
        "\n",
        "print(\"to_delete:  \", to_delete)\n",
        "\n",
        "data = np.delete(data, to_delete, axis=0)\n",
        "labels = np.delete(labels, to_delete, axis=0)\n",
        "\n",
        "nb_features = data.shape[1]\n",
        "nb_samples  = data.shape[0]\n",
        "\n",
        "rng     = np.random.default_rng() # shuffle time\n",
        "shuffle = rng.choice(nb_samples, size=(nb_samples), replace=False)\n",
        "data    = data[shuffle]\n",
        "labels  = labels[shuffle]\n",
        "\n",
        "print(\"-----------------------------\")\n",
        "print(\"|  data.shape:   \", data.shape, \"|\")\n",
        "print(\"|  labels.shape: \", labels.shape, \"   |\")\n",
        "print(\"-----------------------------\")"
      ],
      "metadata": {
        "colab": {
          "base_uri": "https://localhost:8080/"
        },
        "id": "KRBmxZjoiuZb",
        "outputId": "336cc333-54b6-4157-dbb5-bf6c08f5bca0"
      },
      "execution_count": 4,
      "outputs": [
        {
          "output_type": "stream",
          "name": "stdout",
          "text": [
            "to_delete:   [4, 6, 8, 17, 26, 42, 44, 56, 64, 81, 88, 104, 115, 116, 120, 123, 134, 135, 150, 159, 160, 166, 171, 172, 178, 193, 198]\n",
            "-----------------------------\n",
            "|  data.shape:    (173, 35) |\n",
            "|  labels.shape:  (173,)    |\n",
            "-----------------------------\n"
          ]
        }
      ]
    },
    {
      "cell_type": "code",
      "source": [
        "spliter = 0.2\n",
        "index = int(nb_samples * (1-spliter))\n",
        "\n",
        "train_x = data[:index]\n",
        "test_x  = data[index:]\n",
        "\n",
        "train_y = labels[:index]\n",
        "test_y  = labels[index:]\n",
        "\n",
        "print(\"----------------------------------\")\n",
        "print(\"| train_x.shape: \", train_x.shape)\n",
        "print(\"| train_y.shape : \", train_y.shape)\n",
        "print(\"----------------------------------\")\n",
        "print(\"| test_x.shape: \", test_x.shape)\n",
        "print(\"| test_y.shape : \", test_y.shape)\n",
        "print(\"----------------------------------\")"
      ],
      "metadata": {
        "colab": {
          "base_uri": "https://localhost:8080/"
        },
        "id": "4cK8fqh7iuba",
        "outputId": "2ff4369d-5aeb-4d23-96aa-6af73ff434e0"
      },
      "execution_count": 5,
      "outputs": [
        {
          "output_type": "stream",
          "name": "stdout",
          "text": [
            "----------------------------------\n",
            "| train_x.shape:  (138, 35)\n",
            "| train_y.shape :  (138,)\n",
            "----------------------------------\n",
            "| test_x.shape:  (35, 35)\n",
            "| test_y.shape :  (35,)\n",
            "----------------------------------\n"
          ]
        }
      ]
    },
    {
      "cell_type": "markdown",
      "source": [
        "---\n",
        "---\n",
        "# **Linear Regression**"
      ],
      "metadata": {
        "id": "Ho4tsm3Nwpo3"
      }
    },
    {
      "cell_type": "code",
      "source": [
        "linreg = LinearRegression()\n",
        "\n",
        "linreg.fit(train_x, train_y)\n",
        "print(linreg.score(test_x, test_y))\n",
        "\n",
        "print(linreg.coef_)\n",
        "plt.plot(linreg.coef_);"
      ],
      "metadata": {
        "colab": {
          "base_uri": "https://localhost:8080/",
          "height": 439
        },
        "id": "PkMK6WdUiudt",
        "outputId": "c2e64d9a-b3cb-4058-e6ec-b670e6860870"
      },
      "execution_count": 56,
      "outputs": [
        {
          "output_type": "stream",
          "name": "stdout",
          "text": [
            "0.3724563875596455\n",
            "[ 2.28855086e-01  8.75344189e-02 -1.84595178e-01  9.44254966e-02\n",
            "  2.48308715e-02  1.58656303e+00 -1.56934356e+00 -4.08712533e-02\n",
            " -1.97405720e-01 -1.15238457e-01  3.91710248e-02  1.20074321e-01\n",
            "  3.30071417e-02 -1.51560831e-02 -5.12344705e-03  8.21591642e-02\n",
            " -2.15423356e-01 -2.28335396e-01  9.11029828e-02  9.04929299e-04\n",
            " -1.21128321e-01 -3.59656236e-01  4.70178304e-01 -4.89400086e-02\n",
            " -1.31021744e-01  1.46685016e-01  2.36324324e-02  1.74965028e-02\n",
            " -5.23678994e-02  6.37626706e-02  2.70703584e-02 -8.27316561e-02\n",
            "  6.20166223e-02  9.77869140e-03 -1.01299255e-01]\n"
          ]
        },
        {
          "output_type": "display_data",
          "data": {
            "text/plain": [
              "<Figure size 432x288 with 1 Axes>"
            ],
            "image/png": "[encoded data removed]"
          },
          "metadata": {
            "needs_background": "light"
          }
        }
      ]
    },
    {
      "cell_type": "markdown",
      "source": [
        "---\n",
        "---\n",
        "# **SVR**"
      ],
      "metadata": {
        "id": "h7h21QRLwuqW"
      }
    },
    {
      "cell_type": "code",
      "source": [
        "svm = SVR(kernel='linear')\n",
        "svm.fit(train_x, train_y)\n",
        "\n",
        "print(svm.score(test_x, test_y))\n",
        "print(svm.coef_)\n",
        "plt.plot(svm.coef_[0])"
      ],
      "metadata": {
        "colab": {
          "base_uri": "https://localhost:8080/",
          "height": 404
        },
        "id": "jaxvaWKBwr4G",
        "outputId": "5d6e18f9-e43e-4121-894c-7b57b26c9bfe"
      },
      "execution_count": 57,
      "outputs": [
        {
          "output_type": "stream",
          "name": "stdout",
          "text": [
            "0.20428778017016647\n",
            "[[ 0.28999958  0.02494814 -0.07166685  0.02600922  0.03186644  0.40433071\n",
            "  -0.40717077 -0.03919045 -0.14568293 -0.10806339 -0.00419136  0.09473546\n",
            "   0.05039185  0.00417824  0.00259279  0.01912014 -0.17685956 -0.18810986\n",
            "   0.0762184  -0.01869078 -0.08252267 -0.24801987  0.34700505 -0.0485095\n",
            "  -0.06841877  0.10375333  0.01224384  0.04975119 -0.04362904  0.06007713\n",
            "   0.06966026 -0.06339499  0.05717811  0.01487746 -0.03413717]]\n"
          ]
        },
        {
          "output_type": "execute_result",
          "data": {
            "text/plain": [
              "[<matplotlib.lines.Line2D at 0x7f2805d68990>]"
            ]
          },
          "metadata": {},
          "execution_count": 57
        },
        {
          "output_type": "display_data",
          "data": {
            "text/plain": [
              "<Figure size 432x288 with 1 Axes>"
            ],
            "image/png": "[encoded data removed]"
          },
          "metadata": {
            "needs_background": "light"
          }
        }
      ]
    },
    {
      "cell_type": "markdown",
      "source": [
        "---\n",
        "---\n",
        "# **AdaBoostRegressor**"
      ],
      "metadata": {
        "id": "dm1CHEHYw56G"
      }
    },
    {
      "cell_type": "code",
      "source": [
        "ada = AdaBoostRegressor(n_estimators=100, random_state=8)\n",
        "ada.fit(train_x, train_y)\n",
        "\n",
        "print(ada.score(test_x, test_y))\n",
        "\n",
        "print(ada.feature_importances_)\n",
        "plt.plot(ada.feature_importances_)"
      ],
      "metadata": {
        "colab": {
          "base_uri": "https://localhost:8080/",
          "height": 404
        },
        "id": "1loijUSxw7Cu",
        "outputId": "baeaca4d-b094-464f-d287-b70f384e04c0"
      },
      "execution_count": 58,
      "outputs": [
        {
          "output_type": "stream",
          "name": "stdout",
          "text": [
            "0.5338649527129\n",
            "[0.04618032 0.02998614 0.01074004 0.0171116  0.026379   0.0478752\n",
            " 0.03423406 0.05419904 0.08371826 0.02293888 0.03018826 0.01859871\n",
            " 0.02594486 0.02980149 0.0185882  0.03174499 0.00788706 0.05167712\n",
            " 0.0239375  0.00819722 0.01871725 0.02025842 0.05468514 0.01479406\n",
            " 0.00246202 0.01132711 0.00569789 0.06138719 0.0132311  0.03996378\n",
            " 0.03847972 0.0144419  0.01999524 0.02447447 0.04015676]\n"
          ]
        },
        {
          "output_type": "execute_result",
          "data": {
            "text/plain": [
              "[<matplotlib.lines.Line2D at 0x7f2805d60f90>]"
            ]
          },
          "metadata": {},
          "execution_count": 58
        },
        {
          "output_type": "display_data",
          "data": {
            "text/plain": [
              "<Figure size 432x288 with 1 Axes>"
            ],
            "image/png": "[encoded data removed]"
          },
          "metadata": {
            "needs_background": "light"
          }
        }
      ]
    },
    {
      "cell_type": "markdown",
      "source": [
        "---\n",
        "---\n",
        "# **RandomForestClassifier**"
      ],
      "metadata": {
        "id": "fj22c5tiw_af"
      }
    },
    {
      "cell_type": "code",
      "source": [
        "rfc = RandomForestRegressor(n_estimators=1000, max_depth=None, min_samples_split=2, min_samples_leaf=1, max_features='sqrt', oob_score=True, random_state=8)\n",
        "rfc.fit(data, labels)\n",
        "\n",
        "print(rfc.oob_score_)\n",
        "print(rfc.feature_importances_)\n",
        "plt.plot(rfc.feature_importances_)"
      ],
      "metadata": {
        "colab": {
          "base_uri": "https://localhost:8080/",
          "height": 404
        },
        "id": "g_dSMgaqw-Uu",
        "outputId": "185a3441-572f-4707-9c9f-d62063944e38"
      },
      "execution_count": 59,
      "outputs": [
        {
          "output_type": "stream",
          "name": "stdout",
          "text": [
            "0.3408703585182591\n",
            "[0.035306   0.03081046 0.01878131 0.02673574 0.01946515 0.02163917\n",
            " 0.02198191 0.0285567  0.03377283 0.02336232 0.01526973 0.02146669\n",
            " 0.02088103 0.02649519 0.02375652 0.03271504 0.0210456  0.02991658\n",
            " 0.02183763 0.01406355 0.02712596 0.0681288  0.07855917 0.02449015\n",
            " 0.003042   0.00487985 0.00716743 0.03530487 0.02460329 0.03352142\n",
            " 0.04964139 0.01759401 0.03733579 0.05619455 0.04455218]\n"
          ]
        },
        {
          "output_type": "execute_result",
          "data": {
            "text/plain": [
              "[<matplotlib.lines.Line2D at 0x7f280a22d990>]"
            ]
          },
          "metadata": {},
          "execution_count": 59
        },
        {
          "output_type": "display_data",
          "data": {
            "text/plain": [
              "<Figure size 432x288 with 1 Axes>"
            ],
            "image/png": "[encoded data removed]"
          },
          "metadata": {
            "needs_background": "light"
          }
        }
      ]
    },
    {
      "cell_type": "markdown",
      "source": [
        "---\n",
        "---\n",
        "# **XGBoost**"
      ],
      "metadata": {
        "id": "01pBD12gxgpu"
      }
    },
    {
      "cell_type": "code",
      "source": [
        "model = XGBRegressor(use_label_encoder=False)\n",
        "model.fit(train_x, train_y)"
      ],
      "metadata": {
        "colab": {
          "base_uri": "https://localhost:8080/"
        },
        "id": "MjsqhJi9xiH_",
        "outputId": "9094380a-3d74-4d60-e27b-853669e76a36"
      },
      "execution_count": 69,
      "outputs": [
        {
          "output_type": "stream",
          "name": "stdout",
          "text": [
            "[18:37:05] WARNING: /workspace/src/objective/regression_obj.cu:152: reg:linear is now deprecated in favor of reg:squarederror.\n"
          ]
        },
        {
          "output_type": "execute_result",
          "data": {
            "text/plain": [
              "XGBRegressor(use_label_encoder=False)"
            ]
          },
          "metadata": {},
          "execution_count": 69
        }
      ]
    },
    {
      "cell_type": "code",
      "source": [
        "predictions = model.predict(test_x)\n",
        "\n",
        "rmse = np.sqrt(MSE(test_y, predictions))\n",
        "r2_score = r2(test_y, predictions)\n",
        "print(\"RMSE : % f\" %(rmse))\n",
        "print(\"r2 : % f\" %(r2_score))"
      ],
      "metadata": {
        "colab": {
          "base_uri": "https://localhost:8080/"
        },
        "id": "aAijQoR3xjEO",
        "outputId": "d89b0c99-8cce-4c9d-ef83-b8396d107339"
      },
      "execution_count": 70,
      "outputs": [
        {
          "output_type": "stream",
          "name": "stdout",
          "text": [
            "RMSE :  0.307891\n",
            "r2 :  0.494418\n"
          ]
        }
      ]
    },
    {
      "cell_type": "markdown",
      "source": [
        "---\n",
        "---\n",
        "# **KNeighborsRegressor**\n",
        "\n"
      ],
      "metadata": {
        "id": "tRVjGSh5xvR-"
      }
    },
    {
      "cell_type": "code",
      "source": [
        "max = 0\n",
        "for k in range(1,100):\n",
        "\n",
        "  kneigh = KNeighborsRegressor(n_neighbors=k, leaf_size=50)\n",
        "  kneigh.fit(train_x, train_y)\n",
        "  score = kneigh.score(test_x, test_y)\n",
        "  if score > max:\n",
        "    print(\"for k =\", k, \"score=\",score)\n",
        "    max = score"
      ],
      "metadata": {
        "colab": {
          "base_uri": "https://localhost:8080/"
        },
        "id": "QVLKL3Dexzve",
        "outputId": "f7df403c-4ed9-49c1-f83d-20fd380106d9"
      },
      "execution_count": 62,
      "outputs": [
        {
          "output_type": "stream",
          "name": "stdout",
          "text": [
            "for k = 3 score= 0.08831908831908841\n",
            "for k = 4 score= 0.1923076923076923\n",
            "for k = 5 score= 0.23282051282051264\n",
            "for k = 6 score= 0.2507122507122507\n"
          ]
        }
      ]
    },
    {
      "cell_type": "markdown",
      "source": [
        "---\n",
        "---\n",
        "\n",
        "# **Decision Tree Regressor**"
      ],
      "metadata": {
        "id": "pdka3WxDx7tO"
      }
    },
    {
      "cell_type": "code",
      "source": [
        "tree = DecisionTreeRegressor(max_depth=1000, min_samples_split=5, min_samples_leaf=5, max_features='auto', random_state=8)\n",
        "tree.fit(train_x, train_y)\n",
        "\n",
        "print(tree.score(test_x, test_y))"
      ],
      "metadata": {
        "colab": {
          "base_uri": "https://localhost:8080/"
        },
        "id": "LXwpLGmrx9Fe",
        "outputId": "079dc7d4-0ef4-489a-89d3-fb06e8a2d858"
      },
      "execution_count": 63,
      "outputs": [
        {
          "output_type": "stream",
          "name": "stdout",
          "text": [
            "0.24152276295133435\n"
          ]
        }
      ]
    },
    {
      "cell_type": "markdown",
      "source": [
        "---\n",
        "---\n",
        "\n",
        "# **Neural Network**"
      ],
      "metadata": {
        "id": "Hj5ce_3Ux_AG"
      }
    },
    {
      "cell_type": "code",
      "source": [
        "def get_model():\n",
        "\n",
        "  model = tf.keras.Sequential()\n",
        "\n",
        "  model.add(layers.Dense(39))\n",
        "  model.add(layers.ReLU())\n",
        "  model.add(layers.Dropout(0.2))\n",
        "\n",
        "  model.add(layers.Dense(1))\n",
        "\n",
        "  optimizer = Adam(0.0001)\n",
        "\n",
        "  model.compile(optimizer=optimizer, loss='mse')\n",
        "\n",
        "  return model"
      ],
      "metadata": {
        "id": "yPnAjJLUyBdH"
      },
      "execution_count": 35,
      "outputs": []
    },
    {
      "cell_type": "code",
      "source": [
        "model = get_model()\n",
        "\n",
        "history = model.fit(train_x, train_y, validation_split=0.3, epochs=300, batch_size=2)\n",
        "\n",
        "score = model.evaluate(test_x, test_y)\n",
        "print(\"\\n\\nscore: \",score)"
      ],
      "metadata": {
        "colab": {
          "base_uri": "https://localhost:8080/"
        },
        "id": "XcIttCijyCuO",
        "outputId": "fd4993e1-3b0a-4649-a7d3-f723b08e5e4d"
      },
      "execution_count": 36,
      "outputs": [
        {
          "output_type": "stream",
          "name": "stdout",
          "text": [
            "Epoch 1/300\n",
            "48/48 [==============================] - 1s 11ms/step - loss: 1.0765 - val_loss: 1.2405\n",
            "Epoch 2/300\n",
            "48/48 [==============================] - 0s 5ms/step - loss: 0.9268 - val_loss: 1.1228\n",
            "Epoch 3/300\n",
            "48/48 [==============================] - 0s 8ms/step - loss: 1.4462 - val_loss: 1.0312\n",
            "Epoch 4/300\n",
            "48/48 [==============================] - 0s 6ms/step - loss: 1.2416 - val_loss: 0.9524\n",
            "Epoch 5/300\n",
            "48/48 [==============================] - 0s 6ms/step - loss: 0.8970 - val_loss: 0.8760\n",
            "Epoch 6/300\n",
            "48/48 [==============================] - 0s 6ms/step - loss: 1.2008 - val_loss: 0.8184\n",
            "Epoch 7/300\n",
            "48/48 [==============================] - 0s 5ms/step - loss: 0.9079 - val_loss: 0.7709\n",
            "Epoch 8/300\n",
            "48/48 [==============================] - 0s 6ms/step - loss: 0.8785 - val_loss: 0.7423\n",
            "Epoch 9/300\n",
            "48/48 [==============================] - 0s 5ms/step - loss: 1.0914 - val_loss: 0.6970\n",
            "Epoch 10/300\n",
            "48/48 [==============================] - 0s 5ms/step - loss: 0.9436 - val_loss: 0.6757\n",
            "Epoch 11/300\n",
            "48/48 [==============================] - 0s 5ms/step - loss: 0.8296 - val_loss: 0.6626\n",
            "Epoch 12/300\n",
            "48/48 [==============================] - 0s 5ms/step - loss: 0.9646 - val_loss: 0.6252\n",
            "Epoch 13/300\n",
            "48/48 [==============================] - 0s 4ms/step - loss: 0.8739 - val_loss: 0.6082\n",
            "Epoch 14/300\n",
            "48/48 [==============================] - 0s 5ms/step - loss: 0.4561 - val_loss: 0.5899\n",
            "Epoch 15/300\n",
            "48/48 [==============================] - 0s 5ms/step - loss: 0.6565 - val_loss: 0.5697\n",
            "Epoch 16/300\n",
            "48/48 [==============================] - 0s 5ms/step - loss: 0.8143 - val_loss: 0.5684\n",
            "Epoch 17/300\n",
            "48/48 [==============================] - 0s 4ms/step - loss: 0.5848 - val_loss: 0.5433\n",
            "Epoch 18/300\n",
            "48/48 [==============================] - 0s 5ms/step - loss: 1.0164 - val_loss: 0.5171\n",
            "Epoch 19/300\n",
            "48/48 [==============================] - 1s 11ms/step - loss: 0.7274 - val_loss: 0.4980\n",
            "Epoch 20/300\n",
            "48/48 [==============================] - 0s 10ms/step - loss: 0.6789 - val_loss: 0.4966\n",
            "Epoch 21/300\n",
            "48/48 [==============================] - 0s 2ms/step - loss: 0.8130 - val_loss: 0.4682\n",
            "Epoch 22/300\n",
            "48/48 [==============================] - 0s 3ms/step - loss: 0.7499 - val_loss: 0.4502\n",
            "Epoch 23/300\n",
            "48/48 [==============================] - 0s 3ms/step - loss: 0.5386 - val_loss: 0.4420\n",
            "Epoch 24/300\n",
            "48/48 [==============================] - 0s 3ms/step - loss: 0.7288 - val_loss: 0.4454\n",
            "Epoch 25/300\n",
            "48/48 [==============================] - 0s 3ms/step - loss: 0.6730 - val_loss: 0.4352\n",
            "Epoch 26/300\n",
            "48/48 [==============================] - 0s 3ms/step - loss: 0.5845 - val_loss: 0.4325\n",
            "Epoch 27/300\n",
            "48/48 [==============================] - 0s 3ms/step - loss: 0.5393 - val_loss: 0.4038\n",
            "Epoch 28/300\n",
            "48/48 [==============================] - 0s 3ms/step - loss: 0.6039 - val_loss: 0.3949\n",
            "Epoch 29/300\n",
            "48/48 [==============================] - 0s 3ms/step - loss: 0.5936 - val_loss: 0.3990\n",
            "Epoch 30/300\n",
            "48/48 [==============================] - 0s 3ms/step - loss: 0.6084 - val_loss: 0.4020\n",
            "Epoch 31/300\n",
            "48/48 [==============================] - 0s 3ms/step - loss: 0.6876 - val_loss: 0.3951\n",
            "Epoch 32/300\n",
            "48/48 [==============================] - 0s 3ms/step - loss: 0.5017 - val_loss: 0.3877\n",
            "Epoch 33/300\n",
            "48/48 [==============================] - 0s 3ms/step - loss: 0.4882 - val_loss: 0.3783\n",
            "Epoch 34/300\n",
            "48/48 [==============================] - 0s 3ms/step - loss: 0.6311 - val_loss: 0.3710\n",
            "Epoch 35/300\n",
            "48/48 [==============================] - 0s 3ms/step - loss: 0.4046 - val_loss: 0.3660\n",
            "Epoch 36/300\n",
            "48/48 [==============================] - 0s 4ms/step - loss: 0.4388 - val_loss: 0.3702\n",
            "Epoch 37/300\n",
            "48/48 [==============================] - 0s 3ms/step - loss: 0.5999 - val_loss: 0.3500\n",
            "Epoch 38/300\n",
            "48/48 [==============================] - 0s 3ms/step - loss: 0.4140 - val_loss: 0.3478\n",
            "Epoch 39/300\n",
            "48/48 [==============================] - 0s 3ms/step - loss: 0.5523 - val_loss: 0.3478\n",
            "Epoch 40/300\n",
            "48/48 [==============================] - 0s 3ms/step - loss: 0.4904 - val_loss: 0.3430\n",
            "Epoch 41/300\n",
            "48/48 [==============================] - 0s 4ms/step - loss: 0.6259 - val_loss: 0.3368\n",
            "Epoch 42/300\n",
            "48/48 [==============================] - 0s 3ms/step - loss: 0.5216 - val_loss: 0.3298\n",
            "Epoch 43/300\n",
            "48/48 [==============================] - 0s 3ms/step - loss: 0.4303 - val_loss: 0.3267\n",
            "Epoch 44/300\n",
            "48/48 [==============================] - 0s 3ms/step - loss: 0.4731 - val_loss: 0.3302\n",
            "Epoch 45/300\n",
            "48/48 [==============================] - 0s 3ms/step - loss: 0.5428 - val_loss: 0.3251\n",
            "Epoch 46/300\n",
            "48/48 [==============================] - 0s 3ms/step - loss: 0.4016 - val_loss: 0.3227\n",
            "Epoch 47/300\n",
            "48/48 [==============================] - 0s 3ms/step - loss: 0.4822 - val_loss: 0.3307\n",
            "Epoch 48/300\n",
            "48/48 [==============================] - 0s 4ms/step - loss: 0.3821 - val_loss: 0.3234\n",
            "Epoch 49/300\n",
            "48/48 [==============================] - 0s 4ms/step - loss: 0.4198 - val_loss: 0.3217\n",
            "Epoch 50/300\n",
            "48/48 [==============================] - 0s 3ms/step - loss: 0.4049 - val_loss: 0.3229\n",
            "Epoch 51/300\n",
            "48/48 [==============================] - 0s 4ms/step - loss: 0.4050 - val_loss: 0.3193\n",
            "Epoch 52/300\n",
            "48/48 [==============================] - 0s 4ms/step - loss: 0.3580 - val_loss: 0.3262\n",
            "Epoch 53/300\n",
            "48/48 [==============================] - 0s 3ms/step - loss: 0.3028 - val_loss: 0.3258\n",
            "Epoch 54/300\n",
            "48/48 [==============================] - 0s 3ms/step - loss: 0.3810 - val_loss: 0.3218\n",
            "Epoch 55/300\n",
            "48/48 [==============================] - 0s 3ms/step - loss: 0.4129 - val_loss: 0.3180\n",
            "Epoch 56/300\n",
            "48/48 [==============================] - 0s 3ms/step - loss: 0.4155 - val_loss: 0.3179\n",
            "Epoch 57/300\n",
            "48/48 [==============================] - 0s 3ms/step - loss: 0.2802 - val_loss: 0.3164\n",
            "Epoch 58/300\n",
            "48/48 [==============================] - 0s 3ms/step - loss: 0.3975 - val_loss: 0.3118\n",
            "Epoch 59/300\n",
            "48/48 [==============================] - 0s 4ms/step - loss: 0.4906 - val_loss: 0.3122\n",
            "Epoch 60/300\n",
            "48/48 [==============================] - 0s 4ms/step - loss: 0.3292 - val_loss: 0.3050\n",
            "Epoch 61/300\n",
            "48/48 [==============================] - 0s 4ms/step - loss: 0.4107 - val_loss: 0.3052\n",
            "Epoch 62/300\n",
            "48/48 [==============================] - 0s 3ms/step - loss: 0.3565 - val_loss: 0.3032\n",
            "Epoch 63/300\n",
            "48/48 [==============================] - 0s 3ms/step - loss: 0.3581 - val_loss: 0.3076\n",
            "Epoch 64/300\n",
            "48/48 [==============================] - 0s 3ms/step - loss: 0.3331 - val_loss: 0.3103\n",
            "Epoch 65/300\n",
            "48/48 [==============================] - 0s 4ms/step - loss: 0.4286 - val_loss: 0.3092\n",
            "Epoch 66/300\n",
            "48/48 [==============================] - 0s 4ms/step - loss: 0.3547 - val_loss: 0.3083\n",
            "Epoch 67/300\n",
            "48/48 [==============================] - 0s 4ms/step - loss: 0.4941 - val_loss: 0.3067\n",
            "Epoch 68/300\n",
            "48/48 [==============================] - 0s 3ms/step - loss: 0.2581 - val_loss: 0.3077\n",
            "Epoch 69/300\n",
            "48/48 [==============================] - 0s 3ms/step - loss: 0.3039 - val_loss: 0.3092\n",
            "Epoch 70/300\n",
            "48/48 [==============================] - 0s 4ms/step - loss: 0.3428 - val_loss: 0.3094\n",
            "Epoch 71/300\n",
            "48/48 [==============================] - 0s 4ms/step - loss: 0.3729 - val_loss: 0.3057\n",
            "Epoch 72/300\n",
            "48/48 [==============================] - 0s 3ms/step - loss: 0.2581 - val_loss: 0.2916\n",
            "Epoch 73/300\n",
            "48/48 [==============================] - 0s 4ms/step - loss: 0.3865 - val_loss: 0.2809\n",
            "Epoch 74/300\n",
            "48/48 [==============================] - 0s 4ms/step - loss: 0.4449 - val_loss: 0.2854\n",
            "Epoch 75/300\n",
            "48/48 [==============================] - 0s 3ms/step - loss: 0.3427 - val_loss: 0.2872\n",
            "Epoch 76/300\n",
            "48/48 [==============================] - 0s 3ms/step - loss: 0.2170 - val_loss: 0.2837\n",
            "Epoch 77/300\n",
            "48/48 [==============================] - 0s 3ms/step - loss: 0.2477 - val_loss: 0.2858\n",
            "Epoch 78/300\n",
            "48/48 [==============================] - 0s 3ms/step - loss: 0.3538 - val_loss: 0.2842\n",
            "Epoch 79/300\n",
            "48/48 [==============================] - 0s 4ms/step - loss: 0.3314 - val_loss: 0.2879\n",
            "Epoch 80/300\n",
            "48/48 [==============================] - 0s 4ms/step - loss: 0.3237 - val_loss: 0.2898\n",
            "Epoch 81/300\n",
            "48/48 [==============================] - 0s 3ms/step - loss: 0.2653 - val_loss: 0.2857\n",
            "Epoch 82/300\n",
            "48/48 [==============================] - 0s 3ms/step - loss: 0.3559 - val_loss: 0.2781\n",
            "Epoch 83/300\n",
            "48/48 [==============================] - 0s 3ms/step - loss: 0.3453 - val_loss: 0.2824\n",
            "Epoch 84/300\n",
            "48/48 [==============================] - 0s 4ms/step - loss: 0.3203 - val_loss: 0.2809\n",
            "Epoch 85/300\n",
            "48/48 [==============================] - 0s 4ms/step - loss: 0.2163 - val_loss: 0.2717\n",
            "Epoch 86/300\n",
            "48/48 [==============================] - 0s 3ms/step - loss: 0.2523 - val_loss: 0.2699\n",
            "Epoch 87/300\n",
            "48/48 [==============================] - 0s 3ms/step - loss: 0.3511 - val_loss: 0.2798\n",
            "Epoch 88/300\n",
            "48/48 [==============================] - 0s 3ms/step - loss: 0.2652 - val_loss: 0.2830\n",
            "Epoch 89/300\n",
            "48/48 [==============================] - 0s 4ms/step - loss: 0.2606 - val_loss: 0.2775\n",
            "Epoch 90/300\n",
            "48/48 [==============================] - 0s 3ms/step - loss: 0.2235 - val_loss: 0.2787\n",
            "Epoch 91/300\n",
            "48/48 [==============================] - 0s 2ms/step - loss: 0.2136 - val_loss: 0.2809\n",
            "Epoch 92/300\n",
            "48/48 [==============================] - 0s 2ms/step - loss: 0.3904 - val_loss: 0.2737\n",
            "Epoch 93/300\n",
            "48/48 [==============================] - 0s 3ms/step - loss: 0.3501 - val_loss: 0.2790\n",
            "Epoch 94/300\n",
            "48/48 [==============================] - 0s 3ms/step - loss: 0.2265 - val_loss: 0.2790\n",
            "Epoch 95/300\n",
            "48/48 [==============================] - 0s 3ms/step - loss: 0.2233 - val_loss: 0.2836\n",
            "Epoch 96/300\n",
            "48/48 [==============================] - 0s 3ms/step - loss: 0.3058 - val_loss: 0.2807\n",
            "Epoch 97/300\n",
            "48/48 [==============================] - 0s 3ms/step - loss: 0.2572 - val_loss: 0.2822\n",
            "Epoch 98/300\n",
            "48/48 [==============================] - 0s 2ms/step - loss: 0.1930 - val_loss: 0.2710\n",
            "Epoch 99/300\n",
            "48/48 [==============================] - 0s 3ms/step - loss: 0.2427 - val_loss: 0.2668\n",
            "Epoch 100/300\n",
            "48/48 [==============================] - 0s 3ms/step - loss: 0.2622 - val_loss: 0.2559\n",
            "Epoch 101/300\n",
            "48/48 [==============================] - 0s 3ms/step - loss: 0.2528 - val_loss: 0.2601\n",
            "Epoch 102/300\n",
            "48/48 [==============================] - 0s 4ms/step - loss: 0.2787 - val_loss: 0.2503\n",
            "Epoch 103/300\n",
            "48/48 [==============================] - 0s 3ms/step - loss: 0.2334 - val_loss: 0.2496\n",
            "Epoch 104/300\n",
            "48/48 [==============================] - 0s 3ms/step - loss: 0.2419 - val_loss: 0.2564\n",
            "Epoch 105/300\n",
            "48/48 [==============================] - 0s 3ms/step - loss: 0.2805 - val_loss: 0.2534\n",
            "Epoch 106/300\n",
            "48/48 [==============================] - 0s 3ms/step - loss: 0.2110 - val_loss: 0.2501\n",
            "Epoch 107/300\n",
            "48/48 [==============================] - 0s 3ms/step - loss: 0.2742 - val_loss: 0.2549\n",
            "Epoch 108/300\n",
            "48/48 [==============================] - 0s 3ms/step - loss: 0.2830 - val_loss: 0.2501\n",
            "Epoch 109/300\n",
            "48/48 [==============================] - 0s 4ms/step - loss: 0.2748 - val_loss: 0.2439\n",
            "Epoch 110/300\n",
            "48/48 [==============================] - 0s 3ms/step - loss: 0.2496 - val_loss: 0.2432\n",
            "Epoch 111/300\n",
            "48/48 [==============================] - 0s 2ms/step - loss: 0.1948 - val_loss: 0.2392\n",
            "Epoch 112/300\n",
            "48/48 [==============================] - 0s 3ms/step - loss: 0.2030 - val_loss: 0.2368\n",
            "Epoch 113/300\n",
            "48/48 [==============================] - 0s 3ms/step - loss: 0.1986 - val_loss: 0.2305\n",
            "Epoch 114/300\n",
            "48/48 [==============================] - 0s 3ms/step - loss: 0.2041 - val_loss: 0.2325\n",
            "Epoch 115/300\n",
            "48/48 [==============================] - 0s 3ms/step - loss: 0.1940 - val_loss: 0.2307\n",
            "Epoch 116/300\n",
            "48/48 [==============================] - 0s 3ms/step - loss: 0.2361 - val_loss: 0.2345\n",
            "Epoch 117/300\n",
            "48/48 [==============================] - 0s 3ms/step - loss: 0.2863 - val_loss: 0.2422\n",
            "Epoch 118/300\n",
            "48/48 [==============================] - 0s 3ms/step - loss: 0.1756 - val_loss: 0.2435\n",
            "Epoch 119/300\n",
            "48/48 [==============================] - 0s 2ms/step - loss: 0.2843 - val_loss: 0.2475\n",
            "Epoch 120/300\n",
            "48/48 [==============================] - 0s 2ms/step - loss: 0.2132 - val_loss: 0.2517\n",
            "Epoch 121/300\n",
            "48/48 [==============================] - 0s 3ms/step - loss: 0.2223 - val_loss: 0.2551\n",
            "Epoch 122/300\n",
            "48/48 [==============================] - 0s 4ms/step - loss: 0.1811 - val_loss: 0.2580\n",
            "Epoch 123/300\n",
            "48/48 [==============================] - 0s 3ms/step - loss: 0.2562 - val_loss: 0.2513\n",
            "Epoch 124/300\n",
            "48/48 [==============================] - 0s 3ms/step - loss: 0.2780 - val_loss: 0.2391\n",
            "Epoch 125/300\n",
            "48/48 [==============================] - 0s 3ms/step - loss: 0.2751 - val_loss: 0.2432\n",
            "Epoch 126/300\n",
            "48/48 [==============================] - 0s 2ms/step - loss: 0.2122 - val_loss: 0.2502\n",
            "Epoch 127/300\n",
            "48/48 [==============================] - 0s 3ms/step - loss: 0.2212 - val_loss: 0.2436\n",
            "Epoch 128/300\n",
            "48/48 [==============================] - 0s 4ms/step - loss: 0.2319 - val_loss: 0.2424\n",
            "Epoch 129/300\n",
            "48/48 [==============================] - 0s 4ms/step - loss: 0.2371 - val_loss: 0.2417\n",
            "Epoch 130/300\n",
            "48/48 [==============================] - 0s 3ms/step - loss: 0.2910 - val_loss: 0.2394\n",
            "Epoch 131/300\n",
            "48/48 [==============================] - 0s 3ms/step - loss: 0.2197 - val_loss: 0.2337\n",
            "Epoch 132/300\n",
            "48/48 [==============================] - 0s 3ms/step - loss: 0.2069 - val_loss: 0.2258\n",
            "Epoch 133/300\n",
            "48/48 [==============================] - 0s 3ms/step - loss: 0.1687 - val_loss: 0.2334\n",
            "Epoch 134/300\n",
            "48/48 [==============================] - 0s 3ms/step - loss: 0.2502 - val_loss: 0.2415\n",
            "Epoch 135/300\n",
            "48/48 [==============================] - 0s 3ms/step - loss: 0.2198 - val_loss: 0.2369\n",
            "Epoch 136/300\n",
            "48/48 [==============================] - 0s 3ms/step - loss: 0.2186 - val_loss: 0.2255\n",
            "Epoch 137/300\n",
            "48/48 [==============================] - 0s 4ms/step - loss: 0.2406 - val_loss: 0.2344\n",
            "Epoch 138/300\n",
            "48/48 [==============================] - 0s 3ms/step - loss: 0.2169 - val_loss: 0.2328\n",
            "Epoch 139/300\n",
            "48/48 [==============================] - 0s 3ms/step - loss: 0.2138 - val_loss: 0.2319\n",
            "Epoch 140/300\n",
            "48/48 [==============================] - 0s 3ms/step - loss: 0.1921 - val_loss: 0.2381\n",
            "Epoch 141/300\n",
            "48/48 [==============================] - 0s 3ms/step - loss: 0.1635 - val_loss: 0.2373\n",
            "Epoch 142/300\n",
            "48/48 [==============================] - 0s 3ms/step - loss: 0.2166 - val_loss: 0.2423\n",
            "Epoch 143/300\n",
            "48/48 [==============================] - 0s 4ms/step - loss: 0.1863 - val_loss: 0.2495\n",
            "Epoch 144/300\n",
            "48/48 [==============================] - 0s 3ms/step - loss: 0.1818 - val_loss: 0.2468\n",
            "Epoch 145/300\n",
            "48/48 [==============================] - 0s 3ms/step - loss: 0.1814 - val_loss: 0.2349\n",
            "Epoch 146/300\n",
            "48/48 [==============================] - 0s 3ms/step - loss: 0.2117 - val_loss: 0.2182\n",
            "Epoch 147/300\n",
            "48/48 [==============================] - 0s 3ms/step - loss: 0.1752 - val_loss: 0.2200\n",
            "Epoch 148/300\n",
            "48/48 [==============================] - 0s 4ms/step - loss: 0.1530 - val_loss: 0.2264\n",
            "Epoch 149/300\n",
            "48/48 [==============================] - 0s 3ms/step - loss: 0.2116 - val_loss: 0.2368\n",
            "Epoch 150/300\n",
            "48/48 [==============================] - 0s 3ms/step - loss: 0.2223 - val_loss: 0.2333\n",
            "Epoch 151/300\n",
            "48/48 [==============================] - 0s 2ms/step - loss: 0.2434 - val_loss: 0.2232\n",
            "Epoch 152/300\n",
            "48/48 [==============================] - 0s 3ms/step - loss: 0.1962 - val_loss: 0.2259\n",
            "Epoch 153/300\n",
            "48/48 [==============================] - 0s 3ms/step - loss: 0.1956 - val_loss: 0.2314\n",
            "Epoch 154/300\n",
            "48/48 [==============================] - 0s 3ms/step - loss: 0.1549 - val_loss: 0.2382\n",
            "Epoch 155/300\n",
            "48/48 [==============================] - 0s 4ms/step - loss: 0.1391 - val_loss: 0.2316\n",
            "Epoch 156/300\n",
            "48/48 [==============================] - 0s 3ms/step - loss: 0.1996 - val_loss: 0.2275\n",
            "Epoch 157/300\n",
            "48/48 [==============================] - 0s 3ms/step - loss: 0.1752 - val_loss: 0.2308\n",
            "Epoch 158/300\n",
            "48/48 [==============================] - 0s 3ms/step - loss: 0.1498 - val_loss: 0.2262\n",
            "Epoch 159/300\n",
            "48/48 [==============================] - 0s 3ms/step - loss: 0.1566 - val_loss: 0.2203\n",
            "Epoch 160/300\n",
            "48/48 [==============================] - 0s 3ms/step - loss: 0.1411 - val_loss: 0.2201\n",
            "Epoch 161/300\n",
            "48/48 [==============================] - 0s 4ms/step - loss: 0.1491 - val_loss: 0.2220\n",
            "Epoch 162/300\n",
            "48/48 [==============================] - 0s 4ms/step - loss: 0.2139 - val_loss: 0.2302\n",
            "Epoch 163/300\n",
            "48/48 [==============================] - 0s 3ms/step - loss: 0.1611 - val_loss: 0.2320\n",
            "Epoch 164/300\n",
            "48/48 [==============================] - 0s 3ms/step - loss: 0.1540 - val_loss: 0.2271\n",
            "Epoch 165/300\n",
            "48/48 [==============================] - 0s 3ms/step - loss: 0.1540 - val_loss: 0.2199\n",
            "Epoch 166/300\n",
            "48/48 [==============================] - 0s 3ms/step - loss: 0.1623 - val_loss: 0.2209\n",
            "Epoch 167/300\n",
            "48/48 [==============================] - 0s 3ms/step - loss: 0.1723 - val_loss: 0.2255\n",
            "Epoch 168/300\n",
            "48/48 [==============================] - 0s 4ms/step - loss: 0.1600 - val_loss: 0.2268\n",
            "Epoch 169/300\n",
            "48/48 [==============================] - 0s 3ms/step - loss: 0.1561 - val_loss: 0.2175\n",
            "Epoch 170/300\n",
            "48/48 [==============================] - 0s 4ms/step - loss: 0.1765 - val_loss: 0.2264\n",
            "Epoch 171/300\n",
            "48/48 [==============================] - 0s 4ms/step - loss: 0.1423 - val_loss: 0.2316\n",
            "Epoch 172/300\n",
            "48/48 [==============================] - 0s 4ms/step - loss: 0.1812 - val_loss: 0.2386\n",
            "Epoch 173/300\n",
            "48/48 [==============================] - 0s 3ms/step - loss: 0.1732 - val_loss: 0.2338\n",
            "Epoch 174/300\n",
            "48/48 [==============================] - 0s 4ms/step - loss: 0.1627 - val_loss: 0.2188\n",
            "Epoch 175/300\n",
            "48/48 [==============================] - 0s 4ms/step - loss: 0.1488 - val_loss: 0.2238\n",
            "Epoch 176/300\n",
            "48/48 [==============================] - 0s 3ms/step - loss: 0.1521 - val_loss: 0.2244\n",
            "Epoch 177/300\n",
            "48/48 [==============================] - 0s 3ms/step - loss: 0.1604 - val_loss: 0.2231\n",
            "Epoch 178/300\n",
            "48/48 [==============================] - 0s 3ms/step - loss: 0.1963 - val_loss: 0.2218\n",
            "Epoch 179/300\n",
            "48/48 [==============================] - 0s 4ms/step - loss: 0.1841 - val_loss: 0.2160\n",
            "Epoch 180/300\n",
            "48/48 [==============================] - 0s 4ms/step - loss: 0.1619 - val_loss: 0.2112\n",
            "Epoch 181/300\n",
            "48/48 [==============================] - 0s 4ms/step - loss: 0.1537 - val_loss: 0.2105\n",
            "Epoch 182/300\n",
            "48/48 [==============================] - 0s 4ms/step - loss: 0.1592 - val_loss: 0.2013\n",
            "Epoch 183/300\n",
            "48/48 [==============================] - 0s 3ms/step - loss: 0.1373 - val_loss: 0.2096\n",
            "Epoch 184/300\n",
            "48/48 [==============================] - 0s 4ms/step - loss: 0.1384 - val_loss: 0.2206\n",
            "Epoch 185/300\n",
            "48/48 [==============================] - 0s 4ms/step - loss: 0.1482 - val_loss: 0.2260\n",
            "Epoch 186/300\n",
            "48/48 [==============================] - 0s 4ms/step - loss: 0.1294 - val_loss: 0.2270\n",
            "Epoch 187/300\n",
            "48/48 [==============================] - 0s 3ms/step - loss: 0.1587 - val_loss: 0.2269\n",
            "Epoch 188/300\n",
            "48/48 [==============================] - 0s 3ms/step - loss: 0.1337 - val_loss: 0.2242\n",
            "Epoch 189/300\n",
            "48/48 [==============================] - 0s 4ms/step - loss: 0.1557 - val_loss: 0.2257\n",
            "Epoch 190/300\n",
            "48/48 [==============================] - 0s 4ms/step - loss: 0.1675 - val_loss: 0.2285\n",
            "Epoch 191/300\n",
            "48/48 [==============================] - 0s 4ms/step - loss: 0.1245 - val_loss: 0.2318\n",
            "Epoch 192/300\n",
            "48/48 [==============================] - 0s 3ms/step - loss: 0.1261 - val_loss: 0.2331\n",
            "Epoch 193/300\n",
            "48/48 [==============================] - 0s 3ms/step - loss: 0.1674 - val_loss: 0.2333\n",
            "Epoch 194/300\n",
            "48/48 [==============================] - 0s 3ms/step - loss: 0.1654 - val_loss: 0.2300\n",
            "Epoch 195/300\n",
            "48/48 [==============================] - 0s 3ms/step - loss: 0.1399 - val_loss: 0.2294\n",
            "Epoch 196/300\n",
            "48/48 [==============================] - 0s 3ms/step - loss: 0.1076 - val_loss: 0.2281\n",
            "Epoch 197/300\n",
            "48/48 [==============================] - 0s 3ms/step - loss: 0.1544 - val_loss: 0.2189\n",
            "Epoch 198/300\n",
            "48/48 [==============================] - 0s 4ms/step - loss: 0.1608 - val_loss: 0.2142\n",
            "Epoch 199/300\n",
            "48/48 [==============================] - 0s 3ms/step - loss: 0.1119 - val_loss: 0.2090\n",
            "Epoch 200/300\n",
            "48/48 [==============================] - 0s 4ms/step - loss: 0.1638 - val_loss: 0.2082\n",
            "Epoch 201/300\n",
            "48/48 [==============================] - 0s 4ms/step - loss: 0.1135 - val_loss: 0.2162\n",
            "Epoch 202/300\n",
            "48/48 [==============================] - 0s 3ms/step - loss: 0.1447 - val_loss: 0.2070\n",
            "Epoch 203/300\n",
            "48/48 [==============================] - 0s 4ms/step - loss: 0.1314 - val_loss: 0.2130\n",
            "Epoch 204/300\n",
            "48/48 [==============================] - 0s 3ms/step - loss: 0.1009 - val_loss: 0.2247\n",
            "Epoch 205/300\n",
            "48/48 [==============================] - 0s 3ms/step - loss: 0.1090 - val_loss: 0.2314\n",
            "Epoch 206/300\n",
            "48/48 [==============================] - 0s 3ms/step - loss: 0.1571 - val_loss: 0.2253\n",
            "Epoch 207/300\n",
            "48/48 [==============================] - 0s 3ms/step - loss: 0.1385 - val_loss: 0.2288\n",
            "Epoch 208/300\n",
            "48/48 [==============================] - 0s 4ms/step - loss: 0.1275 - val_loss: 0.2208\n",
            "Epoch 209/300\n",
            "48/48 [==============================] - 0s 3ms/step - loss: 0.1473 - val_loss: 0.2223\n",
            "Epoch 210/300\n",
            "48/48 [==============================] - 0s 4ms/step - loss: 0.2281 - val_loss: 0.2238\n",
            "Epoch 211/300\n",
            "48/48 [==============================] - 0s 3ms/step - loss: 0.1339 - val_loss: 0.2238\n",
            "Epoch 212/300\n",
            "48/48 [==============================] - 0s 3ms/step - loss: 0.1567 - val_loss: 0.2262\n",
            "Epoch 213/300\n",
            "48/48 [==============================] - 0s 2ms/step - loss: 0.1946 - val_loss: 0.2183\n",
            "Epoch 214/300\n",
            "48/48 [==============================] - 0s 3ms/step - loss: 0.1410 - val_loss: 0.2267\n",
            "Epoch 215/300\n",
            "48/48 [==============================] - 0s 3ms/step - loss: 0.1217 - val_loss: 0.2333\n",
            "Epoch 216/300\n",
            "48/48 [==============================] - 0s 3ms/step - loss: 0.1100 - val_loss: 0.2236\n",
            "Epoch 217/300\n",
            "48/48 [==============================] - 0s 3ms/step - loss: 0.1513 - val_loss: 0.2321\n",
            "Epoch 218/300\n",
            "48/48 [==============================] - 0s 2ms/step - loss: 0.1196 - val_loss: 0.2240\n",
            "Epoch 219/300\n",
            "48/48 [==============================] - 0s 3ms/step - loss: 0.1269 - val_loss: 0.2204\n",
            "Epoch 220/300\n",
            "48/48 [==============================] - 0s 3ms/step - loss: 0.1251 - val_loss: 0.2204\n",
            "Epoch 221/300\n",
            "48/48 [==============================] - 0s 4ms/step - loss: 0.0849 - val_loss: 0.2165\n",
            "Epoch 222/300\n",
            "48/48 [==============================] - 0s 3ms/step - loss: 0.1222 - val_loss: 0.2184\n",
            "Epoch 223/300\n",
            "48/48 [==============================] - 0s 4ms/step - loss: 0.1001 - val_loss: 0.2186\n",
            "Epoch 224/300\n",
            "48/48 [==============================] - 0s 3ms/step - loss: 0.0993 - val_loss: 0.2266\n",
            "Epoch 225/300\n",
            "48/48 [==============================] - 0s 3ms/step - loss: 0.1227 - val_loss: 0.2284\n",
            "Epoch 226/300\n",
            "48/48 [==============================] - 0s 3ms/step - loss: 0.1630 - val_loss: 0.2200\n",
            "Epoch 227/300\n",
            "48/48 [==============================] - 0s 3ms/step - loss: 0.1209 - val_loss: 0.2129\n",
            "Epoch 228/300\n",
            "48/48 [==============================] - 0s 2ms/step - loss: 0.1042 - val_loss: 0.2104\n",
            "Epoch 229/300\n",
            "48/48 [==============================] - 0s 3ms/step - loss: 0.1713 - val_loss: 0.2149\n",
            "Epoch 230/300\n",
            "48/48 [==============================] - 0s 4ms/step - loss: 0.1259 - val_loss: 0.2151\n",
            "Epoch 231/300\n",
            "48/48 [==============================] - 0s 3ms/step - loss: 0.1425 - val_loss: 0.2160\n",
            "Epoch 232/300\n",
            "48/48 [==============================] - 0s 3ms/step - loss: 0.0844 - val_loss: 0.2243\n",
            "Epoch 233/300\n",
            "48/48 [==============================] - 0s 4ms/step - loss: 0.1158 - val_loss: 0.2219\n",
            "Epoch 234/300\n",
            "48/48 [==============================] - 0s 3ms/step - loss: 0.0925 - val_loss: 0.2243\n",
            "Epoch 235/300\n",
            "48/48 [==============================] - 0s 3ms/step - loss: 0.0885 - val_loss: 0.2217\n",
            "Epoch 236/300\n",
            "48/48 [==============================] - 0s 4ms/step - loss: 0.1089 - val_loss: 0.2217\n",
            "Epoch 237/300\n",
            "48/48 [==============================] - 0s 3ms/step - loss: 0.1109 - val_loss: 0.2208\n",
            "Epoch 238/300\n",
            "48/48 [==============================] - 0s 3ms/step - loss: 0.1212 - val_loss: 0.2222\n",
            "Epoch 239/300\n",
            "48/48 [==============================] - 0s 3ms/step - loss: 0.1157 - val_loss: 0.2143\n",
            "Epoch 240/300\n",
            "48/48 [==============================] - 0s 3ms/step - loss: 0.1223 - val_loss: 0.2141\n",
            "Epoch 241/300\n",
            "48/48 [==============================] - 0s 3ms/step - loss: 0.1006 - val_loss: 0.2167\n",
            "Epoch 242/300\n",
            "48/48 [==============================] - 0s 3ms/step - loss: 0.1074 - val_loss: 0.2182\n",
            "Epoch 243/300\n",
            "48/48 [==============================] - 0s 2ms/step - loss: 0.1226 - val_loss: 0.2196\n",
            "Epoch 244/300\n",
            "48/48 [==============================] - 0s 3ms/step - loss: 0.0941 - val_loss: 0.2178\n",
            "Epoch 245/300\n",
            "48/48 [==============================] - 0s 3ms/step - loss: 0.1040 - val_loss: 0.2175\n",
            "Epoch 246/300\n",
            "48/48 [==============================] - 0s 3ms/step - loss: 0.1081 - val_loss: 0.2070\n",
            "Epoch 247/300\n",
            "48/48 [==============================] - 0s 3ms/step - loss: 0.1276 - val_loss: 0.2169\n",
            "Epoch 248/300\n",
            "48/48 [==============================] - 0s 4ms/step - loss: 0.0982 - val_loss: 0.2253\n",
            "Epoch 249/300\n",
            "48/48 [==============================] - 0s 2ms/step - loss: 0.1136 - val_loss: 0.2175\n",
            "Epoch 250/300\n",
            "48/48 [==============================] - 0s 3ms/step - loss: 0.1001 - val_loss: 0.2202\n",
            "Epoch 251/300\n",
            "48/48 [==============================] - 0s 3ms/step - loss: 0.0895 - val_loss: 0.2206\n",
            "Epoch 252/300\n",
            "48/48 [==============================] - 0s 2ms/step - loss: 0.0896 - val_loss: 0.2112\n",
            "Epoch 253/300\n",
            "48/48 [==============================] - 0s 4ms/step - loss: 0.1002 - val_loss: 0.2029\n",
            "Epoch 254/300\n",
            "48/48 [==============================] - 0s 3ms/step - loss: 0.0764 - val_loss: 0.2059\n",
            "Epoch 255/300\n",
            "48/48 [==============================] - 0s 3ms/step - loss: 0.1180 - val_loss: 0.2174\n",
            "Epoch 256/300\n",
            "48/48 [==============================] - 0s 3ms/step - loss: 0.1098 - val_loss: 0.2198\n",
            "Epoch 257/300\n",
            "48/48 [==============================] - 0s 3ms/step - loss: 0.0901 - val_loss: 0.2154\n",
            "Epoch 258/300\n",
            "48/48 [==============================] - 0s 3ms/step - loss: 0.1118 - val_loss: 0.2209\n",
            "Epoch 259/300\n",
            "48/48 [==============================] - 0s 4ms/step - loss: 0.1042 - val_loss: 0.2307\n",
            "Epoch 260/300\n",
            "48/48 [==============================] - 0s 4ms/step - loss: 0.0902 - val_loss: 0.2262\n",
            "Epoch 261/300\n",
            "48/48 [==============================] - 0s 3ms/step - loss: 0.1035 - val_loss: 0.2170\n",
            "Epoch 262/300\n",
            "48/48 [==============================] - 0s 3ms/step - loss: 0.1014 - val_loss: 0.2234\n",
            "Epoch 263/300\n",
            "48/48 [==============================] - 0s 3ms/step - loss: 0.0950 - val_loss: 0.2265\n",
            "Epoch 264/300\n",
            "48/48 [==============================] - 0s 3ms/step - loss: 0.0920 - val_loss: 0.2211\n",
            "Epoch 265/300\n",
            "48/48 [==============================] - 0s 4ms/step - loss: 0.1092 - val_loss: 0.2116\n",
            "Epoch 266/300\n",
            "48/48 [==============================] - 0s 4ms/step - loss: 0.0956 - val_loss: 0.2175\n",
            "Epoch 267/300\n",
            "48/48 [==============================] - 0s 4ms/step - loss: 0.1174 - val_loss: 0.2161\n",
            "Epoch 268/300\n",
            "48/48 [==============================] - 0s 3ms/step - loss: 0.1081 - val_loss: 0.2185\n",
            "Epoch 269/300\n",
            "48/48 [==============================] - 0s 4ms/step - loss: 0.0908 - val_loss: 0.2164\n",
            "Epoch 270/300\n",
            "48/48 [==============================] - 0s 3ms/step - loss: 0.0719 - val_loss: 0.2155\n",
            "Epoch 271/300\n",
            "48/48 [==============================] - 0s 3ms/step - loss: 0.1242 - val_loss: 0.2150\n",
            "Epoch 272/300\n",
            "48/48 [==============================] - 0s 3ms/step - loss: 0.1031 - val_loss: 0.2157\n",
            "Epoch 273/300\n",
            "48/48 [==============================] - 0s 4ms/step - loss: 0.0762 - val_loss: 0.2117\n",
            "Epoch 274/300\n",
            "48/48 [==============================] - 0s 3ms/step - loss: 0.1498 - val_loss: 0.2197\n",
            "Epoch 275/300\n",
            "48/48 [==============================] - 0s 4ms/step - loss: 0.0705 - val_loss: 0.2202\n",
            "Epoch 276/300\n",
            "48/48 [==============================] - 0s 3ms/step - loss: 0.0916 - val_loss: 0.2155\n",
            "Epoch 277/300\n",
            "48/48 [==============================] - 0s 4ms/step - loss: 0.0804 - val_loss: 0.2199\n",
            "Epoch 278/300\n",
            "48/48 [==============================] - 0s 4ms/step - loss: 0.1234 - val_loss: 0.2238\n",
            "Epoch 279/300\n",
            "48/48 [==============================] - 0s 3ms/step - loss: 0.0727 - val_loss: 0.2206\n",
            "Epoch 280/300\n",
            "48/48 [==============================] - 0s 3ms/step - loss: 0.1113 - val_loss: 0.2218\n",
            "Epoch 281/300\n",
            "48/48 [==============================] - 0s 3ms/step - loss: 0.0833 - val_loss: 0.2196\n",
            "Epoch 282/300\n",
            "48/48 [==============================] - 0s 4ms/step - loss: 0.0879 - val_loss: 0.2185\n",
            "Epoch 283/300\n",
            "48/48 [==============================] - 0s 4ms/step - loss: 0.0882 - val_loss: 0.2288\n",
            "Epoch 284/300\n",
            "48/48 [==============================] - 0s 3ms/step - loss: 0.0656 - val_loss: 0.2374\n",
            "Epoch 285/300\n",
            "48/48 [==============================] - 0s 3ms/step - loss: 0.0870 - val_loss: 0.2271\n",
            "Epoch 286/300\n",
            "48/48 [==============================] - 0s 3ms/step - loss: 0.0963 - val_loss: 0.2282\n",
            "Epoch 287/300\n",
            "48/48 [==============================] - 0s 3ms/step - loss: 0.0772 - val_loss: 0.2286\n",
            "Epoch 288/300\n",
            "48/48 [==============================] - 0s 4ms/step - loss: 0.0795 - val_loss: 0.2350\n",
            "Epoch 289/300\n",
            "48/48 [==============================] - 0s 4ms/step - loss: 0.0835 - val_loss: 0.2399\n",
            "Epoch 290/300\n",
            "48/48 [==============================] - 0s 3ms/step - loss: 0.0915 - val_loss: 0.2462\n",
            "Epoch 291/300\n",
            "48/48 [==============================] - 0s 4ms/step - loss: 0.1153 - val_loss: 0.2386\n",
            "Epoch 292/300\n",
            "48/48 [==============================] - 0s 3ms/step - loss: 0.0890 - val_loss: 0.2363\n",
            "Epoch 293/300\n",
            "48/48 [==============================] - 0s 3ms/step - loss: 0.0908 - val_loss: 0.2373\n",
            "Epoch 294/300\n",
            "48/48 [==============================] - 0s 3ms/step - loss: 0.1198 - val_loss: 0.2241\n",
            "Epoch 295/300\n",
            "48/48 [==============================] - 0s 3ms/step - loss: 0.0844 - val_loss: 0.2239\n",
            "Epoch 296/300\n",
            "48/48 [==============================] - 0s 4ms/step - loss: 0.0896 - val_loss: 0.2246\n",
            "Epoch 297/300\n",
            "48/48 [==============================] - 0s 4ms/step - loss: 0.0824 - val_loss: 0.2285\n",
            "Epoch 298/300\n",
            "48/48 [==============================] - 0s 3ms/step - loss: 0.0760 - val_loss: 0.2228\n",
            "Epoch 299/300\n",
            "48/48 [==============================] - 0s 4ms/step - loss: 0.1043 - val_loss: 0.2185\n",
            "Epoch 300/300\n",
            "48/48 [==============================] - 0s 3ms/step - loss: 0.1037 - val_loss: 0.2140\n",
            "2/2 [==============================] - 0s 6ms/step - loss: 0.1934\n",
            "\n",
            "\n",
            "score:  0.19337832927703857\n"
          ]
        }
      ]
    },
    {
      "cell_type": "code",
      "source": [
        "fig = plt.figure(figsize=(10, 5))\n",
        "plt.subplot(1,1,1)\n",
        "plt.plot(history.history['loss'])\n",
        "plt.plot(history.history['val_loss'])\n",
        "plt.title('model loss')\n",
        "plt.ylabel('loss')\n",
        "plt.xlabel('epoch')\n",
        "plt.legend(['train', 'val'], loc='upper left')\n",
        "plt.show()"
      ],
      "metadata": {
        "colab": {
          "base_uri": "https://localhost:8080/",
          "height": 350
        },
        "id": "0MVMMfMSyHmX",
        "outputId": "3b184bb8-2875-41dd-9cbe-929a52890868"
      },
      "execution_count": 37,
      "outputs": [
        {
          "output_type": "display_data",
          "data": {
            "text/plain": [
              "<Figure size 720x360 with 1 Axes>"
            ],
            "image/png": "[encoded data removed]"
          },
          "metadata": {
            "needs_background": "light"
          }
        }
      ]
    }
  ]
}