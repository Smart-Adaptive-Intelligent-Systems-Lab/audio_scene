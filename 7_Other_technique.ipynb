{
  "nbformat": 4,
  "nbformat_minor": 0,
  "metadata": {
    "colab": {
      "name": "7- Other technique.ipynb",
      "provenance": [],
      "collapsed_sections": [
        "M6L7cwQAAdpq",
        "2PPd7_Lw5VmC",
        "m3KWpcON8jlL",
        "LkdLMSXV-7Tr",
        "X6XwQNLh_hDa",
        "HwLQpTBsB9kq",
        "mCiIU7fjFJEy",
        "lOjYCqi2IM1r",
        "X2BFCCJMLhf8"
      ]
    },
    "kernelspec": {
      "name": "python3",
      "display_name": "Python 3"
    },
    "language_info": {
      "name": "python"
    }
  },
  "cells": [
    {
      "cell_type": "code",
      "execution_count": null,
      "metadata": {
        "id": "EBNu42T85GhJ"
      },
      "outputs": [],
      "source": [
        "!wget https://perso.esiee.fr/~gueurett/LV_Research/dataset_audio.zip\n",
        "!unzip dataset_audio.zip"
      ]
    },
    {
      "cell_type": "code",
      "source": [
        "# if wget desn't work (happens sometimes I believe it's because my school servers are blocking the access), import the dataset manualy and unzip on this block\n",
        "!unzip dataset_audio.zip"
      ],
      "metadata": {
        "id": "L9_yg-vN5MCd"
      },
      "execution_count": null,
      "outputs": []
    },
    {
      "cell_type": "code",
      "source": [
        "!pip install pydub"
      ],
      "metadata": {
        "id": "axprBYJ55Nkj"
      },
      "execution_count": null,
      "outputs": []
    },
    {
      "cell_type": "code",
      "source": [
        "import os\n",
        "import time\n",
        "import numpy as np\n",
        "import matplotlib.pyplot as plt\n",
        "\n",
        "from pydub import AudioSegment\n",
        "from sklearn import preprocessing\n",
        "from scipy.io.wavfile import read\n",
        "\n",
        "from sklearn.metrics import accuracy_score\n",
        "from sklearn.model_selection import train_test_split\n",
        "\n",
        "from sklearn.svm import SVC\n",
        "from xgboost import XGBClassifier\n",
        "from sklearn.naive_bayes import GaussianNB\n",
        "from sklearn.tree import DecisionTreeClassifier\n",
        "from sklearn.ensemble import AdaBoostClassifier\n",
        "from sklearn.linear_model import LinearRegression\n",
        "from sklearn.neighbors import KNeighborsClassifier\n",
        "from sklearn.ensemble import RandomForestClassifier\n",
        "from sklearn.linear_model import LogisticRegression"
      ],
      "metadata": {
        "id": "fpni_gfP5OrK"
      },
      "execution_count": null,
      "outputs": []
    },
    {
      "cell_type": "markdown",
      "source": [
        "---\n",
        "---\n",
        "\n",
        "# **Preprocessing**\n",
        "\n"
      ],
      "metadata": {
        "id": "M6L7cwQAAdpq"
      }
    },
    {
      "cell_type": "code",
      "source": [
        "def delete_excess(data):\n",
        "  return data[:length_audio]\n",
        "\n",
        "def add_average(data):\n",
        "  result = np.zeros(shape=(length_audio,))\n",
        "  end = data.shape[0]\n",
        "  mean = np.mean(data[end-25:])\n",
        "  result[:end] = data\n",
        "  result[end:] = mean\n",
        "  return result"
      ],
      "metadata": {
        "id": "X8Y7HrOS5QoC"
      },
      "execution_count": null,
      "outputs": []
    },
    {
      "cell_type": "code",
      "source": [
        "directory = \"./dataset_audio/\"\n",
        "file_name = \"I0474.wav\"\n",
        "path = directory + file_name\n",
        "\n",
        "print(path)\n",
        "\n",
        "rate, data = read(path)\n",
        "\n",
        "print(\"rate = \", rate)\n",
        "print(\"data.shape = \", data.shape)\n",
        "\n",
        "length = data.shape[0] / rate\n",
        "print(\"length(s): \", length, \"s\")\n",
        "length_audio = data.shape[0]\n",
        "print(\"length of unique audio:\", length_audio)\n",
        "nb_channels = data.shape[1]\n",
        "print(\"number of channels: \", nb_channels)\n",
        "\n",
        "n_samples = 0\n",
        "for file_name in os.listdir(directory):\n",
        "  n_samples += 1\n",
        "print(\"number of files:\", n_samples)\n",
        "\n",
        "dataset = np.zeros(shape=(n_samples, length_audio))\n",
        "\n",
        "# creating the dataset and labels\n",
        "\n",
        "labels = np.zeros(shape=(n_samples,))\n",
        "\n",
        "# reshaping the data if not exactly 4s\n",
        "for index, filename in enumerate(os.listdir(directory)):\n",
        "  if filename[0] == 'I': labels[index] = 1    # indoor is 1, outdoor is 0\n",
        "  path = directory + filename\n",
        "  rate, data = read(path)\n",
        "  data = np.mean(data,axis=1)\n",
        "  dim = data.shape\n",
        "  if dim != (length_audio, nb_channels):\n",
        "    if dim[0] > length_audio:\n",
        "      result = delete_excess(data)\n",
        "    else:\n",
        "      result = add_average(data)\n",
        "    dataset[index] = result\n",
        "  else:\n",
        "    dataset[index] = data\n",
        "\n",
        "dataset = (dataset - np.mean(dataset)) / np.std(dataset)  # let's normalize\n",
        "\n",
        "print(\"----------------------------------\")\n",
        "print(\"| dataset.shape: \", dataset.shape)\n",
        "print(\"| labels.shape : \", labels.shape)\n",
        "print(\"----------------------------------\")"
      ],
      "metadata": {
        "colab": {
          "base_uri": "https://localhost:8080/"
        },
        "id": "tK3cv0CV5R_6",
        "outputId": "22b8089e-1c61-41a6-b892-f0abc174d781"
      },
      "execution_count": null,
      "outputs": [
        {
          "output_type": "stream",
          "name": "stdout",
          "text": [
            "./dataset_audio/I0474.wav\n",
            "rate =  44100\n",
            "data.shape =  (176400, 2)\n",
            "length(s):  4.0 s\n",
            "length of unique audio: 176400\n",
            "number of channels:  2\n",
            "number of files: 200\n",
            "----------------------------------\n",
            "| dataset.shape:  (200, 176400)\n",
            "| labels.shape :  (200,)\n",
            "----------------------------------\n"
          ]
        }
      ]
    },
    {
      "cell_type": "code",
      "source": [
        "spliter = 0.2\n",
        "index = int(n_samples * (1-spliter))\n",
        "\n",
        "train_x = dataset[:index]\n",
        "test_x  = dataset[index:]\n",
        "\n",
        "train_y = labels[:index]\n",
        "test_y  = labels[index:]\n",
        "\n",
        "print(\"----------------------------------\")\n",
        "print(\"| train_x.shape: \", train_x.shape)\n",
        "print(\"| train_y.shape : \", train_y.shape)\n",
        "print(\"----------------------------------\")\n",
        "print(\"| test_x.shape: \", test_x.shape)\n",
        "print(\"| test_y.shape : \", test_y.shape)\n",
        "print(\"----------------------------------\")"
      ],
      "metadata": {
        "colab": {
          "base_uri": "https://localhost:8080/"
        },
        "id": "eKL7THXT9bC0",
        "outputId": "79746a90-3e5f-45bb-9b04-f3c6619f0c29"
      },
      "execution_count": null,
      "outputs": [
        {
          "output_type": "stream",
          "name": "stdout",
          "text": [
            "----------------------------------\n",
            "| train_x.shape:  (160, 176400)\n",
            "| train_y.shape :  (160,)\n",
            "----------------------------------\n",
            "| test_x.shape:  (40, 176400)\n",
            "| test_y.shape :  (40,)\n",
            "----------------------------------\n"
          ]
        }
      ]
    },
    {
      "cell_type": "markdown",
      "source": [
        "---\n",
        "---\n",
        "\n",
        "# **AdaBOOST**"
      ],
      "metadata": {
        "id": "2PPd7_Lw5VmC"
      }
    },
    {
      "cell_type": "code",
      "source": [
        "ada = AdaBoostClassifier(n_estimators=100, random_state=8)\n",
        "ada.fit(train_x, train_y)\n",
        "\n",
        "print(ada.score(test_x, test_y))"
      ],
      "metadata": {
        "colab": {
          "base_uri": "https://localhost:8080/"
        },
        "id": "kMmDBZQw8jd1",
        "outputId": "5123fa41-cc10-4f9a-d2d3-0b729fa54f4d"
      },
      "execution_count": null,
      "outputs": [
        {
          "output_type": "stream",
          "name": "stdout",
          "text": [
            "0.625\n"
          ]
        }
      ]
    },
    {
      "cell_type": "markdown",
      "source": [
        "---\n",
        "---\n",
        "# **KNearestNeighbors**"
      ],
      "metadata": {
        "id": "m3KWpcON8jlL"
      }
    },
    {
      "cell_type": "code",
      "source": [
        "kneigh = KNeighborsClassifier(n_neighbors=150, leaf_size=50)\n",
        "kneigh.fit(train_x, train_y)\n",
        "\n",
        "print(kneigh.score(test_x, test_y))"
      ],
      "metadata": {
        "colab": {
          "base_uri": "https://localhost:8080/"
        },
        "id": "sM-wzdcy-qWl",
        "outputId": "d912a852-cef7-4cf4-9847-d8ba3484d160"
      },
      "execution_count": null,
      "outputs": [
        {
          "output_type": "stream",
          "name": "stdout",
          "text": [
            "0.675\n"
          ]
        }
      ]
    },
    {
      "cell_type": "markdown",
      "source": [
        "---\n",
        "---\n",
        "\n",
        "# **Decision Tree Classifier**"
      ],
      "metadata": {
        "id": "LkdLMSXV-7Tr"
      }
    },
    {
      "cell_type": "code",
      "source": [
        "tree = DecisionTreeClassifier(max_depth=1000, min_samples_split=5, min_samples_leaf=5, max_features='auto', random_state=8)\n",
        "tree.fit(train_x, train_y)\n",
        "\n",
        "print(tree.score(test_x, test_y))"
      ],
      "metadata": {
        "colab": {
          "base_uri": "https://localhost:8080/"
        },
        "id": "Nt11xy4A_PtA",
        "outputId": "4df92c10-37ba-4577-9d13-6e42c1b42b84"
      },
      "execution_count": null,
      "outputs": [
        {
          "output_type": "stream",
          "name": "stdout",
          "text": [
            "0.625\n"
          ]
        }
      ]
    },
    {
      "cell_type": "markdown",
      "source": [
        "---\n",
        "---\n",
        "# **Naive Bayes**"
      ],
      "metadata": {
        "id": "X6XwQNLh_hDa"
      }
    },
    {
      "cell_type": "code",
      "source": [
        "nb = GaussianNB()\n",
        "nb.fit(train_x, train_y)\n",
        "\n",
        "print(nb.score(test_x, test_y)) # 0.35 == 0.65 ??"
      ],
      "metadata": {
        "colab": {
          "base_uri": "https://localhost:8080/"
        },
        "id": "BWkIgl5C_nOC",
        "outputId": "8a1cc076-0e57-4c5b-e598-faf99713d5f6"
      },
      "execution_count": null,
      "outputs": [
        {
          "output_type": "stream",
          "name": "stdout",
          "text": [
            "0.35\n"
          ]
        }
      ]
    },
    {
      "cell_type": "markdown",
      "source": [
        "---\n",
        "---\n",
        "# **SVM**"
      ],
      "metadata": {
        "id": "HwLQpTBsB9kq"
      }
    },
    {
      "cell_type": "code",
      "source": [
        "svm = SVC()\n",
        "svm.fit(train_x, train_y)\n",
        "\n",
        "print(svm.score(test_x, test_y))"
      ],
      "metadata": {
        "colab": {
          "base_uri": "https://localhost:8080/"
        },
        "id": "_Ky-ZJPeB82G",
        "outputId": "517e140a-459a-4ed7-df42-00817fe490c6"
      },
      "execution_count": null,
      "outputs": [
        {
          "output_type": "stream",
          "name": "stdout",
          "text": [
            "0.675\n"
          ]
        }
      ]
    },
    {
      "cell_type": "markdown",
      "source": [
        "---\n",
        "---\n",
        "# **Logistic Regression**"
      ],
      "metadata": {
        "id": "mCiIU7fjFJEy"
      }
    },
    {
      "cell_type": "code",
      "source": [
        "lr = LogisticRegression(random_state=8)\n",
        "lr.fit(train_x, train_y)\n",
        "\n",
        "print(lr.score(test_x, test_y))"
      ],
      "metadata": {
        "colab": {
          "base_uri": "https://localhost:8080/"
        },
        "id": "3m8C8B3GGG9r",
        "outputId": "12e4d909-1cea-4886-ba85-bbba7738ee12"
      },
      "execution_count": null,
      "outputs": [
        {
          "output_type": "stream",
          "name": "stdout",
          "text": [
            "0.525\n"
          ]
        }
      ]
    },
    {
      "cell_type": "markdown",
      "source": [
        "---\n",
        "---\n",
        "# **RandomForestClassifier**"
      ],
      "metadata": {
        "id": "lOjYCqi2IM1r"
      }
    },
    {
      "cell_type": "code",
      "source": [
        "rfc = RandomForestClassifier(n_estimators=1000, max_depth=None, min_samples_split=2, min_samples_leaf=1, max_features='sqrt', oob_score=True, random_state=8)\n",
        "rfc.fit(dataset, labels)\n",
        "\n",
        "print(rfc.oob_score_)"
      ],
      "metadata": {
        "colab": {
          "base_uri": "https://localhost:8080/"
        },
        "id": "cfxmXOR6IPcA",
        "outputId": "f1613573-b13b-41f2-d989-5988e12d79c0"
      },
      "execution_count": null,
      "outputs": [
        {
          "output_type": "stream",
          "name": "stdout",
          "text": [
            "0.67\n"
          ]
        }
      ]
    },
    {
      "cell_type": "markdown",
      "source": [
        "---\n",
        "---\n",
        "# **XGBoost**"
      ],
      "metadata": {
        "id": "X2BFCCJMLhf8"
      }
    },
    {
      "cell_type": "code",
      "source": [
        "train_x, test_x, train_y, test_y = train_test_split(dataset, labels, test_size=0.3, random_state=8)\n",
        "\n",
        "model = XGBClassifier(use_label_encoder=False, eval_metric='mlogloss')"
      ],
      "metadata": {
        "id": "fv-Y6Y55OGTU"
      },
      "execution_count": null,
      "outputs": []
    },
    {
      "cell_type": "code",
      "source": [
        "model.fit(train_x, train_y)"
      ],
      "metadata": {
        "colab": {
          "base_uri": "https://localhost:8080/"
        },
        "id": "X1LW0SyhOSN1",
        "outputId": "151de52f-142e-48ef-b196-62e51d7a46ef"
      },
      "execution_count": null,
      "outputs": [
        {
          "output_type": "execute_result",
          "data": {
            "text/plain": [
              "XGBClassifier(eval_metric='mlogloss', use_label_encoder=False)"
            ]
          },
          "metadata": {},
          "execution_count": 14
        }
      ]
    },
    {
      "cell_type": "code",
      "source": [
        "predictions = model.predict(test_x)\n",
        "accuracy = accuracy_score(test_y, predictions)\n",
        "print(accuracy)"
      ],
      "metadata": {
        "colab": {
          "base_uri": "https://localhost:8080/"
        },
        "id": "4Fadu_7AO7eL",
        "outputId": "fc14ccec-47c3-4492-c45c-f09ed020c02e"
      },
      "execution_count": null,
      "outputs": [
        {
          "output_type": "stream",
          "name": "stdout",
          "text": [
            "0.6833333333333333\n"
          ]
        }
      ]
    },
    {
      "cell_type": "markdown",
      "source": [
        "---\n",
        "---\n",
        "# **Linear Regression**"
      ],
      "metadata": {
        "id": "SC_jiKoLQkjK"
      }
    },
    {
      "cell_type": "code",
      "source": [
        "linreg = LinearRegression()\n",
        "\n",
        "linreg.fit(train_x, train_y)\n",
        "print(linreg.score(test_x, test_y))"
      ],
      "metadata": {
        "colab": {
          "base_uri": "https://localhost:8080/"
        },
        "id": "nLY3rc60Qoej",
        "outputId": "515eb5c0-cd5e-409f-b3b7-53720632b15a"
      },
      "execution_count": null,
      "outputs": [
        {
          "output_type": "stream",
          "name": "stdout",
          "text": [
            "-55.25416384136285\n"
          ]
        }
      ]
    }
  ]
}